{
 "cells": [
  {
   "cell_type": "markdown",
   "metadata": {},
   "source": [
    "# Python Linked List\n",
    "\n",
    "## Clase Lista enlazada"
   ]
  },
  {
   "cell_type": "code",
   "execution_count": 100,
   "metadata": {},
   "outputs": [],
   "source": [
    "class LinkedList:\n",
    "    \n",
    "    def __init__(self):\n",
    "        self.p_start = None\n",
    "        self.p_end = None\n",
    "        self.list_size = 0\n",
    "    \n",
    "    \n",
    "    def __str__(self):\n",
    "        return hex(id(self.p_start))\n",
    "\n",
    "    \n",
    "    def print_list(self):\n",
    "        \n",
    "        node = Node(hex(id(self.p_start)))\n",
    "\n",
    "        while node.next != None:\n",
    "            print(node.value)\n",
    "    \n",
    "    \n",
    "    def insert_begin(self, value):\n",
    "        \n",
    "        node = Node(value)\n",
    "        \n",
    "        if self.list_size == 0:\n",
    "            self.p_start = node\n",
    "            self.p_final = node\n",
    "        else:\n",
    "            node.next = self.p_start\n",
    "            self.p_end = self.p_start\n",
    "            self.p_start = node\n",
    "            \n",
    "        self.list_size += 1\n",
    "        "
   ]
  },
  {
   "cell_type": "markdown",
   "metadata": {},
   "source": [
    "## Clase Nodo"
   ]
  },
  {
   "cell_type": "code",
   "execution_count": 102,
   "metadata": {},
   "outputs": [],
   "source": [
    "class Node:\n",
    "    def __init__(self, value):\n",
    "        self.value = value\n",
    "        self.next = None\n",
    "    \n",
    "    def __str__(self):\n",
    "        return str(self.value)"
   ]
  },
  {
   "cell_type": "markdown",
   "metadata": {},
   "source": [
    "## Main program"
   ]
  },
  {
   "cell_type": "code",
   "execution_count": 103,
   "metadata": {},
   "outputs": [
    {
     "name": "stdout",
     "output_type": "stream",
     "text": [
      "0x7f9e866b0278\n"
     ]
    }
   ],
   "source": [
    "llist = LinkedList()\n",
    "\n",
    "llist.insert_begin(2)\n",
    "llist.insert_begin(3)\n",
    "\n",
    "llist.print_list()"
   ]
  },
  {
   "cell_type": "code",
   "execution_count": null,
   "metadata": {},
   "outputs": [],
   "source": []
  },
  {
   "cell_type": "code",
   "execution_count": null,
   "metadata": {},
   "outputs": [],
   "source": []
  }
 ],
 "metadata": {
  "kernelspec": {
   "display_name": "Python 3",
   "language": "python",
   "name": "python3"
  },
  "language_info": {
   "codemirror_mode": {
    "name": "ipython",
    "version": 3
   },
   "file_extension": ".py",
   "mimetype": "text/x-python",
   "name": "python",
   "nbconvert_exporter": "python",
   "pygments_lexer": "ipython3",
   "version": "3.6.9"
  }
 },
 "nbformat": 4,
 "nbformat_minor": 4
}
