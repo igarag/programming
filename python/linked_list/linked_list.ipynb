{
 "cells": [
  {
   "cell_type": "markdown",
   "metadata": {},
   "source": [
    "# Python Linked List\n",
    "\n",
    "## Linked list Class"
   ]
  },
  {
   "cell_type": "code",
   "execution_count": 19,
   "metadata": {},
   "outputs": [],
   "source": [
    "import random"
   ]
  },
  {
   "cell_type": "code",
   "execution_count": 95,
   "metadata": {},
   "outputs": [],
   "source": [
    "class LinkedList:\n",
    "    \n",
    "    def __init__(self):\n",
    "        self.head = None\n",
    "        self.end = None\n",
    "        self.list_size = 0\n",
    "    \n",
    "    def __str__(self):\n",
    "        return hex(id(self.head))\n",
    "\n",
    "    def print_simple_list(self):\n",
    "        \n",
    "        node = self.head\n",
    "        \n",
    "        if self.list_size == 0:\n",
    "            print(\"Empty list!!\")\n",
    "        elif self.list_size == 1:\n",
    "            print(node.value)\n",
    "        else:\n",
    "            while node.next != None:\n",
    "                print('{} -> '.format(node.value), end='')\n",
    "                node = node.next\n",
    "            else:\n",
    "                print(node.value)\n",
    "    \n",
    "    def print_detailed_list(self):\n",
    "        \n",
    "        node = self.head\n",
    "        \n",
    "        if self.list_size == 0:\n",
    "            print(\"Empty list!!\")\n",
    "        elif self.list_size == 1:\n",
    "            print(node.value)\n",
    "        else:\n",
    "            while node.next != None:\n",
    "                print('current dir: {} | value: {} | next: {}\\n'.format(hex(id(node)), node.value, hex(id(node.next))), end='')\n",
    "                node = node.next\n",
    "            else:\n",
    "                print('current dir: {} | value: {} | next: {}\\n'.format(hex(id(node)), node.value, node.next), end='')\n",
    "    \n",
    "    def insert_begin(self, int=value):\n",
    "        \n",
    "        node = Node(value)\n",
    "        \n",
    "        if self.list_size == 0:\n",
    "            self.head = node\n",
    "            self.end = node\n",
    "        else:\n",
    "            node.next = self.head\n",
    "            self.head = node\n",
    "            \n",
    "        self.list_size += 1\n",
    "        \n",
    "    def insert_end(self, int=value):\n",
    "        pass\n",
    "    \n",
    "    def insert_position(self, pos):\n",
    "        pass\n",
    "    \n",
    "    def delete_begin(self, value):\n",
    "        pass\n",
    "    \n",
    "    def delete_end(self, value):\n",
    "        pass\n",
    "    \n",
    "    def delete_in_position(self, pos):\n",
    "        pass\n",
    "        "
   ]
  },
  {
   "cell_type": "markdown",
   "metadata": {},
   "source": [
    "## Node Class"
   ]
  },
  {
   "cell_type": "code",
   "execution_count": 96,
   "metadata": {},
   "outputs": [],
   "source": [
    "class Node:\n",
    "    def __init__(self, int=value):\n",
    "        self.value = value\n",
    "        self.next = None\n",
    "    \n",
    "    def __str__(self):\n",
    "        return str(self.value)"
   ]
  },
  {
   "cell_type": "markdown",
   "metadata": {},
   "source": [
    "## Main program"
   ]
  },
  {
   "cell_type": "code",
   "execution_count": 97,
   "metadata": {},
   "outputs": [
    {
     "name": "stdout",
     "output_type": "stream",
     "text": [
      "4 -> 6 -> 7 -> 5 -> 6 -> 5 -> 6 -> 10 -> 3 -> 6\n"
     ]
    }
   ],
   "source": [
    "llist = LinkedList()\n",
    "\n",
    "# Insert dummy list at the beginning\n",
    "for i in range(10):\n",
    "    value = random.randint(1, 10)\n",
    "    llist.insert_begin(value)"
   ]
  },
  {
   "cell_type": "markdown",
   "metadata": {},
   "source": [
    "## Print Simple list"
   ]
  },
  {
   "cell_type": "code",
   "execution_count": 100,
   "metadata": {},
   "outputs": [
    {
     "name": "stdout",
     "output_type": "stream",
     "text": [
      "4 -> 6 -> 7 -> 5 -> 6 -> 5 -> 6 -> 10 -> 3 -> 6\n"
     ]
    }
   ],
   "source": [
    "llist.print_simple_list()"
   ]
  },
  {
   "cell_type": "markdown",
   "metadata": {},
   "source": [
    "## Print detailed List:"
   ]
  },
  {
   "cell_type": "code",
   "execution_count": 101,
   "metadata": {},
   "outputs": [
    {
     "name": "stdout",
     "output_type": "stream",
     "text": [
      "current dir: 0x7fd5b1af7e48 | value: 4 | next: 0x7fd5b1af7d68\n",
      "current dir: 0x7fd5b1af7d68 | value: 6 | next: 0x7fd5b1af7b70\n",
      "current dir: 0x7fd5b1af7b70 | value: 7 | next: 0x7fd5b1af7da0\n",
      "current dir: 0x7fd5b1af7da0 | value: 5 | next: 0x7fd5b1af7cf8\n",
      "current dir: 0x7fd5b1af7cf8 | value: 6 | next: 0x7fd5b1af79e8\n",
      "current dir: 0x7fd5b1af79e8 | value: 5 | next: 0x7fd5b1af7f28\n",
      "current dir: 0x7fd5b1af7f28 | value: 6 | next: 0x7fd5b1af7390\n",
      "current dir: 0x7fd5b1af7390 | value: 10 | next: 0x7fd5b1af74e0\n",
      "current dir: 0x7fd5b1af74e0 | value: 3 | next: 0x7fd5b1af7208\n",
      "current dir: 0x7fd5b1af7208 | value: 6 | next: None\n"
     ]
    }
   ],
   "source": [
    "llist.print_detailed_list()"
   ]
  },
  {
   "cell_type": "code",
   "execution_count": null,
   "metadata": {},
   "outputs": [],
   "source": []
  }
 ],
 "metadata": {
  "kernelspec": {
   "display_name": "Python 3",
   "language": "python",
   "name": "python3"
  },
  "language_info": {
   "codemirror_mode": {
    "name": "ipython",
    "version": 3
   },
   "file_extension": ".py",
   "mimetype": "text/x-python",
   "name": "python",
   "nbconvert_exporter": "python",
   "pygments_lexer": "ipython3",
   "version": "3.6.9"
  }
 },
 "nbformat": 4,
 "nbformat_minor": 4
}
