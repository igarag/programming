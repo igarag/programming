{
 "cells": [
  {
   "cell_type": "markdown",
   "metadata": {},
   "source": [
    "# Python Linked List\n",
    "\n",
    "## Linked list Class"
   ]
  },
  {
   "cell_type": "code",
   "execution_count": 4,
   "metadata": {},
   "outputs": [],
   "source": [
    "import random"
   ]
  },
  {
   "cell_type": "code",
   "execution_count": 60,
   "metadata": {},
   "outputs": [],
   "source": [
    "class LinkedList:\n",
    "    \n",
    "    def __init__(self):\n",
    "        self.head = None\n",
    "        self.end = None\n",
    "        self.list_size = 0\n",
    "    \n",
    "    def __str__(self):\n",
    "        return hex(id(self.head))\n",
    "\n",
    "    def print_simple_list(self):\n",
    "        \n",
    "        node = self.head\n",
    "        \n",
    "        if self.list_size == 0:\n",
    "            print(\"Empty list!!\")\n",
    "        elif self.list_size == 1:\n",
    "            print(node.value)\n",
    "        else:\n",
    "            while node.next != None:\n",
    "                print('{} -> '.format(node.value), end='')\n",
    "                node = node.next\n",
    "            else:\n",
    "                print(node.value)\n",
    "    \n",
    "    def print_detailed_list(self):\n",
    "        \n",
    "        node = self.head\n",
    "        \n",
    "        if self.list_size == 0:\n",
    "            print(\"Empty list!!\")\n",
    "        elif self.list_size == 1:\n",
    "            print(node.value)\n",
    "        else:\n",
    "            while node.next != None:\n",
    "                print('current dir: {} | value: {} | next: {}\\n'.format(hex(id(node)), node.value, hex(id(node.next))), end='')\n",
    "                node = node.next\n",
    "            else:\n",
    "                print('current dir: {} | value: {} | next: {}\\n'.format(hex(id(node)), node.value, node.next), end='')\n",
    "    \n",
    "    \n",
    "    def insert_begin(self, value):\n",
    "        \n",
    "        node = Node(value)\n",
    "        \n",
    "        if self.list_size == 0:\n",
    "            self.head = node\n",
    "            self.end = node\n",
    "        else:\n",
    "            node.next = self.head\n",
    "            self.head = node\n",
    "            \n",
    "        self.list_size += 1\n",
    "        \n",
    "        \n",
    "    def insert_end(self, value):\n",
    "        \n",
    "        new_node = Node(value)\n",
    "        \n",
    "        self.end.next = new_node\n",
    "        self.end = new_node\n",
    "        new_node.next = None\n",
    "        \n",
    "        self.list_size += 1\n",
    "        \n",
    "    \n",
    "    def insert_position(self, value, pos):\n",
    "        pass\n",
    "    \n",
    "    \n",
    "    def delete_begin(self):\n",
    "        \n",
    "        node = self.head\n",
    "        new_head = node.next\n",
    "        self.head = new_head\n",
    "        \n",
    "    \n",
    "    def delete_end(self):\n",
    "        \n",
    "        node = self.head\n",
    "        node_prev = None\n",
    "        \n",
    "        while node.next != None:\n",
    "            node_prev = node\n",
    "            node = node.next\n",
    "        else:\n",
    "            self.end = node_prev\n",
    "            node_prev.next = None\n",
    "            node = None\n",
    "        \n",
    "        self.list_size -= 1\n",
    "\n",
    "    \n",
    "    def delete_in_position(self, pos):\n",
    "        pass\n",
    "        "
   ]
  },
  {
   "cell_type": "markdown",
   "metadata": {},
   "source": [
    "## Node Class"
   ]
  },
  {
   "cell_type": "code",
   "execution_count": 61,
   "metadata": {},
   "outputs": [],
   "source": [
    "class Node:\n",
    "    def __init__(self, value):\n",
    "        self.value = value\n",
    "        self.next = None\n",
    "    \n",
    "    def __str__(self):\n",
    "        return str(self.value)"
   ]
  },
  {
   "cell_type": "markdown",
   "metadata": {},
   "source": [
    "## Main program"
   ]
  },
  {
   "cell_type": "code",
   "execution_count": 62,
   "metadata": {},
   "outputs": [
    {
     "name": "stdout",
     "output_type": "stream",
     "text": [
      "8 -> 5 -> 10 -> 7 -> 6 -> 6 -> 7 -> 9 -> 1 -> 7\n"
     ]
    }
   ],
   "source": [
    "llist = LinkedList()\n",
    "\n",
    "# Insert dummy list at the beginning\n",
    "for i in range(10):\n",
    "    value = random.randint(1, 10)\n",
    "    llist.insert_begin(value)\n",
    "llist.print_simple_list()"
   ]
  },
  {
   "cell_type": "code",
   "execution_count": 63,
   "metadata": {},
   "outputs": [
    {
     "name": "stdout",
     "output_type": "stream",
     "text": [
      "8 -> 5 -> 10 -> 7 -> 6 -> 6 -> 7 -> 9 -> 1\n"
     ]
    }
   ],
   "source": [
    "llist.delete_end()\n",
    "llist.print_simple_list()"
   ]
  },
  {
   "cell_type": "markdown",
   "metadata": {},
   "source": [
    "## Choose an option"
   ]
  },
  {
   "cell_type": "code",
   "execution_count": null,
   "metadata": {},
   "outputs": [],
   "source": []
  },
  {
   "cell_type": "code",
   "execution_count": null,
   "metadata": {},
   "outputs": [],
   "source": []
  }
 ],
 "metadata": {
  "kernelspec": {
   "display_name": "Python 3",
   "language": "python",
   "name": "python3"
  },
  "language_info": {
   "codemirror_mode": {
    "name": "ipython",
    "version": 3
   },
   "file_extension": ".py",
   "mimetype": "text/x-python",
   "name": "python",
   "nbconvert_exporter": "python",
   "pygments_lexer": "ipython3",
   "version": "3.6.9"
  }
 },
 "nbformat": 4,
 "nbformat_minor": 4
}
