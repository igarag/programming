{
 "cells": [
  {
   "cell_type": "markdown",
   "metadata": {},
   "source": [
    "# IPython para administración de sistemas Unix"
   ]
  },
  {
   "cell_type": "markdown",
   "metadata": {},
   "source": [
    "Pueden listarse las funciones dentro de un módulo con la consola de `IPython` usando el **tabulador** cuando se importa el módulo, se escribe por consola y se añade un punto:\n",
    "\n",
    "```python\n",
    "import subprocess\n",
    "subprocess.\n",
    "```"
   ]
  },
  {
   "cell_type": "markdown",
   "metadata": {},
   "source": [
    "Para conocer un ejemplo de uso de una de las funciones puede añadirse un `?` detrás de la función como en el ejemplo. PUede obtenerse más ayuda si se introducen dos `??`."
   ]
  },
  {
   "cell_type": "code",
   "execution_count": 15,
   "metadata": {},
   "outputs": [],
   "source": [
    "subprocess.getoutput??"
   ]
  },
  {
   "cell_type": "markdown",
   "metadata": {},
   "source": [
    "Es buena idea cuando se crean scripts de shell con Python envolver todas las funciones que representan un módulo en un `main` de tal manera que se ejecuten secuencialmente todas las funciones. De esta manera se tienen por un lado llamadas individuales a las funciones y por otro el conjunto de todas ellas. A esta función `main` se le denomina **flujo de control**."
   ]
  },
  {
   "cell_type": "code",
   "execution_count": 2,
   "metadata": {},
   "outputs": [
    {
     "name": "stdout",
     "output_type": "stream",
     "text": [
      "Gathering system informatiokn with uname command:\n",
      "\n",
      "Gathering diskpace information df command:\n",
      "\n"
     ]
    }
   ],
   "source": [
    "import subprocess\n",
    "\n",
    "# Comando 1\n",
    "def uname_func():\n",
    "    \n",
    "    uname = \"uname\"\n",
    "    uname_arg = \"-a\"\n",
    "    print(\"Gathering system informatiokn with %s command:\\n\" % uname)\n",
    "    subprocess.call([uname, uname_arg])\n",
    "    \n",
    "    \n",
    "#Comando 2\n",
    "def disk_func():\n",
    "    \n",
    "    diskspace = \"df\"\n",
    "    diskspace_arg = \"-h\"\n",
    "    print(\"Gathering diskpace information %s command:\\n\" % diskspace)\n",
    "    subprocess.call([diskspace, diskspace_arg])\n",
    "\n",
    "    \n",
    "# Función principal que invoca otras funciones.\n",
    "def main():\n",
    "    uname_func()\n",
    "    disk_func()\n",
    "    \n",
    "main()"
   ]
  },
  {
   "cell_type": "markdown",
   "metadata": {},
   "source": [
    "## Funciones mágicas"
   ]
  },
  {
   "cell_type": "markdown",
   "metadata": {},
   "source": [
    "Para listar las funciones mágicas introducir: `lsmagic`. También puede utilizarse el tabulador si se pone por delante el caracter especial `%`. Puede desplegarse una ayuda si se introduce el comando: `magic`."
   ]
  },
  {
   "cell_type": "code",
   "execution_count": 11,
   "metadata": {},
   "outputs": [
    {
     "data": {
      "application/json": {
       "cell": {
        "!": "OSMagics",
        "HTML": "Other",
        "SVG": "Other",
        "bash": "Other",
        "capture": "ExecutionMagics",
        "debug": "ExecutionMagics",
        "file": "Other",
        "html": "DisplayMagics",
        "javascript": "DisplayMagics",
        "js": "DisplayMagics",
        "latex": "DisplayMagics",
        "markdown": "DisplayMagics",
        "perl": "Other",
        "prun": "ExecutionMagics",
        "pypy": "Other",
        "python": "Other",
        "python2": "Other",
        "python3": "Other",
        "ruby": "Other",
        "script": "ScriptMagics",
        "sh": "Other",
        "svg": "DisplayMagics",
        "sx": "OSMagics",
        "system": "OSMagics",
        "time": "ExecutionMagics",
        "timeit": "ExecutionMagics",
        "writefile": "OSMagics"
       },
       "line": {
        "alias": "OSMagics",
        "alias_magic": "BasicMagics",
        "autoawait": "AsyncMagics",
        "autocall": "AutoMagics",
        "automagic": "AutoMagics",
        "autosave": "KernelMagics",
        "bookmark": "OSMagics",
        "cat": "Other",
        "cd": "OSMagics",
        "clear": "KernelMagics",
        "colors": "BasicMagics",
        "conda": "PackagingMagics",
        "config": "ConfigMagics",
        "connect_info": "KernelMagics",
        "cp": "Other",
        "debug": "ExecutionMagics",
        "dhist": "OSMagics",
        "dirs": "OSMagics",
        "doctest_mode": "BasicMagics",
        "ed": "Other",
        "edit": "KernelMagics",
        "env": "OSMagics",
        "gui": "BasicMagics",
        "hist": "Other",
        "history": "HistoryMagics",
        "killbgscripts": "ScriptMagics",
        "ldir": "Other",
        "less": "KernelMagics",
        "lf": "Other",
        "lk": "Other",
        "ll": "Other",
        "load": "CodeMagics",
        "load_ext": "ExtensionMagics",
        "loadpy": "CodeMagics",
        "logoff": "LoggingMagics",
        "logon": "LoggingMagics",
        "logstart": "LoggingMagics",
        "logstate": "LoggingMagics",
        "logstop": "LoggingMagics",
        "ls": "Other",
        "lsmagic": "BasicMagics",
        "lx": "Other",
        "macro": "ExecutionMagics",
        "magic": "BasicMagics",
        "man": "KernelMagics",
        "matplotlib": "PylabMagics",
        "mkdir": "Other",
        "more": "KernelMagics",
        "mv": "Other",
        "notebook": "BasicMagics",
        "page": "BasicMagics",
        "pastebin": "CodeMagics",
        "pdb": "ExecutionMagics",
        "pdef": "NamespaceMagics",
        "pdoc": "NamespaceMagics",
        "pfile": "NamespaceMagics",
        "pinfo": "NamespaceMagics",
        "pinfo2": "NamespaceMagics",
        "pip": "PackagingMagics",
        "popd": "OSMagics",
        "pprint": "BasicMagics",
        "precision": "BasicMagics",
        "prun": "ExecutionMagics",
        "psearch": "NamespaceMagics",
        "psource": "NamespaceMagics",
        "pushd": "OSMagics",
        "pwd": "OSMagics",
        "pycat": "OSMagics",
        "pylab": "PylabMagics",
        "qtconsole": "KernelMagics",
        "quickref": "BasicMagics",
        "recall": "HistoryMagics",
        "rehashx": "OSMagics",
        "reload_ext": "ExtensionMagics",
        "rep": "Other",
        "rerun": "HistoryMagics",
        "reset": "NamespaceMagics",
        "reset_selective": "NamespaceMagics",
        "rm": "Other",
        "rmdir": "Other",
        "run": "ExecutionMagics",
        "save": "CodeMagics",
        "sc": "OSMagics",
        "set_env": "OSMagics",
        "store": "StoreMagics",
        "sx": "OSMagics",
        "system": "OSMagics",
        "tb": "ExecutionMagics",
        "time": "ExecutionMagics",
        "timeit": "ExecutionMagics",
        "unalias": "OSMagics",
        "unload_ext": "ExtensionMagics",
        "who": "NamespaceMagics",
        "who_ls": "NamespaceMagics",
        "whos": "NamespaceMagics",
        "xdel": "NamespaceMagics",
        "xmode": "BasicMagics"
       }
      },
      "text/plain": [
       "Available line magics:\n",
       "%alias  %alias_magic  %autoawait  %autocall  %automagic  %autosave  %bookmark  %cat  %cd  %clear  %colors  %conda  %config  %connect_info  %cp  %debug  %dhist  %dirs  %doctest_mode  %ed  %edit  %env  %gui  %hist  %history  %killbgscripts  %ldir  %less  %lf  %lk  %ll  %load  %load_ext  %loadpy  %logoff  %logon  %logstart  %logstate  %logstop  %ls  %lsmagic  %lx  %macro  %magic  %man  %matplotlib  %mkdir  %more  %mv  %notebook  %page  %pastebin  %pdb  %pdef  %pdoc  %pfile  %pinfo  %pinfo2  %pip  %popd  %pprint  %precision  %prun  %psearch  %psource  %pushd  %pwd  %pycat  %pylab  %qtconsole  %quickref  %recall  %rehashx  %reload_ext  %rep  %rerun  %reset  %reset_selective  %rm  %rmdir  %run  %save  %sc  %set_env  %store  %sx  %system  %tb  %time  %timeit  %unalias  %unload_ext  %who  %who_ls  %whos  %xdel  %xmode\n",
       "\n",
       "Available cell magics:\n",
       "%%!  %%HTML  %%SVG  %%bash  %%capture  %%debug  %%file  %%html  %%javascript  %%js  %%latex  %%markdown  %%perl  %%prun  %%pypy  %%python  %%python2  %%python3  %%ruby  %%script  %%sh  %%svg  %%sx  %%system  %%time  %%timeit  %%writefile\n",
       "\n",
       "Automagic is ON, % prefix IS NOT needed for line magics."
      ]
     },
     "execution_count": 11,
     "metadata": {},
     "output_type": "execute_result"
    }
   ],
   "source": [
    "lsmagic"
   ]
  },
  {
   "cell_type": "markdown",
   "metadata": {},
   "source": [
    "Un ejemplo de una función mágica, permite crear `alias` como en el ejemplo:\n",
    "\n",
    "```python\n",
    "%alias d ls -F\n",
    "```\n",
    "\n",
    "Para desactivarlo, utilizar la función mágica `%unalias`."
   ]
  },
  {
   "cell_type": "code",
   "execution_count": 17,
   "metadata": {},
   "outputs": [],
   "source": [
    "%alias d ls -F"
   ]
  },
  {
   "cell_type": "markdown",
   "metadata": {},
   "source": [
    "Por ejemplo, pueden listarse las funciones y módulos interactivos que se están usando en la sesión de IPython con la **función mágica** `%who`o `%whos` con algo extra de información. Por ejemplo, hasta esta celdilla se han ejecutado otras celdas que contienen información. La lista se muestra en la siguiente celdilla."
   ]
  },
  {
   "cell_type": "code",
   "execution_count": 24,
   "metadata": {},
   "outputs": [
    {
     "name": "stdout",
     "output_type": "stream",
     "text": [
      "Variable     Type        Data/Info\n",
      "----------------------------------\n",
      "disk_func    function    <function disk_func at 0x7f5c94500158>\n",
      "main         function    <function main at 0x7f5c945001e0>\n",
      "subprocess   module      <module 'subprocess' from<...>python3.6/subprocess.py'>\n",
      "uname_func   function    <function uname_func at 0x7f5c945000d0>\n"
     ]
    }
   ],
   "source": [
    "%whos"
   ]
  },
  {
   "cell_type": "markdown",
   "metadata": {},
   "source": [
    "Una guía rápida de las funciones mágicas puede sacarse con `%quickref`. Un ejemplo se muestra a continuación."
   ]
  },
  {
   "cell_type": "code",
   "execution_count": 27,
   "metadata": {},
   "outputs": [],
   "source": [
    "%quickref"
   ]
  },
  {
   "cell_type": "markdown",
   "metadata": {},
   "source": [
    "Un ejemplo de alias útil para gestionar un sistema Unix pueden ser, como se dijo antes, los alias. Si, por ejemplo, se quiere utilizar el comando `netstat -plunt` de manera más rápida, puede hacerse u alias como el siguiente:"
   ]
  },
  {
   "cell_type": "code",
   "execution_count": 35,
   "metadata": {},
   "outputs": [],
   "source": [
    "%alias nss netstat -plunt"
   ]
  },
  {
   "cell_type": "code",
   "execution_count": 36,
   "metadata": {},
   "outputs": [
    {
     "name": "stdout",
     "output_type": "stream",
     "text": [
      "(Not all processes could be identified, non-owned process info\r\n",
      " will not be shown, you would have to be root to see it all.)\r\n",
      "Active Internet connections (only servers)\r\n",
      "Proto Recv-Q Send-Q Local Address           Foreign Address         State       PID/Program name    \r\n",
      "tcp        0      0 127.0.0.1:3306          0.0.0.0:*               LISTEN      -                   \r\n",
      "tcp        0      0 127.0.0.1:6379          0.0.0.0:*               LISTEN      -                   \r\n",
      "tcp        0      0 0.0.0.0:51413           0.0.0.0:*               LISTEN      -                   \r\n",
      "tcp        0      0 127.0.0.53:53           0.0.0.0:*               LISTEN      -                   \r\n",
      "tcp        0      0 127.0.0.1:631           0.0.0.0:*               LISTEN      -                   \r\n",
      "tcp        0      0 127.0.0.1:8888          0.0.0.0:*               LISTEN      31724/python3       \r\n",
      "tcp        0      0 127.0.0.1:45177         0.0.0.0:*               LISTEN      -                   \r\n",
      "tcp        0      0 127.0.0.1:39451         0.0.0.0:*               LISTEN      31926/python3       \r\n",
      "tcp        0      0 0.0.0.0:17500           0.0.0.0:*               LISTEN      2297/dropbox        \r\n",
      "tcp        0      0 127.0.0.1:42751         0.0.0.0:*               LISTEN      31926/python3       \r\n",
      "tcp        0      0 127.0.0.1:17600         0.0.0.0:*               LISTEN      2297/dropbox        \r\n",
      "tcp        0      0 127.0.0.1:54369         0.0.0.0:*               LISTEN      31926/python3       \r\n",
      "tcp        0      0 127.0.0.1:48675         0.0.0.0:*               LISTEN      31926/python3       \r\n",
      "tcp        0      0 127.0.0.1:17603         0.0.0.0:*               LISTEN      2297/dropbox        \r\n",
      "tcp        0      0 0.0.0.0:9091            0.0.0.0:*               LISTEN      -                   \r\n",
      "tcp        0      0 127.0.0.1:6341          0.0.0.0:*               LISTEN      2299/megasync       \r\n",
      "tcp        0      0 127.0.0.1:6342          0.0.0.0:*               LISTEN      2299/megasync       \r\n",
      "tcp        0      0 127.0.0.1:41191         0.0.0.0:*               LISTEN      31926/python3       \r\n",
      "tcp        0      0 127.0.0.1:44871         0.0.0.0:*               LISTEN      31926/python3       \r\n",
      "tcp6       0      0 ::1:6379                :::*                    LISTEN      -                   \r\n",
      "tcp6       0      0 :::1716                 :::*                    LISTEN      2240/kdeconnectd    \r\n",
      "tcp6       0      0 :::51413                :::*                    LISTEN      -                   \r\n",
      "tcp6       0      0 ::1:631                 :::*                    LISTEN      -                   \r\n",
      "tcp6       0      0 :::17500                :::*                    LISTEN      2297/dropbox        \r\n",
      "tcp6       0      0 :::6600                 :::*                    LISTEN      -                   \r\n",
      "udp        0      0 127.0.0.53:53           0.0.0.0:*                           -                   \r\n",
      "udp        0      0 0.0.0.0:68              0.0.0.0:*                           -                   \r\n",
      "udp        0      0 0.0.0.0:631             0.0.0.0:*                           -                   \r\n",
      "udp        0      0 0.0.0.0:17500           0.0.0.0:*                           2297/dropbox        \r\n",
      "udp        0      0 0.0.0.0:51413           0.0.0.0:*                           -                   \r\n",
      "udp        0      0 0.0.0.0:5353            0.0.0.0:*                           -                   \r\n",
      "udp        0      0 0.0.0.0:40364           0.0.0.0:*                           -                   \r\n",
      "udp6       0      0 :::1716                 :::*                                2240/kdeconnectd    \r\n",
      "udp6       0      0 :::59316                :::*                                -                   \r\n",
      "udp6       0      0 :::5353                 :::*                                -                   \r\n"
     ]
    }
   ],
   "source": [
    "nss"
   ]
  },
  {
   "cell_type": "markdown",
   "metadata": {},
   "source": [
    "Además, puede utilizarse las metodologías **hacer-nada** o **hacer-todo** donde se le pueden pasar o no argumentos a un alias o comando e interpretarse de distinta manera. Teniendo por ejemplo el alias:"
   ]
  },
  {
   "cell_type": "code",
   "execution_count": 44,
   "metadata": {},
   "outputs": [],
   "source": [
    "%alias achoo echo first: \"|%s|\", second \"|%s|\""
   ]
  },
  {
   "cell_type": "code",
   "execution_count": 46,
   "metadata": {},
   "outputs": [
    {
     "name": "stdout",
     "output_type": "stream",
     "text": [
      "first: |foo|, second |bar|\r\n"
     ]
    }
   ],
   "source": [
    "achoo foo bar"
   ]
  },
  {
   "cell_type": "markdown",
   "metadata": {},
   "source": [
    "Para hacerlo con o sin argumentos:"
   ]
  },
  {
   "cell_type": "code",
   "execution_count": 47,
   "metadata": {},
   "outputs": [],
   "source": [
    "%alias achoo echo \"|%l|\""
   ]
  },
  {
   "cell_type": "code",
   "execution_count": 54,
   "metadata": {},
   "outputs": [
    {
     "name": "stdout",
     "output_type": "stream",
     "text": [
      "||\r\n"
     ]
    }
   ],
   "source": [
    "achoo"
   ]
  },
  {
   "cell_type": "markdown",
   "metadata": {},
   "source": [
    "Otra forma de ejecutar un comando de shell es colocando el símbolo `!` delante. La salida de un comando de shell puede almacenarse en una lista, como por ejemplo."
   ]
  },
  {
   "cell_type": "code",
   "execution_count": 75,
   "metadata": {},
   "outputs": [
    {
     "data": {
      "text/plain": [
       "['nachoaz   1901  0.0  0.0  24144  5512 pts/3    Ss+  jul15   0:00 /bin/bash',\n",
       " 'nachoaz   4305  0.0  0.0  14104  3352 ?        S    00:18   0:00 /bin/bash -c ps aux | grep nachoaz | grep bash',\n",
       " 'nachoaz   4309  0.0  0.0  15648  1104 ?        S    00:18   0:00 grep bash',\n",
       " 'nachoaz   8916  0.0  0.0  25100  6404 pts/0    Ss+  jul15   0:00 /bin/bash',\n",
       " 'nachoaz  13901  0.0  0.0  24064  5520 pts/2    Ss   jul15   0:00 /bin/bash']"
      ]
     },
     "execution_count": 75,
     "metadata": {},
     "output_type": "execute_result"
    }
   ],
   "source": [
    "user = 'nachoaz'\n",
    "process = 'bash'\n",
    "l = !ps aux | grep $user | grep $process\n",
    "l # Imprimir la variable 'l'."
   ]
  },
  {
   "cell_type": "markdown",
   "metadata": {},
   "source": [
    "## cd y marcadores "
   ]
  },
  {
   "cell_type": "code",
   "execution_count": null,
   "metadata": {},
   "outputs": [],
   "source": []
  },
  {
   "cell_type": "code",
   "execution_count": null,
   "metadata": {},
   "outputs": [],
   "source": []
  },
  {
   "cell_type": "markdown",
   "metadata": {},
   "source": [
    "## Bookmarks"
   ]
  },
  {
   "cell_type": "markdown",
   "metadata": {},
   "source": [
    "Crear marcadores se puede hacer de diferentes maneras. Una de ellas es la siguiente: con la directiva `bookmark t` estando, por ejemplo, en el directorio `/tmp` se crea un marcador en ese directorio."
   ]
  },
  {
   "cell_type": "code",
   "execution_count": 7,
   "metadata": {},
   "outputs": [
    {
     "name": "stdout",
     "output_type": "stream",
     "text": [
      "/tmp\n"
     ]
    }
   ],
   "source": [
    "cd /tmp"
   ]
  },
  {
   "cell_type": "code",
   "execution_count": 8,
   "metadata": {},
   "outputs": [],
   "source": [
    "bookmark t"
   ]
  },
  {
   "cell_type": "markdown",
   "metadata": {},
   "source": [
    "Otra manera de crear un marcador requiere escribir un poco más."
   ]
  },
  {
   "cell_type": "code",
   "execution_count": 20,
   "metadata": {},
   "outputs": [],
   "source": [
    "bookmark h /home/"
   ]
  },
  {
   "cell_type": "markdown",
   "metadata": {},
   "source": [
    "Pueden listarse los marcadores con la siguiente opción. **Nota:** Los marcadores se conservan entre sesiones de IPython por lo que no es necesario cargarlos de nuevo."
   ]
  },
  {
   "cell_type": "code",
   "execution_count": 6,
   "metadata": {},
   "outputs": [
    {
     "name": "stdout",
     "output_type": "stream",
     "text": [
      "Current bookmarks:\n",
      "my_home -> /home/$(whoami)\n",
      "t       -> /tmp\n"
     ]
    }
   ],
   "source": [
    "%bookmark -l"
   ]
  },
  {
   "cell_type": "markdown",
   "metadata": {},
   "source": [
    "Para eliminar un marcador se utiliza el argumento `-d` como sigue:"
   ]
  },
  {
   "cell_type": "code",
   "execution_count": 23,
   "metadata": {},
   "outputs": [
    {
     "name": "stderr",
     "output_type": "stream",
     "text": [
      "UsageError: %bookmark -d: Can't delete bookmark 'h'\n"
     ]
    }
   ],
   "source": [
    "bookmark -d h"
   ]
  },
  {
   "cell_type": "code",
   "execution_count": 25,
   "metadata": {},
   "outputs": [
    {
     "name": "stdout",
     "output_type": "stream",
     "text": [
      "Current bookmarks:\n",
      "my_home -> /home/$(whoami)\n",
      "t       -> /tmp\n"
     ]
    }
   ],
   "source": [
    "bookmark -l"
   ]
  },
  {
   "cell_type": "markdown",
   "metadata": {},
   "source": [
    "## dhist"
   ]
  },
  {
   "cell_type": "markdown",
   "metadata": {},
   "source": [
    "El comando `dhist` no solamente guarda el histórico de la sesión actual sino de sesiones anteriores."
   ]
  },
  {
   "cell_type": "code",
   "execution_count": 1,
   "metadata": {},
   "outputs": [
    {
     "name": "stdout",
     "output_type": "stream",
     "text": [
      "Directory history (kept in _dh)\n",
      "0: /home/nachoaz/igarag/programming/python\n"
     ]
    }
   ],
   "source": [
    "dhist"
   ]
  },
  {
   "cell_type": "markdown",
   "metadata": {},
   "source": [
    "Puede pasarsele argumentos para especificar, por ejemplo, la salida máxima del comando, haciendo una lista de los últimos 5 elementos de la historia con: `dhist 5` o un rango entre valores con `dhist 3 7` "
   ]
  },
  {
   "cell_type": "markdown",
   "metadata": {},
   "source": [
    "## Aplicación de Variable"
   ]
  },
  {
   "cell_type": "markdown",
   "metadata": {},
   "source": [
    "Hasta ahora había una clara diferencia entre los comandos de shell e IPython pero vamos a ver que se pueden cruzar. Se va a tomar un valor que obtendremos de Python y pasarlo a la Shell. Aunque el ejemplo es \"poco realista\" dado que es raro crear 10 archivos con la fecha dentro, nos da una idea de la utilidad en el cruce de información entre ambos lenguajes."
   ]
  },
  {
   "cell_type": "code",
   "execution_count": 29,
   "metadata": {},
   "outputs": [],
   "source": [
    "# {} = elemento actual de la lista\n",
    "for i in range(3):\n",
    "    !date > {i}.txt"
   ]
  },
  {
   "cell_type": "code",
   "execution_count": 14,
   "metadata": {},
   "outputs": [
    {
     "name": "stdout",
     "output_type": "stream",
     "text": [
      "total 60\n",
      "-rw-rw-r-- 1 nachoaz nachoaz 57778 ago  3 13:24 ipython_para_sistemas_unix.ipynb\n",
      "cat: 0.txt: No such file or directory\n"
     ]
    }
   ],
   "source": [
    "!ls -l\n",
    "\n",
    "!cat 0.txt"
   ]
  },
  {
   "cell_type": "markdown",
   "metadata": {},
   "source": [
    "Eliminamos los archivos creados en el apartado anterior."
   ]
  },
  {
   "cell_type": "code",
   "execution_count": 36,
   "metadata": {},
   "outputs": [],
   "source": [
    "!rm *.txt"
   ]
  },
  {
   "cell_type": "markdown",
   "metadata": {},
   "source": [
    "## Procesado de cadena"
   ]
  },
  {
   "cell_type": "markdown",
   "metadata": {},
   "source": [
    "mOtra herramienta muy interesante que ofrece IPython es procesar en cadena el resultado de los comandos de shell del sistema. Si, por ejemplo, se quiere ver el PID de todos los procesos que pertenecen a un usuario se podría hacer de la siguiente manera: \n",
    "\n",
    "`ps aux | awk '{if ($1 == \"myuser\") print $2}'`\n",
    "\n",
    "Si ahora intentamos repetir el proceso usando IPython hay que hacerlo en una pequeña secuencia que es igualmente legible."
   ]
  },
  {
   "cell_type": "code",
   "execution_count": 17,
   "metadata": {},
   "outputs": [
    {
     "data": {
      "text/plain": [
       "[]"
      ]
     },
     "execution_count": 17,
     "metadata": {},
     "output_type": "execute_result"
    }
   ],
   "source": [
    "ps = !ps aux\n",
    "ps.grep('mysuer', prune=False).fields(0, 1, 8)"
   ]
  },
  {
   "cell_type": "markdown",
   "metadata": {},
   "source": [
    "El argumento `prune` se utiliza para que el retorno del argumento sea lo contrario a lo que se quiere o lo que se quiere. Por ejemplo, si quisieramos que el retorno fuera 'todos los usuarios que no sean el nuestro' (`root` por ejemplo) se pondría: `ps.grep('myuser', prune=True)`, es decir, __excluir__ del filtrado. De esa manera devuelve todos los usuarios que no sean `myuser`.\n",
    "\n",
    "Con el método `fields()` se le especifican a `grep` las columnas que queremos devolver una vez se ejecute el comando. Hace las veces cuando se imprime una columna con `awk` utilizando `$1`, `$2`. En el ejemplo anterior, las columnas `0`, `1` y `8` hacen referencia a `USERNAME`, `PID` y `STARTTIME`.\n",
    "\n",
    "Otro elemento muy interesante es, seguido del método `fields()` que va seguido del método `grep()` y que ambos devuelven objetos del mismo tipo, se puede añadir el elemento `s` que accede directamente a la lista en el proceso. Esto proporciona una cadena de PID separados por espacio con la que la Shell ya puede trabajar y de podría, por ejemplo hacer `kill $pids` desde dentro de IPython.\n",
    "\n",
    "Por último, el método `grep()` adopta un último parámetro opcional denominado `field`. Si se especifica, los criterios de búsqueda tienen que coincidir con ese campo para que se incluya en el resultado. Esto coincidía con las dilas exactas que se quieren pero mostraba toda la fila. Para llegar solo al PID hay que añadirle `fields(1)` detrás."
   ]
  },
  {
   "cell_type": "code",
   "execution_count": 25,
   "metadata": {},
   "outputs": [
    {
     "data": {
      "text/plain": [
       "['2418',\n",
       " '2419',\n",
       " '2439',\n",
       " '2440',\n",
       " '2478',\n",
       " '2513',\n",
       " '2546',\n",
       " '2548',\n",
       " '2549',\n",
       " '2552',\n",
       " '2569',\n",
       " '2583',\n",
       " '2584',\n",
       " '2587',\n",
       " '2590',\n",
       " '2598',\n",
       " '2603',\n",
       " '2607',\n",
       " '2612',\n",
       " '2614',\n",
       " '2618',\n",
       " '2621',\n",
       " '2625',\n",
       " '2647',\n",
       " '2657',\n",
       " '2662',\n",
       " '2668',\n",
       " '2689',\n",
       " '2712',\n",
       " '2715',\n",
       " '2716',\n",
       " '2722',\n",
       " '2724',\n",
       " '2727',\n",
       " '2737',\n",
       " '2745',\n",
       " '2754',\n",
       " '2762',\n",
       " '2796',\n",
       " '2800',\n",
       " '2805',\n",
       " '2827',\n",
       " '2846',\n",
       " '2950',\n",
       " '2967',\n",
       " '3021',\n",
       " '3037',\n",
       " '3038',\n",
       " '3039',\n",
       " '3040',\n",
       " '3041',\n",
       " '3046',\n",
       " '3051',\n",
       " '3052',\n",
       " '3058',\n",
       " '3067',\n",
       " '3084',\n",
       " '3085',\n",
       " '3087',\n",
       " '3095',\n",
       " '3149',\n",
       " '3180',\n",
       " '3187',\n",
       " '3346',\n",
       " '3374',\n",
       " '3479',\n",
       " '4897',\n",
       " '5164',\n",
       " '5566',\n",
       " '5912',\n",
       " '5920',\n",
       " '5943',\n",
       " '6349',\n",
       " '6353',\n",
       " '6359',\n",
       " '6360',\n",
       " '6373',\n",
       " '6403',\n",
       " '6453',\n",
       " '6560',\n",
       " '6562',\n",
       " '6573',\n",
       " '6580',\n",
       " '6621',\n",
       " '6627',\n",
       " '6628',\n",
       " '6632',\n",
       " '6640',\n",
       " '6669',\n",
       " '6767',\n",
       " '6773',\n",
       " '6987',\n",
       " '6993',\n",
       " '7015',\n",
       " '7028',\n",
       " '7271',\n",
       " '7414',\n",
       " '7766',\n",
       " '7774',\n",
       " '7776',\n",
       " '7784',\n",
       " '7969',\n",
       " '9033',\n",
       " '9090',\n",
       " '9367',\n",
       " '9469',\n",
       " '11493',\n",
       " '11753',\n",
       " '12363',\n",
       " '12368',\n",
       " '12381',\n",
       " '12402',\n",
       " '12587',\n",
       " '13264',\n",
       " '14311',\n",
       " '14315',\n",
       " '14492',\n",
       " '14494',\n",
       " '14523',\n",
       " '14547',\n",
       " '14580',\n",
       " '14648',\n",
       " '14649',\n",
       " '16443',\n",
       " '22298',\n",
       " '26178',\n",
       " '27147',\n",
       " '28973']"
      ]
     },
     "execution_count": 25,
     "metadata": {},
     "output_type": "execute_result"
    }
   ],
   "source": [
    "ps = !ps aux\n",
    "ps.grep('nachoaz', field=0).fields(1)"
   ]
  },
  {
   "cell_type": "markdown",
   "metadata": {},
   "source": [
    "## Perfil sh"
   ]
  },
  {
   "cell_type": "markdown",
   "metadata": {},
   "source": [
    "Un perfil es simplemente un conjunto de datos de configuracioń que se carga cuando se inicia IPython. Puede personalizarse un número de perfiles para hacer qye IPython se lleve a cabo de diferentes formas dependiendo de las necesidades de la sesión. Para invocar un perfil específico se utiliza la opción de línea de comando `-p` y se especifica el perfil que se quiere utilizar.\n",
    "\n",
    "El perfil `sh` es el más utilizado dado que incorpora ciertos elementos de configuración de modo que IPython se convierte en una shell del sistema más amigable.\n",
    "\n"
   ]
  }
 ],
 "metadata": {
  "kernelspec": {
   "display_name": "Python 3",
   "language": "python",
   "name": "python3"
  },
  "language_info": {
   "codemirror_mode": {
    "name": "ipython",
    "version": 3
   },
   "file_extension": ".py",
   "mimetype": "text/x-python",
   "name": "python",
   "nbconvert_exporter": "python",
   "pygments_lexer": "ipython3",
   "version": "3.6.8"
  }
 },
 "nbformat": 4,
 "nbformat_minor": 2
}
