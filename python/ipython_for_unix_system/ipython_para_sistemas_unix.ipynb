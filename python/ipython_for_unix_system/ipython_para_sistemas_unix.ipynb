{
 "cells": [
  {
   "cell_type": "markdown",
   "metadata": {},
   "source": [
    "# IPython para administración de sistemas Unix"
   ]
  },
  {
   "cell_type": "markdown",
   "metadata": {},
   "source": [
    "Pueden listarse las funciones dentro de un módulo con la consola de `IPython` usando el **tabulador** cuando se importa el módulo, se escribe por consola y se añade un punto:\n",
    "\n",
    "```python\n",
    "import subprocess\n",
    "subprocess.\n",
    "```"
   ]
  },
  {
   "cell_type": "markdown",
   "metadata": {},
   "source": [
    "Para conocer un ejemplo de uso de una de las funciones puede añadirse un `?` detrás de la función como en el ejemplo. Puede obtenerse más ayuda si se introducen dos `??`."
   ]
  },
  {
   "cell_type": "code",
   "execution_count": null,
   "metadata": {},
   "outputs": [],
   "source": [
    "subprocess.getoutput??"
   ]
  },
  {
   "cell_type": "markdown",
   "metadata": {},
   "source": [
    "Es buena idea cuando se crean scripts de shell con Python envolver todas las funciones que representan un módulo en un `main` de tal manera que se ejecuten secuencialmente todas las funciones. De esta manera se tienen por un lado llamadas individuales a las funciones y por otro el conjunto de todas ellas. A esta función `main` se le denomina **flujo de control**."
   ]
  },
  {
   "cell_type": "code",
   "execution_count": null,
   "metadata": {},
   "outputs": [],
   "source": [
    "import subprocess\n",
    "\n",
    "# Comando 1\n",
    "def uname_func():\n",
    "    \n",
    "    uname = \"uname\"\n",
    "    uname_arg = \"-a\"\n",
    "    print(\"Gathering system informatiokn with %s command:\\n\" % uname)\n",
    "    subprocess.call([uname, uname_arg])\n",
    "    \n",
    "    \n",
    "#Comando 2\n",
    "def disk_func():\n",
    "    \n",
    "    diskspace = \"df\"\n",
    "    diskspace_arg = \"-h\"\n",
    "    print(\"Gathering diskpace information %s command:\\n\" % diskspace)\n",
    "    subprocess.call([diskspace, diskspace_arg])\n",
    "\n",
    "    \n",
    "# Función principal que invoca otras funciones.\n",
    "def main():\n",
    "    uname_func()\n",
    "    disk_func()\n",
    "    \n",
    "main()"
   ]
  },
  {
   "cell_type": "markdown",
   "metadata": {},
   "source": [
    "## Funciones mágicas"
   ]
  },
  {
   "cell_type": "markdown",
   "metadata": {},
   "source": [
    "Para listar las funciones mágicas introducir: `lsmagic`. También puede utilizarse el tabulador si se pone por delante el caracter especial `%`. Puede desplegarse una ayuda si se introduce el comando: `magic`."
   ]
  },
  {
   "cell_type": "code",
   "execution_count": null,
   "metadata": {},
   "outputs": [],
   "source": [
    "lsmagic"
   ]
  },
  {
   "cell_type": "markdown",
   "metadata": {},
   "source": [
    "Un ejemplo de una función mágica, permite crear `alias` como en el ejemplo:\n",
    "\n",
    "```python\n",
    "%alias d ls -F\n",
    "```\n",
    "\n",
    "Para desactivarlo, utilizar la función mágica `%unalias`."
   ]
  },
  {
   "cell_type": "code",
   "execution_count": null,
   "metadata": {},
   "outputs": [],
   "source": [
    "%alias d ls -F"
   ]
  },
  {
   "cell_type": "markdown",
   "metadata": {},
   "source": [
    "Por ejemplo, pueden listarse las funciones y módulos interactivos que se están usando en la sesión de IPython con la **función mágica** `%who`o `%whos` con algo extra de información. Por ejemplo, hasta esta celdilla se han ejecutado otras celdas que contienen información. La lista se muestra en la siguiente celdilla."
   ]
  },
  {
   "cell_type": "code",
   "execution_count": null,
   "metadata": {},
   "outputs": [],
   "source": [
    "%whos"
   ]
  },
  {
   "cell_type": "markdown",
   "metadata": {},
   "source": [
    "Una guía rápida de las funciones mágicas puede sacarse con `%quickref`. Un ejemplo se muestra a continuación."
   ]
  },
  {
   "cell_type": "code",
   "execution_count": null,
   "metadata": {},
   "outputs": [],
   "source": [
    "%quickref"
   ]
  },
  {
   "cell_type": "markdown",
   "metadata": {},
   "source": [
    "Un ejemplo de alias útil para gestionar un sistema Unix pueden ser, como se dijo antes, los alias. Si, por ejemplo, se quiere utilizar el comando `netstat -plunt` de manera más rápida, puede hacerse u alias como el siguiente:"
   ]
  },
  {
   "cell_type": "code",
   "execution_count": null,
   "metadata": {},
   "outputs": [],
   "source": [
    "%alias nss netstat -plunt"
   ]
  },
  {
   "cell_type": "code",
   "execution_count": null,
   "metadata": {},
   "outputs": [],
   "source": [
    "nss"
   ]
  },
  {
   "cell_type": "markdown",
   "metadata": {},
   "source": [
    "Además, puede utilizarse las metodologías **hacer-nada** o **hacer-todo** donde se le pueden pasar o no argumentos a un alias o comando e interpretarse de distinta manera. Teniendo por ejemplo el alias:"
   ]
  },
  {
   "cell_type": "code",
   "execution_count": null,
   "metadata": {},
   "outputs": [],
   "source": [
    "%alias achoo echo first: \"|%s|\", second \"|%s|\""
   ]
  },
  {
   "cell_type": "code",
   "execution_count": null,
   "metadata": {},
   "outputs": [],
   "source": [
    "achoo foo bar"
   ]
  },
  {
   "cell_type": "markdown",
   "metadata": {},
   "source": [
    "Para hacerlo con o sin argumentos:"
   ]
  },
  {
   "cell_type": "code",
   "execution_count": null,
   "metadata": {},
   "outputs": [],
   "source": [
    "%alias achoo echo \"|%l|\""
   ]
  },
  {
   "cell_type": "code",
   "execution_count": null,
   "metadata": {},
   "outputs": [],
   "source": [
    "achoo"
   ]
  },
  {
   "cell_type": "markdown",
   "metadata": {},
   "source": [
    "Otra forma de ejecutar un comando de shell es colocando el símbolo `!` delante. La salida de un comando de shell puede almacenarse en una lista, como por ejemplo."
   ]
  },
  {
   "cell_type": "code",
   "execution_count": null,
   "metadata": {},
   "outputs": [],
   "source": [
    "user = 'nachoaz'\n",
    "process = 'bash'\n",
    "l = !ps aux | grep $user | grep $process\n",
    "l # Imprimir la variable 'l'."
   ]
  },
  {
   "cell_type": "markdown",
   "metadata": {},
   "source": [
    "## cd y marcadores "
   ]
  },
  {
   "cell_type": "code",
   "execution_count": null,
   "metadata": {},
   "outputs": [],
   "source": []
  },
  {
   "cell_type": "code",
   "execution_count": null,
   "metadata": {},
   "outputs": [],
   "source": []
  },
  {
   "cell_type": "markdown",
   "metadata": {},
   "source": [
    "## Bookmarks"
   ]
  },
  {
   "cell_type": "markdown",
   "metadata": {},
   "source": [
    "Crear marcadores se puede hacer de diferentes maneras. Una de ellas es la siguiente: con la directiva `bookmark t` estando, por ejemplo, en el directorio `/tmp` se crea un marcador en ese directorio."
   ]
  },
  {
   "cell_type": "code",
   "execution_count": null,
   "metadata": {},
   "outputs": [],
   "source": [
    "cd /tmp"
   ]
  },
  {
   "cell_type": "code",
   "execution_count": null,
   "metadata": {},
   "outputs": [],
   "source": [
    "bookmark t"
   ]
  },
  {
   "cell_type": "markdown",
   "metadata": {},
   "source": [
    "Otra manera de crear un marcador requiere escribir un poco más."
   ]
  },
  {
   "cell_type": "code",
   "execution_count": null,
   "metadata": {},
   "outputs": [],
   "source": [
    "bookmark h /home/"
   ]
  },
  {
   "cell_type": "markdown",
   "metadata": {},
   "source": [
    "Pueden listarse los marcadores con la siguiente opción. **Nota:** Los marcadores se conservan entre sesiones de IPython por lo que no es necesario cargarlos de nuevo."
   ]
  },
  {
   "cell_type": "code",
   "execution_count": null,
   "metadata": {},
   "outputs": [],
   "source": [
    "%bookmark -l"
   ]
  },
  {
   "cell_type": "markdown",
   "metadata": {},
   "source": [
    "Para eliminar un marcador se utiliza el argumento `-d` como sigue:"
   ]
  },
  {
   "cell_type": "code",
   "execution_count": null,
   "metadata": {},
   "outputs": [],
   "source": [
    "bookmark -d h"
   ]
  },
  {
   "cell_type": "code",
   "execution_count": null,
   "metadata": {},
   "outputs": [],
   "source": [
    "bookmark -l"
   ]
  },
  {
   "cell_type": "markdown",
   "metadata": {},
   "source": [
    "## dhist"
   ]
  },
  {
   "cell_type": "markdown",
   "metadata": {},
   "source": [
    "El comando `dhist` no solamente guarda el histórico de la sesión actual sino de sesiones anteriores."
   ]
  },
  {
   "cell_type": "code",
   "execution_count": null,
   "metadata": {},
   "outputs": [],
   "source": [
    "dhist"
   ]
  },
  {
   "cell_type": "markdown",
   "metadata": {},
   "source": [
    "Puede pasarsele argumentos para especificar, por ejemplo, la salida máxima del comando, haciendo una lista de los últimos 5 elementos de la historia con: `dhist 5` o un rango entre valores con `dhist 3 7` "
   ]
  },
  {
   "cell_type": "markdown",
   "metadata": {},
   "source": [
    "## Aplicación de Variable"
   ]
  },
  {
   "cell_type": "markdown",
   "metadata": {},
   "source": [
    "Hasta ahora había una clara diferencia entre los comandos de shell e IPython pero vamos a ver que se pueden cruzar. Se va a tomar un valor que obtendremos de Python y pasarlo a la Shell. Aunque el ejemplo es \"poco realista\" dado que es raro crear 10 archivos con la fecha dentro, nos da una idea de la utilidad en el cruce de información entre ambos lenguajes."
   ]
  },
  {
   "cell_type": "code",
   "execution_count": null,
   "metadata": {},
   "outputs": [],
   "source": [
    "# {} = elemento actual de la lista\n",
    "for i in range(3):\n",
    "    !date > {i}.txt"
   ]
  },
  {
   "cell_type": "code",
   "execution_count": null,
   "metadata": {},
   "outputs": [],
   "source": [
    "!ls -l\n",
    "\n",
    "!cat 0.txt"
   ]
  },
  {
   "cell_type": "markdown",
   "metadata": {},
   "source": [
    "Eliminamos los archivos creados en el apartado anterior."
   ]
  },
  {
   "cell_type": "code",
   "execution_count": null,
   "metadata": {},
   "outputs": [],
   "source": [
    "!rm *.txt"
   ]
  },
  {
   "cell_type": "markdown",
   "metadata": {},
   "source": [
    "## Procesado de cadena"
   ]
  },
  {
   "cell_type": "markdown",
   "metadata": {},
   "source": [
    "mOtra herramienta muy interesante que ofrece IPython es procesar en cadena el resultado de los comandos de shell del sistema. Si, por ejemplo, se quiere ver el PID de todos los procesos que pertenecen a un usuario se podría hacer de la siguiente manera: \n",
    "\n",
    "`ps aux | awk '{if ($1 == \"myuser\") print $2}'`\n",
    "\n",
    "Si ahora intentamos repetir el proceso usando IPython hay que hacerlo en una pequeña secuencia que es igualmente legible."
   ]
  },
  {
   "cell_type": "code",
   "execution_count": null,
   "metadata": {},
   "outputs": [],
   "source": [
    "ps = !ps aux\n",
    "ps.grep('mysuer', prune=False).fields(0, 1, 8)"
   ]
  },
  {
   "cell_type": "markdown",
   "metadata": {},
   "source": [
    "El argumento `prune` se utiliza para que el retorno del argumento sea lo contrario a lo que se quiere o lo que se quiere. Por ejemplo, si quisieramos que el retorno fuera 'todos los usuarios que no sean el nuestro' (`root` por ejemplo) se pondría: `ps.grep('myuser', prune=True)`, es decir, __excluir__ del filtrado. De esa manera devuelve todos los usuarios que no sean `myuser`.\n",
    "\n",
    "Con el método `fields()` se le especifican a `grep` las columnas que queremos devolver una vez se ejecute el comando. Hace las veces cuando se imprime una columna con `awk` utilizando `$1`, `$2`. En el ejemplo anterior, las columnas `0`, `1` y `8` hacen referencia a `USERNAME`, `PID` y `STARTTIME`.\n",
    "\n",
    "Otro elemento muy interesante es, seguido del método `fields()` que va seguido del método `grep()` y que ambos devuelven objetos del mismo tipo, se puede añadir el elemento `s` que accede directamente a la lista en el proceso. Esto proporciona una cadena de PID separados por espacio con la que la Shell ya puede trabajar y de podría, por ejemplo hacer `kill $pids` desde dentro de IPython.\n",
    "\n",
    "Por último, el método `grep()` adopta un último parámetro opcional denominado `field`. Si se especifica, los criterios de búsqueda tienen que coincidir con ese campo para que se incluya en el resultado. Esto coincidía con las dilas exactas que se quieren pero mostraba toda la fila. Para llegar solo al PID hay que añadirle `fields(1)` detrás."
   ]
  },
  {
   "cell_type": "code",
   "execution_count": null,
   "metadata": {},
   "outputs": [],
   "source": [
    "ps = !ps aux\n",
    "ps.grep('nachoaz', field=0).fields(1)"
   ]
  },
  {
   "cell_type": "markdown",
   "metadata": {},
   "source": [
    "## Perfil sh"
   ]
  },
  {
   "cell_type": "markdown",
   "metadata": {},
   "source": [
    "Un perfil es simplemente un conjunto de datos de configuracioń que se carga cuando se inicia IPython. Puede personalizarse un número de perfiles para hacer qye IPython se lleve a cabo de diferentes formas dependiendo de las necesidades de la sesión. Para invocar un perfil específico se utiliza la opción de línea de comando `-p` y se especifica el perfil que se quiere utilizar.\n",
    "\n",
    "El perfil `sh` es el más utilizado dado que incorpora ciertos elementos de configuración de modo que IPython se convierte en una shell del sistema más amigable.\n",
    "\n",
    "Dos ejemplos de valores de configuración que son diferentes del perfil estándar de IPython son que `sh` muestra el directorio actual y `rehash` y su `PATH` de modo que tiene acceso instantáneo a todos los mismos ejecutables que tednría en `bash`.\n",
    "\n",
    "`sh` permite además la extensión `envpersist`. Permite modificar varias variables de entorno fácilmente y de forma persistente para su perfil `sh` IPython sin necesidad de actualizar el `.bash_profile` o `.bashrc`.\n",
    "\n",
    "En un terminal introducimos:\n",
    "\n",
    "```bash\n",
    "ipython --profile=sh\n",
    "\n",
    "Python 3.6.8 (default, Jan 14 2019, 11:02:34) \n",
    "Type 'copyright', 'credits' or 'license' for more information\n",
    "IPython 7.5.0 -- An enhanced Interactive Python. Type '?' for help.\n",
    "\n",
    "IPython profile: sh\n",
    "\n",
    "In [1]:                                                                                                           \n",
    "```\n",
    "\n",
    "Y tenemos la consola de IPython con el perfil de `sh` cargado."
   ]
  },
  {
   "cell_type": "markdown",
   "metadata": {},
   "source": [
    "## Recopilación de información"
   ]
  },
  {
   "cell_type": "markdown",
   "metadata": {},
   "source": [
    "### page\n",
    "\n",
    "Si un objeto no entra en la pantalla, con la función mágica `page` puede obtenerse un paginador. El predeterminado por el sistema es `less`. Un ejemplo sería el siguiente que si se compara con la función `page` permite tenerlo de manera completa en lugar de tener que hacer _scroll_ para ver todo el contenido en la celdilla."
   ]
  },
  {
   "cell_type": "code",
   "execution_count": null,
   "metadata": {},
   "outputs": [],
   "source": [
    "p = !ps aux\n",
    "print(p)"
   ]
  },
  {
   "cell_type": "code",
   "execution_count": null,
   "metadata": {},
   "outputs": [],
   "source": [
    "%page -r p"
   ]
  },
  {
   "cell_type": "markdown",
   "metadata": {},
   "source": [
    "### pinfo\n",
    "\n",
    "Proporciona información como tipo, clase base, espacio de nombre y _docstring_. Si tenemos un módulo que contiene una serie de clases se puede solicitar información del propio módulo."
   ]
  },
  {
   "cell_type": "code",
   "execution_count": null,
   "metadata": {},
   "outputs": [],
   "source": [
    "import time\n",
    "import cv2"
   ]
  },
  {
   "cell_type": "code",
   "execution_count": null,
   "metadata": {},
   "outputs": [],
   "source": [
    "%pinfo time"
   ]
  },
  {
   "cell_type": "markdown",
   "metadata": {},
   "source": [
    "Puede soliitarse información acerca de:\n",
    "- Del propio módulo:\n",
    "    ```python\n",
    "    pinfo module\n",
    "    ```\n",
    "- De una clase del módulo:\n",
    "    ```python\n",
    "    pinfo module.foo\n",
    "    ```\n",
    "- De una instancia de una de las clases:\n",
    "    ```python\n",
    "    f = module.Foo()\n",
    "    pinfo p\n",
    "    ```\n",
    "`pinfo` tiene la misma funcionalidad que `?` delante del nombre de un objeto como se vió al principio."
   ]
  },
  {
   "cell_type": "markdown",
   "metadata": {},
   "source": [
    "### psearch\n",
    "\n",
    "Esta función mágica buscará objetos Python por nombre con la ayuda de comodines. Declarando una secuencia de objetos:"
   ]
  },
  {
   "cell_type": "code",
   "execution_count": null,
   "metadata": {},
   "outputs": [],
   "source": [
    "a = 1\n",
    "aa = \"one\"\n",
    "b = 2\n",
    "bb = \"two\"\n",
    "c = 3\n",
    "cc = \"three\""
   ]
  },
  {
   "cell_type": "code",
   "execution_count": null,
   "metadata": {},
   "outputs": [],
   "source": [
    "psearch a*"
   ]
  },
  {
   "cell_type": "markdown",
   "metadata": {},
   "source": [
    "Los objetos que se han encontrado además de `a`, `aa`, `b`, etc son objetos incorporados. Una alternativa rápida a `psearch` es cambiarlo por `?`. Puede usarse `-s` para buscar, `-e` para excluir en un determinado espacio de nombre. Estos espacios de nombre incluyen `builtin`, `user_local`, `user_global`, `internal` y `alias`. Por defecto, `psearch` busca en los dos primeros. Para buscar explícitaente en `user_local` puede pasar una opción a `psearch` para excluir buscar el espacio de nombre `builtin`. La ruta de búsqueda predeterminada para `psearch` es: `builtin` y `user_local` por lo que si especificamos `-s user` buscar `builtin` y `user_local` seguirá siendo lo que hemos pedido que haga."
   ]
  },
  {
   "cell_type": "code",
   "execution_count": null,
   "metadata": {},
   "outputs": [],
   "source": [
    "%psearch -e builtin a*"
   ]
  },
  {
   "cell_type": "code",
   "execution_count": null,
   "metadata": {},
   "outputs": [],
   "source": [
    "%psearch -s user_local a*"
   ]
  },
  {
   "cell_type": "markdown",
   "metadata": {},
   "source": [
    "`psearch` permite también buscar tipos específicos de objetos. Si, por ejemplo, se busca el espacio de nombres `user_local` en busca de enteros:"
   ]
  },
  {
   "cell_type": "code",
   "execution_count": null,
   "metadata": {},
   "outputs": [],
   "source": [
    "%psearch a*.* int"
   ]
  },
  {
   "cell_type": "markdown",
   "metadata": {},
   "source": [
    "Y si buscamos cadenas:"
   ]
  },
  {
   "cell_type": "code",
   "execution_count": null,
   "metadata": {},
   "outputs": [],
   "source": [
    "%psearch -e builtin * string"
   ]
  },
  {
   "cell_type": "markdown",
   "metadata": {},
   "source": [
    "### who\n",
    "\n",
    "IPython proporciona un número de facilidades para listar todos los objetos interactivos. "
   ]
  },
  {
   "cell_type": "code",
   "execution_count": null,
   "metadata": {},
   "outputs": [],
   "source": [
    "%who"
   ]
  },
  {
   "cell_type": "markdown",
   "metadata": {},
   "source": [
    "O especificando el tipo:"
   ]
  },
  {
   "cell_type": "code",
   "execution_count": null,
   "metadata": {},
   "outputs": [],
   "source": [
    "#%who int\n",
    "%who str"
   ]
  },
  {
   "cell_type": "markdown",
   "metadata": {},
   "source": [
    "### who_ls\n",
    "\n",
    "Es similar a `who` pero retorna una lista con la que se pueden hacer otras operaciones:"
   ]
  },
  {
   "cell_type": "code",
   "execution_count": null,
   "metadata": {},
   "outputs": [],
   "source": [
    "%who_ls str"
   ]
  },
  {
   "cell_type": "code",
   "execution_count": null,
   "metadata": {},
   "outputs": [],
   "source": [
    "# con _ se accede a la última lista de nombres.\n",
    "# Es: el último resultado\n",
    "for i in _:\n",
    "    print(i)"
   ]
  },
  {
   "cell_type": "markdown",
   "metadata": {},
   "source": [
    "### whos\n",
    "\n",
    "Es similar a `who` pero imprime información que no saca la anterior función mágica."
   ]
  },
  {
   "cell_type": "code",
   "execution_count": null,
   "metadata": {},
   "outputs": [],
   "source": [
    "%whos"
   ]
  },
  {
   "cell_type": "markdown",
   "metadata": {},
   "source": [
    "### macro\n",
    "\n",
    "`macro` permite definir un bloque de código que se ejecutará más adelante en línea con cualquier código que se esté trabajando. Es diferente de crear funciones o métodos. La macro se hace consciente del contexto actual del código. Si tiene un conjunto común de pasos de procesado que frecuentemente se ejecuta en todos los archivos, se puede crear una `macro` para trabajar en los archivos. Por ejemplo"
   ]
  },
  {
   "cell_type": "code",
   "execution_count": null,
   "metadata": {},
   "outputs": [],
   "source": [
    "dirlist = []"
   ]
  },
  {
   "cell_type": "code",
   "execution_count": null,
   "metadata": {},
   "outputs": [],
   "source": [
    "for f in dirlist:\n",
    "    print(\"Working on\", f)\n",
    "    print(\"done with\", f)\n",
    "    print(\"moving %s to %s.done\" % (f, f))\n",
    "    print(\"*\" * 40)"
   ]
  },
  {
   "cell_type": "markdown",
   "metadata": {},
   "source": [
    "Sintaxis: `macro nombre_macro rango_de_lineas`.\n",
    "\n",
    "Donde el rango de líneas es la lista de las lineas de la historia que se quiere incorporar al `macro`.\n",
    "\n",
    "_Nota: Hay que fijarse en el número que está encerrado en la celdilla, ya que el código puede editarse y guardarse después. Una modificación en la celdilla anterior eleva otro número de ejecución y ese será el que queramos guardar. De igual modo pueden establecerse rangos de celdillas separado por `-`_."
   ]
  },
  {
   "cell_type": "code",
   "execution_count": null,
   "metadata": {},
   "outputs": [],
   "source": [
    "%macro procdir 33"
   ]
  },
  {
   "cell_type": "code",
   "execution_count": null,
   "metadata": {},
   "outputs": [],
   "source": [
    "dirlist = ['a.txt', 'b.txt', 'c.txt']"
   ]
  },
  {
   "cell_type": "code",
   "execution_count": null,
   "metadata": {},
   "outputs": [],
   "source": [
    "procdir"
   ]
  },
  {
   "cell_type": "markdown",
   "metadata": {},
   "source": [
    "# store\n",
    "\n",
    "Para almacenar los macros guardados se utiliza la función `store` seguido del nombre que se le quiera dar a la _macro_."
   ]
  },
  {
   "cell_type": "code",
   "execution_count": null,
   "metadata": {},
   "outputs": [],
   "source": [
    "%store procdir"
   ]
  },
  {
   "cell_type": "markdown",
   "metadata": {},
   "source": [
    "### reset\n",
    "\n",
    "Para eliminar todas las variables del espacio de nombres se utiliza la función `reset`. En el siguiente ejemplo puede verse como se crean unas vatiables que se eliminan posteriormente utilizando `reset`."
   ]
  },
  {
   "cell_type": "code",
   "execution_count": null,
   "metadata": {},
   "outputs": [],
   "source": [
    "a = 1\n",
    "b = 2\n",
    "c = 3\n",
    "%whos"
   ]
  },
  {
   "cell_type": "code",
   "execution_count": null,
   "metadata": {},
   "outputs": [],
   "source": [
    "%reset"
   ]
  },
  {
   "cell_type": "code",
   "execution_count": null,
   "metadata": {},
   "outputs": [],
   "source": [
    "%whos"
   ]
  },
  {
   "cell_type": "markdown",
   "metadata": {},
   "source": [
    "### run\n",
    "\n",
    "Con la función `run` se puede ejecutar un archivo que se especifique a IPython. Esto permite trabajar en un módulo Python en un editor de texto externo y comprobar interactivamente los cambios que se hace en él desde IPython o Jupyter como se está haciendo en este documento. Después de ejecutar el programa, se devuelve a la shell de IPython. La sintaxis para ejecutar es: `run opciones_archivo arguments`. Existen diferentes opciones:\n",
    " \n",
    "- `-n`: hace que la variable `__name__` del módulo se establezca no en `__main__` sino en su propio nombre. Esto hace que el módulo se ejecute como si simplemente se importara.\n",
    "- `-i`: Ejecuta el módulo en el espacio de nombre actual de IPython y proporciona al módulo acceso a todas las variables definidas.\n",
    "- `-e`: Hace que IPython ignore llamadas a `sys.exit()` y excepciones `SystemExit`. Si algo de esto ocurre, IPython simplemente continúa con el programa.\n",
    "- `-t`: Hace que IPython imprima información sobre la longitud de tiempo que tardó el módulo en ejecutarse.\n",
    "- `-d`: hace que el módulo especificado se ejecuta bajo el depurador Python (pdb).\n",
    "- `-p` : Ejecuta el módulo especificado bajo el creador de perfil Python."
   ]
  },
  {
   "cell_type": "markdown",
   "metadata": {},
   "source": [
    "### save\n",
    "\n",
    "Para guardar las líneas de entrada especificadas en el archivo de salida se utiliza la sintaxis: \n",
    "\n",
    "```python\n",
    "%save opciones nombre_archivo lineas\n",
    "```\n",
    "\n",
    "La única opción de la función `save` es `-r` que especifica que se guardará el archivo de entrada sin formato (raw) en lugar de traducido."
   ]
  },
  {
   "cell_type": "markdown",
   "metadata": {},
   "source": [
    "### rep\n",
    "\n",
    "Esta función toma un número de parámetros que se podría encontrar de utilidad. Utilizar `rep` sin parámetros toma el último resultado queq se procesó (como el `ans` de las calculadoras científicas) y sitúa una representación de ello en la siguiente entrada."
   ]
  },
  {
   "cell_type": "code",
   "execution_count": null,
   "metadata": {},
   "outputs": [],
   "source": [
    "def format_str(s):\n",
    "    return \"str(%s)\" % s"
   ]
  },
  {
   "cell_type": "code",
   "execution_count": null,
   "metadata": {},
   "outputs": [],
   "source": [
    "format_str(1)"
   ]
  },
  {
   "cell_type": "code",
   "execution_count": null,
   "metadata": {},
   "outputs": [],
   "source": [
    "%rep"
   ]
  },
  {
   "cell_type": "code",
   "execution_count": null,
   "metadata": {},
   "outputs": [],
   "source": [
    "str(1)"
   ]
  },
  {
   "cell_type": "code",
   "execution_count": null,
   "metadata": {},
   "outputs": [],
   "source": []
  },
  {
   "cell_type": "markdown",
   "metadata": {},
   "source": [
    "## Texto\n",
    "\n",
    "Métodos `lstrin()`, `rstrip()`. `strip()`\n",
    "\n",
    "- `lstrip()`: Utilizarlo sin argumentos elimina todo espacio en blanco que esté al **principio** de la cadena y devuelve una nueva cadena (no modifica la original).\n",
    "- `rstrip()`: Sin argumentos elimina todo espacio en blanco al **final** de la cadena y devuelve una nueva cadena.\n",
    "- `strip()`: Elimina espacio en blanco al **principio** y **final** de la cadena y devuelve una nueva cadena.\n",
    "\n",
    "Ejemplos:"
   ]
  },
  {
   "cell_type": "code",
   "execution_count": null,
   "metadata": {},
   "outputs": [],
   "source": [
    "spacious_string = \"\\n\\t Texto sin espacios \\t\\r\"\n",
    "print(spacious_string)"
   ]
  },
  {
   "cell_type": "code",
   "execution_count": null,
   "metadata": {},
   "outputs": [],
   "source": [
    "print(spacious_string.lstrip()) # Elimina los espacios al principio de la cadena (preserva el \\t\\r)\n",
    "print(spacious_string.rstrip()) # Elimina los espacios al final de la cadena (preserva el \\n\\t)\n",
    "print(spacious_string.strip())  # Elimina los espacios al principio y al final de la cadena"
   ]
  },
  {
   "cell_type": "markdown",
   "metadata": {},
   "source": [
    "Estos métodos con _strings_ también son útiles para eliminar partes de una cadena, como por ejemplo parsear un `xml`."
   ]
  },
  {
   "cell_type": "code",
   "execution_count": null,
   "metadata": {},
   "outputs": [],
   "source": [
    "##### xml_tag = \"<some_tag>\"\n",
    "xml_tag.lstrip(\"<\")"
   ]
  },
  {
   "cell_type": "code",
   "execution_count": null,
   "metadata": {},
   "outputs": [],
   "source": [
    "xml_tag.lstrip(\">\") # Como al principio de la cadena no existe ese caracter, el resutado es el mismo"
   ]
  },
  {
   "cell_type": "code",
   "execution_count": null,
   "metadata": {},
   "outputs": [],
   "source": [
    "xml_tag.rstrip(\">\")"
   ]
  },
  {
   "cell_type": "code",
   "execution_count": null,
   "metadata": {},
   "outputs": [],
   "source": [
    "xml_tag.strip(\"<\").strip(\">\")"
   ]
  },
  {
   "cell_type": "code",
   "execution_count": null,
   "metadata": {},
   "outputs": [],
   "source": [
    "xml_tag.strip(\"<>\")"
   ]
  },
  {
   "cell_type": "code",
   "execution_count": null,
   "metadata": {},
   "outputs": [],
   "source": [
    "gt_it_str = \"<><><>gt lt str<><><>\""
   ]
  },
  {
   "cell_type": "code",
   "execution_count": null,
   "metadata": {},
   "outputs": [],
   "source": [
    "gt_it_str.strip(\"<>\")"
   ]
  },
  {
   "cell_type": "markdown",
   "metadata": {},
   "source": [
    "También hay que tener cuidado con `strip()` dado que elimina **todas** las coincidencias que encuentre en la cadena y no patrones como puede parecer. En el siguiente ejemplo puede verse claramente."
   ]
  },
  {
   "cell_type": "code",
   "execution_count": null,
   "metadata": {},
   "outputs": [],
   "source": [
    "foo_str = \"<fooooooooo>hola<foo>\""
   ]
  },
  {
   "cell_type": "code",
   "execution_count": null,
   "metadata": {},
   "outputs": [],
   "source": [
    "foo_str.strip(\"<foo>\")"
   ]
  },
  {
   "cell_type": "markdown",
   "metadata": {},
   "source": [
    "## Expresiones regulares (re)\n",
    "\n",
    "El patrón que buscaremos tiene que coincidir con dos llaves abiertas consecutivas seguidas por cualquier texto ( o no texto) seguido por dos llaves cerradas consecutivas."
   ]
  },
  {
   "cell_type": "code",
   "execution_count": null,
   "metadata": {},
   "outputs": [],
   "source": [
    "import re\n",
    "\n",
    "re_string = \"{{(.*?)}}\"\n",
    "some_string = \"Esta cadena contiene {{palabras}} dentro de {{corchetes}} para mostrar un {{ejemplo}} de {{expresión regular}}\"\n",
    "\n",
    "# findall retorna una lista con las coincidencias en la expresión regular\n",
    "for match in re.findall(re_string, some_string):\n",
    "    print(\"COINCIDENCIAS-> \", match)"
   ]
  },
  {
   "cell_type": "code",
   "execution_count": null,
   "metadata": {},
   "outputs": [],
   "source": [
    "re.findall(re_string, some_string)"
   ]
  },
  {
   "cell_type": "markdown",
   "metadata": {},
   "source": [
    "Otra manera de trabajar con expresiones regulares en Python es mediante la creación de un objeto de **expresión regular compilada** y utilizar los métodos de ese objeto.\n",
    "\n",
    "Una **expresión regular compilada** es un objeto que se creó al pasar un patrón a `re.compile()`. Contiene un número de métodos de expresión regular que se crearon al pasar un patrón a `re.compile()`. Existen dos diferencias principales entre utilizar los ejemplos compilados y no compilados. Primero, en lugar de mantener una referencia al patrón de expresión regular \"`{{(.*?)}}`\" se crea un objeto de expresión regular compilada y se utiliza el patrón para crearlo. En segundo lugar, en lugar de invocar a `findall()` del módulo `re` se invoca `findall()` en el objeto de expresión regular compilada."
   ]
  },
  {
   "cell_type": "code",
   "execution_count": null,
   "metadata": {},
   "outputs": [],
   "source": [
    "import re\n",
    "\n",
    "re_obj = re.compile(\"{{(.*?)}}\")\n",
    "some_string = \"Esta cadena contiene {{palabras}} dentro de {{corchetes}} para mostrar un {{ejemplo}} de {{expresión regular}}\"\n",
    "\n",
    "for match in re_obj.findall(some_string):\n",
    "    print(\"COINCIDENCIAS-> \", match)"
   ]
  },
  {
   "cell_type": "markdown",
   "metadata": {},
   "source": [
    "El segundo método (expresión regular compilada) es mucho más eficiente en términos de tiempo de búsqueda por lo que es recomendable su uso en vez de la primera opción."
   ]
  },
  {
   "cell_type": "markdown",
   "metadata": {},
   "source": [
    "## Subprocess\n",
    "\n",
    "Subprocess puede realizar las siguientes operaciones: originar nuevos procesos conectados a entrada salida, conectados a salida estandar, conectados a flujos de error y escuchando código de retorno. Para entender el funcionamiento se aplicará un ejemplo sencillo."
   ]
  },
  {
   "cell_type": "code",
   "execution_count": null,
   "metadata": {},
   "outputs": [],
   "source": [
    "import subprocess\n",
    "\n",
    "subprocess.call('df -k', shell=True)"
   ]
  },
  {
   "cell_type": "markdown",
   "metadata": {},
   "source": [
    "La salida de este comando es un $0$ dado que, al ser un subproceso está saliendo por la salida estandar, que en este caso es la que origina Jupyter, el terminal. Si vemos en el terminal donde se lanzó el cuadernillo vemos la salida del comando. Los códigos de retorno más comunes son:\n",
    "- 0: Éxito\n",
    "- 1: Errores generales\n",
    "- 2: Mal uso de programas internos en shell.\n",
    "- 126: El comando invocado no se puede ejecutar.\n",
    "- 127: Comando no encontrado\n",
    "- 128: Argumento no válido para salid.\n",
    "- 130: Script terminado por Control-C."
   ]
  },
  {
   "cell_type": "markdown",
   "metadata": {},
   "source": [
    "A `subprocess.call()` se le pueden añadir más opciones como:\n",
    "\n",
    "```python\n",
    "subprocess.call(\"ping -c 1 10.0.1.1\",\n",
    "                shell=True,\n",
    "                stdout=open('/dev/null', 'w'),\n",
    "                stderr=subprocess.STDOUT)\n",
    "```\n",
    "\n",
    "Si se necesita **capturar la salida de un comando** se utiliza `subprocess.Popen`. Otra diferencia importante es que `subprocess.call()` se queda bloqueado esperando una respuesta mientras que `suprocess.Popen()`, no."
   ]
  },
  {
   "cell_type": "code",
   "execution_count": null,
   "metadata": {},
   "outputs": [],
   "source": [
    "p = subprocess.Popen('df -h', shell=True, stdout=subprocess.PIPE)\n",
    "out = p.stdout.readlines()\n",
    "\n",
    "for line in out:\n",
    "    print(line.strip())"
   ]
  },
  {
   "cell_type": "markdown",
   "metadata": {},
   "source": [
    "### Nota: *args y *kargs\n",
    "\n",
    "`*args` y `**kwargs` permiten pasar un número variable de argumentos a una función cuando no sabes de antemano cuántos argumentos puede pasar el usuario a la función, así que en este caso usas estas dos palabras clave cuya diferencia está en que la segunda hace referencia a un diccionario. A continuación, dos ejemplos."
   ]
  },
  {
   "cell_type": "code",
   "execution_count": null,
   "metadata": {},
   "outputs": [],
   "source": [
    "def test_var_args(f_arg, *argv):\n",
    "    print \"first normal arg:\", f_arg\n",
    "    for arg in argv:\n",
    "        print \"another arg through *argv :\", arg\n",
    "\n",
    "test_var_args('yasoob','python','eggs','test')"
   ]
  },
  {
   "cell_type": "code",
   "execution_count": null,
   "metadata": {},
   "outputs": [],
   "source": [
    "def test_kwargs(**kwargs):\n",
    "    if kwargs is not None:\n",
    "        for key, value in kwargs.iteritems():\n",
    "            print \"%s == %s\" %(key, value)\n",
    " \n",
    "\n",
    "my_kwargs = {\"arg3\": 3, \"arg2\": \"two\",\"arg1\":5}\n",
    "greet_me(**my_kwargs)"
   ]
  },
  {
   "cell_type": "code",
   "execution_count": null,
   "metadata": {},
   "outputs": [],
   "source": [
    "def test_kwargs(**kwargs):\n",
    "    if kwargs is not None:\n",
    "        for key, value in kwargs.iteritems():\n",
    "            print \"%s == %s\" %(key, value)\n",
    " \n",
    "test_kwargs(arg1=3, arg2=\"two\", arg3=5)"
   ]
  },
  {
   "cell_type": "markdown",
   "metadata": {},
   "source": [
    "Lo que permite las funciones de Python `*args` y `**kwargs` es poder definir funciones donde se le pasarán distintos números de argumentos definiendo una única función. Por ejemplo, ejecutar secuencias de comandos o ejecutar comandos en distintas máquinas podría estar contenido en una función como esta:"
   ]
  },
  {
   "cell_type": "code",
   "execution_count": null,
   "metadata": {},
   "outputs": [],
   "source": [
    "def multi(*args):\n",
    "    for cmd in args:\n",
    "        p = subprocess.Popen(cmd, shell=True, stdout=subprocess.PIPE)\n",
    "        out = p.stdout.read()\n",
    "        print(out)"
   ]
  },
  {
   "cell_type": "markdown",
   "metadata": {},
   "source": [
    "También puede comunicarse escribiendo en `stdin`. La utilidad de contar palabras se le dirá que escuche la entrada estándar y luego se escribirá una cadena de caracteres para que procese la utilidad. *Recordar que el resultado sale por la terminal*."
   ]
  },
  {
   "cell_type": "code",
   "execution_count": null,
   "metadata": {},
   "outputs": [],
   "source": [
    "p = subprocess.Popen(\"wc -c\", shell=True, stdin=subprocess.PIPE)\n",
    "p.communicate(\"holaquetal\")"
   ]
  },
  {
   "cell_type": "markdown",
   "metadata": {},
   "source": [
    "Puede hacerse el mismo proceso leyendo de un archivo:"
   ]
  },
  {
   "cell_type": "code",
   "execution_count": null,
   "metadata": {},
   "outputs": [],
   "source": [
    "with open('text.txt', 'w') as file:\n",
    "    file.write(\"holaquetal\")\n",
    "    \n",
    "file = open('text.txt')\n",
    "f = file.read()\n",
    "\n",
    "p = subprocess.Popen(\"wc -c\", shell=True, stdin=subprocess.PIPE)\n",
    "p.communicate(f)"
   ]
  },
  {
   "cell_type": "markdown",
   "metadata": {},
   "source": [
    "Sería equivalente en bash a:\n",
    "\n",
    "```bash\n",
    "wc -c < text.txt\n",
    "\n",
    "10\n",
    "```"
   ]
  },
  {
   "cell_type": "markdown",
   "metadata": {},
   "source": [
    "Para encadenar comandos con Subprocess como haríamos en Bash: `cat /etc/passwd | grep 0:0 | cut -d ':' -f 7` hay que enlazar la salida de uno con la entrada `stdin` del siguiente de la siguiente manera:"
   ]
  },
  {
   "cell_type": "code",
   "execution_count": null,
   "metadata": {},
   "outputs": [],
   "source": [
    "p1 = subprocess.Popen('cat /etc/passwd', shell=True, stdout=subprocess.PIPE)\n",
    "p2 = subprocess.Popen('grep 0:0', shell=True, stdin=p1.stdout, stdout=subprocess.PIPE)\n",
    "p3 = subprocess.Popen(\"cut -d ': ' -f 7\", shell=True, stdin=p2.stdout, stdout=subprocess.PIPE)\n",
    "print(p3.stdout.read())"
   ]
  },
  {
   "cell_type": "markdown",
   "metadata": {},
   "source": [
    "En este caso no sería necesario concatenera subprocesos para obtener esa información, bastaría con utilizar el módulo de Python `pwd` y hacer un `pwd.getpwnam('root')` para obtener una lista cuyo último elemento es el mismo que todo el proceso realizado con los subproces: `/bin/sh`. Se muestra el proceso de concatenación a modo ilustrativo."
   ]
  },
  {
   "cell_type": "markdown",
   "metadata": {},
   "source": [
    "## Hilos de ejecución\n",
    "\n",
    "Los hilos de ejecución se ejecutan dentro del mismo proceso y comparten estado y memoria a diferencia de los procesos. Como ventaja es que puede crear una estructura de datos a la que pueden acceder todos los hilos de ejecución sin crear un mecanismo de comunicación entre aplicaciones.\n",
    "\n",
    "Como desventaja, a menudo un programa que sea complejo es dificil de depurar si se encuentra un problema en la ejecución y es necesario añadir un seguimiento (y aún así es complejo).\n",
    "\n",
    "Veamos un ejemplo sencillo de implementación de hilos. En el script se hereda de la clase `threading.Thread`, se establece una variable `count` y después se anula el método ejecutar para, por último, lanzar cinco hilos de ejecución que explícitamente imprimen su número. El ejemplo es muy simple y con mal diseño ya que se está utilizando una variable global y permite que los hilos puedan compartir estado. Lo ideal sería utilizar colas con hilos de ejecución ya que se ocupan de la complejidad de tratar con estados compartidos (condicionamiento de carrera). De hecho si se ejecuta varias veces puede verse como en algunas ocasiones no se listan los 5 hilos y algunos comparten el valor de la variable `count`. Esto puede ser un problema cuando se quiere trazar."
   ]
  },
  {
   "cell_type": "code",
   "execution_count": null,
   "metadata": {},
   "outputs": [],
   "source": [
    "# Mal diseño por estado compartido:\n",
    "import threading\n",
    "import time\n",
    "\n",
    "count = 1\n",
    "class MyThread(threading.Thread):\n",
    "    def run(self):\n",
    "        global count\n",
    "        print(\"Thread # %s \" % count)\n",
    "        count += 1\n",
    "        time.sleep(2)\n",
    "        print(\"Terminado.\\r\")\n",
    "        \n",
    "for i in range(5):\n",
    "    MyThread().start()"
   ]
  },
  {
   "cell_type": "markdown",
   "metadata": {},
   "source": [
    "Nótese como las primeras trazas (Thread n) se lanzan a la vez y pasados dos segundos devuelven el resultado todas a la vez. El método `run` que se ha implementado, si no se hubieran usado hilos iría de manera secuencial.\n",
    "\n",
    "Veamos ahora un ejemplo utilizando una cola (Queue) y esperar respuetas de ping."
   ]
  },
  {
   "cell_type": "code",
   "execution_count": null,
   "metadata": {},
   "outputs": [],
   "source": [
    "from threading import Thread\n",
    "import subprocess\n",
    "from Queue import Queue\n",
    "\n",
    "num_threads = 3\n",
    "queue = Queue()\n",
    "ips = ['10.0.1.1', '10.0.1.3', '10.0.1.11', '10.0.1.51']\n",
    "\n",
    "def pinger(i, q):\n",
    "    '''Ping a una subred'''\n",
    "    \n",
    "    while True:\n",
    "        ip = q.get()\n",
    "        print(\"Thread # %s: Pinging %s\\n\" % (i, ip))\n",
    "        ret = subprocess.call('ping -c 1 %s' %ip,\n",
    "                              shell = True,\n",
    "                              stdout = open('/dev/null', 'w'),\n",
    "                             stderr=subprocess.STDOUT)\n",
    "        if ret == 0:\n",
    "            print(\"%s is alive\" %ip)\n",
    "        else:\n",
    "            print(\"%s: no responde\" % ip)\n",
    "        q.task_done()\n",
    "        \n",
    "for i in range(num_threads):\n",
    "    \n",
    "    worker = Thread(target=pinger, args=(i, queue))\n",
    "    worker.setDaemon(True)\n",
    "    worker.start()\n",
    "\n",
    "for ip in ips:\n",
    "    queue.put(ip)\n",
    "    \n",
    "print(\"Hilo principal esperando ...\")\n",
    "queue.join()\n",
    "print(\"Hecho!\")"
   ]
  },
  {
   "cell_type": "markdown",
   "metadata": {},
   "source": [
    "Utilizar hilos de ejecución para desarrollar un barrido ping en una subred es un buen ejemplo. Un programa Python sin hilos de ejecución tardaría $N*(tiempo medio de respuesta de ping)$ en resolver todas las IPs. Existen dos estados: estado respuesta y estado *timeout*. Una red típica sería una mezcla entre ambas. \n",
    "\n",
    "Esto significa que una red de clase C (254 direcciones) podría llevar unos $3\\ segundos$ utilizando hilos de ejecución. Sin hilos podría llevar unos $12.7\\ minutos$.\n",
    "\n",
    "El módulo `Queue` empleado facilita al programador la necesidad de controlar el condicionamiento de carrera y realiza los `mutex` de manera interna, protegiendo las variables para no tener dos accesos en el mismo instante. Queue proporciona a un grupo de \"trabajadores\" algo que hacer y cuando la cola está vacía se ha acabado el trabajo.\n",
    "\n",
    "En el código anterior, la parte clave de la cola es el método `join()`. Es una forma de controlar que el hilo de ejecución principal no abandone el programa antes que los otros hilos de ejecución tengan la posibilidad de terminar de trabajar en elementos de una cola. Si comentamos esa línea, el programa principal termina antes que los hilos de ejecución siendo esto un verdadero problema.\n",
    "\n",
    "Destacable también el método `q.task_done()` al final del método `pinger()` que le dice a la cola que se ha completado la tarea y, por tanto, lo libera de la cola. Así mismo `q.get()` pide a la cola una tarea que realizar.\n",
    "\n",
    "Es importante también el uso de `setDaemon(True)` antes de invocar al método `start()` para que el programa NO se cuelgue indefinidamente ya que un programa solo saldrá o terminará si se están ejecutando hilos de ejecución *daemon*."
   ]
  },
  {
   "cell_type": "markdown",
   "metadata": {},
   "source": [
    "### Programar procesos en Python\n",
    "\n",
    "Una manera que tiene un administrador de sistemas de enviar un reporte diario sobre el uso de disco (por ejemplo) es programar con la herramienta de UNIX `cron` el envio automático de un correo del siguiente modo:\n",
    "\n",
    "```bash\n",
    "59 23 * * * df -h | mail -s \"Reporte diario\\n\" correo@dominio.com\n",
    "```\n",
    "\n",
    "La manera en la que se podría hacer con Python es crear un script y que sea lanzado por la herramienta Cron. Un ejemplo de un script de correo sería:"
   ]
  },
  {
   "cell_type": "code",
   "execution_count": null,
   "metadata": {},
   "outputs": [],
   "source": [
    "import smtplib\n",
    "import subprocess\n",
    "import string\n",
    "\n",
    "p = subprocess.Popen(\"df -h\", shell=True, stdout=subprocess.PIPE)\n",
    "MSG = p.stdout.read()\n",
    "FROM = \"sysadmin@dominio.com\"\n",
    "TO = \"correo@dominio.com\"\n",
    "SUBJECT = \"Informe diario\"\n",
    "msg = "
   ]
  }
 ],
 "metadata": {
  "kernelspec": {
   "display_name": "Python 2",
   "language": "python",
   "name": "python2"
  },
  "language_info": {
   "codemirror_mode": {
    "name": "ipython",
    "version": 2
   },
   "file_extension": ".py",
   "mimetype": "text/x-python",
   "name": "python",
   "nbconvert_exporter": "python",
   "pygments_lexer": "ipython2",
   "version": "2.7.10"
  }
 },
 "nbformat": 4,
 "nbformat_minor": 2
}
