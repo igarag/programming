{
 "cells": [
  {
   "cell_type": "markdown",
   "metadata": {},
   "source": [
    "# IPython para administración de sistemas Unix"
   ]
  },
  {
   "cell_type": "markdown",
   "metadata": {},
   "source": [
    "Pueden listarse las funciones dentro de un módulo con la consola de `IPython` usando el **tabulador** cuando se importa el módulo, se escribe por consola y se añade un punto:\n",
    "\n",
    "```python\n",
    "import subprocess\n",
    "subprocess.\n",
    "```"
   ]
  },
  {
   "cell_type": "markdown",
   "metadata": {},
   "source": [
    "Para conocer un ejemplo de uso de una de las funciones puede añadirse un `?` detrás de la función como en el ejemplo. Puede obtenerse más ayuda si se introducen dos `??`."
   ]
  },
  {
   "cell_type": "code",
   "execution_count": null,
   "metadata": {},
   "outputs": [],
   "source": [
    "subprocess.getoutput??"
   ]
  },
  {
   "cell_type": "markdown",
   "metadata": {},
   "source": [
    "Es buena idea cuando se crean scripts de shell con Python envolver todas las funciones que representan un módulo en un `main` de tal manera que se ejecuten secuencialmente todas las funciones. De esta manera se tienen por un lado llamadas individuales a las funciones y por otro el conjunto de todas ellas. A esta función `main` se le denomina **flujo de control**."
   ]
  },
  {
   "cell_type": "code",
   "execution_count": null,
   "metadata": {},
   "outputs": [],
   "source": [
    "import subprocess\n",
    "\n",
    "# Comando 1\n",
    "def uname_func():\n",
    "    \n",
    "    uname = \"uname\"\n",
    "    uname_arg = \"-a\"\n",
    "    print(\"Gathering system informatiokn with %s command:\\n\" % uname)\n",
    "    subprocess.call([uname, uname_arg])\n",
    "    \n",
    "    \n",
    "#Comando 2\n",
    "def disk_func():\n",
    "    \n",
    "    diskspace = \"df\"\n",
    "    diskspace_arg = \"-h\"\n",
    "    print(\"Gathering diskpace information %s command:\\n\" % diskspace)\n",
    "    subprocess.call([diskspace, diskspace_arg])\n",
    "\n",
    "    \n",
    "# Función principal que invoca otras funciones.\n",
    "def main():\n",
    "    uname_func()\n",
    "    disk_func()\n",
    "    \n",
    "main()"
   ]
  },
  {
   "cell_type": "markdown",
   "metadata": {},
   "source": [
    "## Funciones mágicas"
   ]
  },
  {
   "cell_type": "markdown",
   "metadata": {},
   "source": [
    "Para listar las funciones mágicas introducir: `lsmagic`. También puede utilizarse el tabulador si se pone por delante el caracter especial `%`. Puede desplegarse una ayuda si se introduce el comando: `magic`."
   ]
  },
  {
   "cell_type": "code",
   "execution_count": null,
   "metadata": {},
   "outputs": [],
   "source": [
    "lsmagic"
   ]
  },
  {
   "cell_type": "markdown",
   "metadata": {},
   "source": [
    "Un ejemplo de una función mágica, permite crear `alias` como en el ejemplo:\n",
    "\n",
    "```python\n",
    "%alias d ls -F\n",
    "```\n",
    "\n",
    "Para desactivarlo, utilizar la función mágica `%unalias`."
   ]
  },
  {
   "cell_type": "code",
   "execution_count": null,
   "metadata": {},
   "outputs": [],
   "source": [
    "%alias d ls -F"
   ]
  },
  {
   "cell_type": "markdown",
   "metadata": {},
   "source": [
    "Por ejemplo, pueden listarse las funciones y módulos interactivos que se están usando en la sesión de IPython con la **función mágica** `%who`o `%whos` con algo extra de información. Por ejemplo, hasta esta celdilla se han ejecutado otras celdas que contienen información. La lista se muestra en la siguiente celdilla."
   ]
  },
  {
   "cell_type": "code",
   "execution_count": null,
   "metadata": {},
   "outputs": [],
   "source": [
    "%whos"
   ]
  },
  {
   "cell_type": "markdown",
   "metadata": {},
   "source": [
    "Una guía rápida de las funciones mágicas puede sacarse con `%quickref`. Un ejemplo se muestra a continuación."
   ]
  },
  {
   "cell_type": "code",
   "execution_count": null,
   "metadata": {},
   "outputs": [],
   "source": [
    "%quickref"
   ]
  },
  {
   "cell_type": "markdown",
   "metadata": {},
   "source": [
    "Un ejemplo de alias útil para gestionar un sistema Unix pueden ser, como se dijo antes, los alias. Si, por ejemplo, se quiere utilizar el comando `netstat -plunt` de manera más rápida, puede hacerse u alias como el siguiente:"
   ]
  },
  {
   "cell_type": "code",
   "execution_count": null,
   "metadata": {},
   "outputs": [],
   "source": [
    "%alias nss netstat -plunt"
   ]
  },
  {
   "cell_type": "code",
   "execution_count": null,
   "metadata": {},
   "outputs": [],
   "source": [
    "nss"
   ]
  },
  {
   "cell_type": "markdown",
   "metadata": {},
   "source": [
    "Además, puede utilizarse las metodologías **hacer-nada** o **hacer-todo** donde se le pueden pasar o no argumentos a un alias o comando e interpretarse de distinta manera. Teniendo por ejemplo el alias:"
   ]
  },
  {
   "cell_type": "code",
   "execution_count": null,
   "metadata": {},
   "outputs": [],
   "source": [
    "%alias achoo echo first: \"|%s|\", second \"|%s|\""
   ]
  },
  {
   "cell_type": "code",
   "execution_count": null,
   "metadata": {},
   "outputs": [],
   "source": [
    "achoo foo bar"
   ]
  },
  {
   "cell_type": "markdown",
   "metadata": {},
   "source": [
    "Para hacerlo con o sin argumentos:"
   ]
  },
  {
   "cell_type": "code",
   "execution_count": null,
   "metadata": {},
   "outputs": [],
   "source": [
    "%alias achoo echo \"|%l|\""
   ]
  },
  {
   "cell_type": "code",
   "execution_count": null,
   "metadata": {},
   "outputs": [],
   "source": [
    "achoo"
   ]
  },
  {
   "cell_type": "markdown",
   "metadata": {},
   "source": [
    "Otra forma de ejecutar un comando de shell es colocando el símbolo `!` delante. La salida de un comando de shell puede almacenarse en una lista, como por ejemplo."
   ]
  },
  {
   "cell_type": "code",
   "execution_count": null,
   "metadata": {},
   "outputs": [],
   "source": [
    "user = 'nachoaz'\n",
    "process = 'bash'\n",
    "l = !ps aux | grep $user | grep $process\n",
    "l # Imprimir la variable 'l'."
   ]
  },
  {
   "cell_type": "markdown",
   "metadata": {},
   "source": [
    "## cd y marcadores "
   ]
  },
  {
   "cell_type": "code",
   "execution_count": null,
   "metadata": {},
   "outputs": [],
   "source": []
  },
  {
   "cell_type": "code",
   "execution_count": null,
   "metadata": {},
   "outputs": [],
   "source": []
  },
  {
   "cell_type": "markdown",
   "metadata": {},
   "source": [
    "## Bookmarks"
   ]
  },
  {
   "cell_type": "markdown",
   "metadata": {},
   "source": [
    "Crear marcadores se puede hacer de diferentes maneras. Una de ellas es la siguiente: con la directiva `bookmark t` estando, por ejemplo, en el directorio `/tmp` se crea un marcador en ese directorio."
   ]
  },
  {
   "cell_type": "code",
   "execution_count": null,
   "metadata": {},
   "outputs": [],
   "source": [
    "cd /tmp"
   ]
  },
  {
   "cell_type": "code",
   "execution_count": null,
   "metadata": {},
   "outputs": [],
   "source": [
    "bookmark t"
   ]
  },
  {
   "cell_type": "markdown",
   "metadata": {},
   "source": [
    "Otra manera de crear un marcador requiere escribir un poco más."
   ]
  },
  {
   "cell_type": "code",
   "execution_count": null,
   "metadata": {},
   "outputs": [],
   "source": [
    "bookmark h /home/"
   ]
  },
  {
   "cell_type": "markdown",
   "metadata": {},
   "source": [
    "Pueden listarse los marcadores con la siguiente opción. **Nota:** Los marcadores se conservan entre sesiones de IPython por lo que no es necesario cargarlos de nuevo."
   ]
  },
  {
   "cell_type": "code",
   "execution_count": null,
   "metadata": {},
   "outputs": [],
   "source": [
    "%bookmark -l"
   ]
  },
  {
   "cell_type": "markdown",
   "metadata": {},
   "source": [
    "Para eliminar un marcador se utiliza el argumento `-d` como sigue:"
   ]
  },
  {
   "cell_type": "code",
   "execution_count": null,
   "metadata": {},
   "outputs": [],
   "source": [
    "bookmark -d h"
   ]
  },
  {
   "cell_type": "code",
   "execution_count": null,
   "metadata": {},
   "outputs": [],
   "source": [
    "bookmark -l"
   ]
  },
  {
   "cell_type": "markdown",
   "metadata": {},
   "source": [
    "## dhist"
   ]
  },
  {
   "cell_type": "markdown",
   "metadata": {},
   "source": [
    "El comando `dhist` no solamente guarda el histórico de la sesión actual sino de sesiones anteriores."
   ]
  },
  {
   "cell_type": "code",
   "execution_count": null,
   "metadata": {},
   "outputs": [],
   "source": [
    "dhist"
   ]
  },
  {
   "cell_type": "markdown",
   "metadata": {},
   "source": [
    "Puede pasarsele argumentos para especificar, por ejemplo, la salida máxima del comando, haciendo una lista de los últimos 5 elementos de la historia con: `dhist 5` o un rango entre valores con `dhist 3 7` "
   ]
  },
  {
   "cell_type": "markdown",
   "metadata": {},
   "source": [
    "## Aplicación de Variable"
   ]
  },
  {
   "cell_type": "markdown",
   "metadata": {},
   "source": [
    "Hasta ahora había una clara diferencia entre los comandos de shell e IPython pero vamos a ver que se pueden cruzar. Se va a tomar un valor que obtendremos de Python y pasarlo a la Shell. Aunque el ejemplo es \"poco realista\" dado que es raro crear 10 archivos con la fecha dentro, nos da una idea de la utilidad en el cruce de información entre ambos lenguajes."
   ]
  },
  {
   "cell_type": "code",
   "execution_count": null,
   "metadata": {},
   "outputs": [],
   "source": [
    "# {} = elemento actual de la lista\n",
    "for i in range(3):\n",
    "    !date > {i}.txt"
   ]
  },
  {
   "cell_type": "code",
   "execution_count": null,
   "metadata": {},
   "outputs": [],
   "source": [
    "!ls -l\n",
    "\n",
    "!cat 0.txt"
   ]
  },
  {
   "cell_type": "markdown",
   "metadata": {},
   "source": [
    "Eliminamos los archivos creados en el apartado anterior."
   ]
  },
  {
   "cell_type": "code",
   "execution_count": null,
   "metadata": {},
   "outputs": [],
   "source": [
    "!rm *.txt"
   ]
  },
  {
   "cell_type": "markdown",
   "metadata": {},
   "source": [
    "## Procesado de cadena"
   ]
  },
  {
   "cell_type": "markdown",
   "metadata": {},
   "source": [
    "mOtra herramienta muy interesante que ofrece IPython es procesar en cadena el resultado de los comandos de shell del sistema. Si, por ejemplo, se quiere ver el PID de todos los procesos que pertenecen a un usuario se podría hacer de la siguiente manera: \n",
    "\n",
    "`ps aux | awk '{if ($1 == \"myuser\") print $2}'`\n",
    "\n",
    "Si ahora intentamos repetir el proceso usando IPython hay que hacerlo en una pequeña secuencia que es igualmente legible."
   ]
  },
  {
   "cell_type": "code",
   "execution_count": null,
   "metadata": {},
   "outputs": [],
   "source": [
    "ps = !ps aux\n",
    "ps.grep('mysuer', prune=False).fields(0, 1, 8)"
   ]
  },
  {
   "cell_type": "markdown",
   "metadata": {},
   "source": [
    "El argumento `prune` se utiliza para que el retorno del argumento sea lo contrario a lo que se quiere o lo que se quiere. Por ejemplo, si quisieramos que el retorno fuera 'todos los usuarios que no sean el nuestro' (`root` por ejemplo) se pondría: `ps.grep('myuser', prune=True)`, es decir, __excluir__ del filtrado. De esa manera devuelve todos los usuarios que no sean `myuser`.\n",
    "\n",
    "Con el método `fields()` se le especifican a `grep` las columnas que queremos devolver una vez se ejecute el comando. Hace las veces cuando se imprime una columna con `awk` utilizando `$1`, `$2`. En el ejemplo anterior, las columnas `0`, `1` y `8` hacen referencia a `USERNAME`, `PID` y `STARTTIME`.\n",
    "\n",
    "Otro elemento muy interesante es, seguido del método `fields()` que va seguido del método `grep()` y que ambos devuelven objetos del mismo tipo, se puede añadir el elemento `s` que accede directamente a la lista en el proceso. Esto proporciona una cadena de PID separados por espacio con la que la Shell ya puede trabajar y de podría, por ejemplo hacer `kill $pids` desde dentro de IPython.\n",
    "\n",
    "Por último, el método `grep()` adopta un último parámetro opcional denominado `field`. Si se especifica, los criterios de búsqueda tienen que coincidir con ese campo para que se incluya en el resultado. Esto coincidía con las dilas exactas que se quieren pero mostraba toda la fila. Para llegar solo al PID hay que añadirle `fields(1)` detrás."
   ]
  },
  {
   "cell_type": "code",
   "execution_count": null,
   "metadata": {},
   "outputs": [],
   "source": [
    "ps = !ps aux\n",
    "ps.grep('nachoaz', field=0).fields(1)"
   ]
  },
  {
   "cell_type": "markdown",
   "metadata": {},
   "source": [
    "## Perfil sh"
   ]
  },
  {
   "cell_type": "markdown",
   "metadata": {},
   "source": [
    "Un perfil es simplemente un conjunto de datos de configuracioń que se carga cuando se inicia IPython. Puede personalizarse un número de perfiles para hacer qye IPython se lleve a cabo de diferentes formas dependiendo de las necesidades de la sesión. Para invocar un perfil específico se utiliza la opción de línea de comando `-p` y se especifica el perfil que se quiere utilizar.\n",
    "\n",
    "El perfil `sh` es el más utilizado dado que incorpora ciertos elementos de configuración de modo que IPython se convierte en una shell del sistema más amigable.\n",
    "\n",
    "Dos ejemplos de valores de configuración que son diferentes del perfil estándar de IPython son que `sh` muestra el directorio actual y `rehash` y su `PATH` de modo que tiene acceso instantáneo a todos los mismos ejecutables que tednría en `bash`.\n",
    "\n",
    "`sh` permite además la extensión `envpersist`. Permite modificar varias variables de entorno fácilmente y de forma persistente para su perfil `sh` IPython sin necesidad de actualizar el `.bash_profile` o `.bashrc`.\n",
    "\n",
    "En un terminal introducimos:\n",
    "\n",
    "```bash\n",
    "ipython --profile=sh\n",
    "\n",
    "Python 3.6.8 (default, Jan 14 2019, 11:02:34) \n",
    "Type 'copyright', 'credits' or 'license' for more information\n",
    "IPython 7.5.0 -- An enhanced Interactive Python. Type '?' for help.\n",
    "\n",
    "IPython profile: sh\n",
    "\n",
    "In [1]:                                                                                                           \n",
    "```\n",
    "\n",
    "Y tenemos la consola de IPython con el perfil de `sh` cargado."
   ]
  },
  {
   "cell_type": "markdown",
   "metadata": {},
   "source": [
    "## Recopilación de información"
   ]
  },
  {
   "cell_type": "markdown",
   "metadata": {},
   "source": [
    "### page\n",
    "\n",
    "Si un objeto no entra en la pantalla, con la función mágica `page` puede obtenerse un paginador. El predeterminado por el sistema es `less`. Un ejemplo sería el siguiente que si se compara con la función `page` permite tenerlo de manera completa en lugar de tener que hacer _scroll_ para ver todo el contenido en la celdilla."
   ]
  },
  {
   "cell_type": "code",
   "execution_count": null,
   "metadata": {},
   "outputs": [],
   "source": [
    "p = !ps aux\n",
    "print(p)"
   ]
  },
  {
   "cell_type": "code",
   "execution_count": null,
   "metadata": {},
   "outputs": [],
   "source": [
    "%page -r p"
   ]
  },
  {
   "cell_type": "markdown",
   "metadata": {},
   "source": [
    "### pinfo\n",
    "\n",
    "Proporciona información como tipo, clase base, espacio de nombre y _docstring_. Si tenemos un módulo que contiene una serie de clases se puede solicitar información del propio módulo."
   ]
  },
  {
   "cell_type": "code",
   "execution_count": null,
   "metadata": {},
   "outputs": [],
   "source": [
    "import time\n",
    "import cv2"
   ]
  },
  {
   "cell_type": "code",
   "execution_count": null,
   "metadata": {},
   "outputs": [],
   "source": [
    "%pinfo time"
   ]
  },
  {
   "cell_type": "markdown",
   "metadata": {},
   "source": [
    "Puede soliitarse información acerca de:\n",
    "- Del propio módulo:\n",
    "    ```python\n",
    "    pinfo module\n",
    "    ```\n",
    "- De una clase del módulo:\n",
    "    ```python\n",
    "    pinfo module.foo\n",
    "    ```\n",
    "- De una instancia de una de las clases:\n",
    "    ```python\n",
    "    f = module.Foo()\n",
    "    pinfo p\n",
    "    ```\n",
    "`pinfo` tiene la misma funcionalidad que `?` delante del nombre de un objeto como se vió al principio."
   ]
  },
  {
   "cell_type": "markdown",
   "metadata": {},
   "source": [
    "### psearch\n",
    "\n",
    "Esta función mágica buscará objetos Python por nombre con la ayuda de comodines. Declarando una secuencia de objetos:"
   ]
  },
  {
   "cell_type": "code",
   "execution_count": null,
   "metadata": {},
   "outputs": [],
   "source": [
    "a = 1\n",
    "aa = \"one\"\n",
    "b = 2\n",
    "bb = \"two\"\n",
    "c = 3\n",
    "cc = \"three\""
   ]
  },
  {
   "cell_type": "code",
   "execution_count": null,
   "metadata": {},
   "outputs": [],
   "source": [
    "psearch a*"
   ]
  },
  {
   "cell_type": "markdown",
   "metadata": {},
   "source": [
    "Los objetos que se han encontrado además de `a`, `aa`, `b`, etc son objetos incorporados. Una alternativa rápida a `psearch` es cambiarlo por `?`. Puede usarse `-s` para buscar, `-e` para excluir en un determinado espacio de nombre. Estos espacios de nombre incluyen `builtin`, `user_local`, `user_global`, `internal` y `alias`. Por defecto, `psearch` busca en los dos primeros. Para buscar explícitaente en `user_local` puede pasar una opción a `psearch` para excluir buscar el espacio de nombre `builtin`. La ruta de búsqueda predeterminada para `psearch` es: `builtin` y `user_local` por lo que si especificamos `-s user` buscar `builtin` y `user_local` seguirá siendo lo que hemos pedido que haga."
   ]
  },
  {
   "cell_type": "code",
   "execution_count": null,
   "metadata": {},
   "outputs": [],
   "source": [
    "%psearch -e builtin a*"
   ]
  },
  {
   "cell_type": "code",
   "execution_count": null,
   "metadata": {},
   "outputs": [],
   "source": [
    "%psearch -s user_local a*"
   ]
  },
  {
   "cell_type": "markdown",
   "metadata": {},
   "source": [
    "`psearch` permite también buscar tipos específicos de objetos. Si, por ejemplo, se busca el espacio de nombres `user_local` en busca de enteros:"
   ]
  },
  {
   "cell_type": "code",
   "execution_count": null,
   "metadata": {},
   "outputs": [],
   "source": [
    "%psearch a*.* int"
   ]
  },
  {
   "cell_type": "markdown",
   "metadata": {},
   "source": [
    "Y si buscamos cadenas:"
   ]
  },
  {
   "cell_type": "code",
   "execution_count": null,
   "metadata": {},
   "outputs": [],
   "source": [
    "%psearch -e builtin * string"
   ]
  },
  {
   "cell_type": "markdown",
   "metadata": {},
   "source": [
    "### who\n",
    "\n",
    "IPython proporciona un número de facilidades para listar todos los objetos interactivos. "
   ]
  },
  {
   "cell_type": "code",
   "execution_count": null,
   "metadata": {},
   "outputs": [],
   "source": [
    "%who"
   ]
  },
  {
   "cell_type": "markdown",
   "metadata": {},
   "source": [
    "O especificando el tipo:"
   ]
  },
  {
   "cell_type": "code",
   "execution_count": null,
   "metadata": {},
   "outputs": [],
   "source": [
    "#%who int\n",
    "%who str"
   ]
  },
  {
   "cell_type": "markdown",
   "metadata": {},
   "source": [
    "### who_ls\n",
    "\n",
    "Es similar a `who` pero retorna una lista con la que se pueden hacer otras operaciones:"
   ]
  },
  {
   "cell_type": "code",
   "execution_count": null,
   "metadata": {},
   "outputs": [],
   "source": [
    "%who_ls str"
   ]
  },
  {
   "cell_type": "code",
   "execution_count": null,
   "metadata": {},
   "outputs": [],
   "source": [
    "# con _ se accede a la última lista de nombres.\n",
    "# Es: el último resultado\n",
    "for i in _:\n",
    "    print(i)"
   ]
  },
  {
   "cell_type": "markdown",
   "metadata": {},
   "source": [
    "### whos\n",
    "\n",
    "Es similar a `who` pero imprime información que no saca la anterior función mágica."
   ]
  },
  {
   "cell_type": "code",
   "execution_count": null,
   "metadata": {},
   "outputs": [],
   "source": [
    "%whos"
   ]
  },
  {
   "cell_type": "markdown",
   "metadata": {},
   "source": [
    "### macro\n",
    "\n",
    "`macro` permite definir un bloque de código que se ejecutará más adelante en línea con cualquier código que se esté trabajando. Es diferente de crear funciones o métodos. La macro se hace consciente del contexto actual del código. Si tiene un conjunto común de pasos de procesado que frecuentemente se ejecuta en todos los archivos, se puede crear una `macro` para trabajar en los archivos. Por ejemplo"
   ]
  },
  {
   "cell_type": "code",
   "execution_count": null,
   "metadata": {},
   "outputs": [],
   "source": [
    "dirlist = []"
   ]
  },
  {
   "cell_type": "code",
   "execution_count": null,
   "metadata": {},
   "outputs": [],
   "source": [
    "for f in dirlist:\n",
    "    print(\"Working on\", f)\n",
    "    print(\"done with\", f)\n",
    "    print(\"moving %s to %s.done\" % (f, f))\n",
    "    print(\"*\" * 40)"
   ]
  },
  {
   "cell_type": "markdown",
   "metadata": {},
   "source": [
    "Sintaxis: `macro nombre_macro rango_de_lineas`.\n",
    "\n",
    "Donde el rango de líneas es la lista de las lineas de la historia que se quiere incorporar al `macro`.\n",
    "\n",
    "_Nota: Hay que fijarse en el número que está encerrado en la celdilla, ya que el código puede editarse y guardarse después. Una modificación en la celdilla anterior eleva otro número de ejecución y ese será el que queramos guardar. De igual modo pueden establecerse rangos de celdillas separado por `-`_."
   ]
  },
  {
   "cell_type": "code",
   "execution_count": null,
   "metadata": {},
   "outputs": [],
   "source": [
    "%macro procdir 33"
   ]
  },
  {
   "cell_type": "code",
   "execution_count": null,
   "metadata": {},
   "outputs": [],
   "source": [
    "dirlist = ['a.txt', 'b.txt', 'c.txt']"
   ]
  },
  {
   "cell_type": "code",
   "execution_count": null,
   "metadata": {},
   "outputs": [],
   "source": [
    "procdir"
   ]
  },
  {
   "cell_type": "markdown",
   "metadata": {},
   "source": [
    "# store\n",
    "\n",
    "Para almacenar los macros guardados se utiliza la función `store` seguido del nombre que se le quiera dar a la _macro_."
   ]
  },
  {
   "cell_type": "code",
   "execution_count": null,
   "metadata": {},
   "outputs": [],
   "source": [
    "%store procdir"
   ]
  },
  {
   "cell_type": "markdown",
   "metadata": {},
   "source": [
    "### reset\n",
    "\n",
    "Para eliminar todas las variables del espacio de nombres se utiliza la función `reset`. En el siguiente ejemplo puede verse como se crean unas vatiables que se eliminan posteriormente utilizando `reset`."
   ]
  },
  {
   "cell_type": "code",
   "execution_count": null,
   "metadata": {},
   "outputs": [],
   "source": [
    "a = 1\n",
    "b = 2\n",
    "c = 3\n",
    "%whos"
   ]
  },
  {
   "cell_type": "code",
   "execution_count": null,
   "metadata": {},
   "outputs": [],
   "source": [
    "%reset"
   ]
  },
  {
   "cell_type": "code",
   "execution_count": null,
   "metadata": {},
   "outputs": [],
   "source": [
    "%whos"
   ]
  },
  {
   "cell_type": "markdown",
   "metadata": {},
   "source": [
    "### run\n",
    "\n",
    "Con la función `run` se puede ejecutar un archivo que se especifique a IPython. Esto permite trabajar en un módulo Python en un editor de texto externo y comprobar interactivamente los cambios que se hace en él desde IPython o Jupyter como se está haciendo en este documento. Después de ejecutar el programa, se devuelve a la shell de IPython. La sintaxis para ejecutar es: `run opciones_archivo arguments`. Existen diferentes opciones:\n",
    " \n",
    "- `-n`: hace que la variable `__name__` del módulo se establezca no en `__main__` sino en su propio nombre. Esto hace que el módulo se ejecute como si simplemente se importara.\n",
    "- `-i`: Ejecuta el módulo en el espacio de nombre actual de IPython y proporciona al módulo acceso a todas las variables definidas.\n",
    "- `-e`: Hace que IPython ignore llamadas a `sys.exit()` y excepciones `SystemExit`. Si algo de esto ocurre, IPython simplemente continúa con el programa.\n",
    "- `-t`: Hace que IPython imprima información sobre la longitud de tiempo que tardó el módulo en ejecutarse.\n",
    "- `-d`: hace que el módulo especificado se ejecuta bajo el depurador Python (pdb).\n",
    "- `-p` : Ejecuta el módulo especificado bajo el creador de perfil Python."
   ]
  },
  {
   "cell_type": "markdown",
   "metadata": {},
   "source": [
    "### save\n",
    "\n",
    "Para guardar las líneas de entrada especificadas en el archivo de salida se utiliza la sintaxis: \n",
    "\n",
    "```python\n",
    "%save opciones nombre_archivo lineas\n",
    "```\n",
    "\n",
    "La única opción de la función `save` es `-r` que especifica que se guardará el archivo de entrada sin formato (raw) en lugar de traducido."
   ]
  },
  {
   "cell_type": "markdown",
   "metadata": {},
   "source": [
    "### rep\n",
    "\n",
    "Esta función toma un número de parámetros que se podría encontrar de utilidad. Utilizar `rep` sin parámetros toma el último resultado queq se procesó (como el `ans` de las calculadoras científicas) y sitúa una representación de ello en la siguiente entrada."
   ]
  },
  {
   "cell_type": "code",
   "execution_count": null,
   "metadata": {},
   "outputs": [],
   "source": [
    "def format_str(s):\n",
    "    return \"str(%s)\" % s"
   ]
  },
  {
   "cell_type": "code",
   "execution_count": null,
   "metadata": {},
   "outputs": [],
   "source": [
    "format_str(1)"
   ]
  },
  {
   "cell_type": "code",
   "execution_count": null,
   "metadata": {},
   "outputs": [],
   "source": [
    "%rep"
   ]
  },
  {
   "cell_type": "code",
   "execution_count": null,
   "metadata": {},
   "outputs": [],
   "source": [
    "str(1)"
   ]
  },
  {
   "cell_type": "markdown",
   "metadata": {},
   "source": [
    "## Texto\n",
    "\n",
    "Métodos `lstrin()`, `rstrip()`. `strip()`\n",
    "\n",
    "- `lstrip()`: Utilizarlo sin argumentos elimina todo espacio en blanco que esté al **principio** de la cadena y devuelve una nueva cadena (no modifica la original).\n",
    "- `rstrip()`: Sin argumentos elimina todo espacio en blanco al **final** de la cadena y devuelve una nueva cadena.\n",
    "- `strip()`: Elimina espacio en blanco al **principio** y **final** de la cadena y devuelve una nueva cadena.\n",
    "\n",
    "Ejemplos:"
   ]
  },
  {
   "cell_type": "code",
   "execution_count": null,
   "metadata": {},
   "outputs": [],
   "source": [
    "spacious_string = \"\\n\\t Texto sin espacios \\t\\r\"\n",
    "print(spacious_string)"
   ]
  },
  {
   "cell_type": "code",
   "execution_count": null,
   "metadata": {},
   "outputs": [],
   "source": [
    "print(spacious_string.lstrip()) # Elimina los espacios al principio de la cadena (preserva el \\t\\r)\n",
    "print(spacious_string.rstrip()) # Elimina los espacios al final de la cadena (preserva el \\n\\t)\n",
    "print(spacious_string.strip())  # Elimina los espacios al principio y al final de la cadena"
   ]
  },
  {
   "cell_type": "markdown",
   "metadata": {},
   "source": [
    "Estos métodos con _strings_ también son útiles para eliminar partes de una cadena, como por ejemplo parsear un `xml`."
   ]
  },
  {
   "cell_type": "code",
   "execution_count": null,
   "metadata": {},
   "outputs": [],
   "source": [
    "##### xml_tag = \"<some_tag>\"\n",
    "xml_tag.lstrip(\"<\")"
   ]
  },
  {
   "cell_type": "code",
   "execution_count": null,
   "metadata": {},
   "outputs": [],
   "source": [
    "xml_tag.lstrip(\">\") # Como al principio de la cadena no existe ese caracter, el resutado es el mismo"
   ]
  },
  {
   "cell_type": "code",
   "execution_count": null,
   "metadata": {},
   "outputs": [],
   "source": [
    "xml_tag.rstrip(\">\")"
   ]
  },
  {
   "cell_type": "code",
   "execution_count": null,
   "metadata": {},
   "outputs": [],
   "source": [
    "xml_tag.strip(\"<\").strip(\">\")"
   ]
  },
  {
   "cell_type": "code",
   "execution_count": null,
   "metadata": {},
   "outputs": [],
   "source": [
    "xml_tag.strip(\"<>\")"
   ]
  },
  {
   "cell_type": "code",
   "execution_count": null,
   "metadata": {},
   "outputs": [],
   "source": [
    "gt_it_str = \"<><><>gt lt str<><><>\""
   ]
  },
  {
   "cell_type": "code",
   "execution_count": null,
   "metadata": {},
   "outputs": [],
   "source": [
    "gt_it_str.strip(\"<>\")"
   ]
  },
  {
   "cell_type": "markdown",
   "metadata": {},
   "source": [
    "También hay que tener cuidado con `strip()` dado que elimina **todas** las coincidencias que encuentre en la cadena y no patrones como puede parecer. En el siguiente ejemplo puede verse claramente."
   ]
  },
  {
   "cell_type": "code",
   "execution_count": null,
   "metadata": {},
   "outputs": [],
   "source": [
    "foo_str = \"<fooooooooo>hola<foo>\""
   ]
  },
  {
   "cell_type": "code",
   "execution_count": null,
   "metadata": {},
   "outputs": [],
   "source": [
    "foo_str.strip(\"<foo>\")"
   ]
  },
  {
   "cell_type": "markdown",
   "metadata": {},
   "source": [
    "## Expresiones regulares (re)\n",
    "\n",
    "El patrón que buscaremos tiene que coincidir con dos llaves abiertas consecutivas seguidas por cualquier texto ( o no texto) seguido por dos llaves cerradas consecutivas."
   ]
  },
  {
   "cell_type": "code",
   "execution_count": null,
   "metadata": {},
   "outputs": [],
   "source": [
    "import re\n",
    "\n",
    "re_string = \"{{(.*?)}}\"\n",
    "some_string = \"Esta cadena contiene {{palabras}} dentro de {{corchetes}} para mostrar un {{ejemplo}} de {{expresión regular}}\"\n",
    "\n",
    "# findall retorna una lista con las coincidencias en la expresión regular\n",
    "for match in re.findall(re_string, some_string):\n",
    "    print(\"COINCIDENCIAS-> \", match)"
   ]
  },
  {
   "cell_type": "code",
   "execution_count": null,
   "metadata": {},
   "outputs": [],
   "source": [
    "re.findall(re_string, some_string)"
   ]
  },
  {
   "cell_type": "markdown",
   "metadata": {},
   "source": [
    "Otra manera de trabajar con expresiones regulares en Python es mediante la creación de un objeto de **expresión regular compilada** y utilizar los métodos de ese objeto.\n",
    "\n",
    "Una **expresión regular compilada** es un objeto que se creó al pasar un patrón a `re.compile()`. Contiene un número de métodos de expresión regular que se crearon al pasar un patrón a `re.compile()`. Existen dos diferencias principales entre utilizar los ejemplos compilados y no compilados. Primero, en lugar de mantener una referencia al patrón de expresión regular \"`{{(.*?)}}`\" se crea un objeto de expresión regular compilada y se utiliza el patrón para crearlo. En segundo lugar, en lugar de invocar a `findall()` del módulo `re` se invoca `findall()` en el objeto de expresión regular compilada."
   ]
  },
  {
   "cell_type": "code",
   "execution_count": null,
   "metadata": {},
   "outputs": [],
   "source": [
    "import re\n",
    "\n",
    "re_obj = re.compile(\"{{(.*?)}}\")\n",
    "some_string = \"Esta cadena contiene {{palabras}} dentro de {{corchetes}} para mostrar un {{ejemplo}} de {{expresión regular}}\"\n",
    "\n",
    "for match in re_obj.findall(some_string):\n",
    "    print(\"COINCIDENCIAS-> \", match)"
   ]
  },
  {
   "cell_type": "markdown",
   "metadata": {},
   "source": [
    "El segundo método (expresión regular compilada) es mucho más eficiente en términos de tiempo de búsqueda por lo que es recomendable su uso en vez de la primera opción."
   ]
  },
  {
   "cell_type": "markdown",
   "metadata": {},
   "source": [
    "## Subprocess\n",
    "\n",
    "Subprocess puede realizar las siguientes operaciones: originar nuevos procesos conectados a entrada salida, conectados a salida estandar, conectados a flujos de error y escuchando código de retorno. Para entender el funcionamiento se aplicará un ejemplo sencillo."
   ]
  },
  {
   "cell_type": "code",
   "execution_count": null,
   "metadata": {},
   "outputs": [],
   "source": [
    "import subprocess\n",
    "\n",
    "subprocess.call('df -k', shell=True)"
   ]
  },
  {
   "cell_type": "markdown",
   "metadata": {},
   "source": [
    "La salida de este comando es un $0$ dado que, al ser un subproceso está saliendo por la salida estandar, que en este caso es la que origina Jupyter, el terminal. Si vemos en el terminal donde se lanzó el cuadernillo vemos la salida del comando. Los códigos de retorno más comunes son:\n",
    "- 0: Éxito\n",
    "- 1: Errores generales\n",
    "- 2: Mal uso de programas internos en shell.\n",
    "- 126: El comando invocado no se puede ejecutar.\n",
    "- 127: Comando no encontrado\n",
    "- 128: Argumento no válido para salid.\n",
    "- 130: Script terminado por Control-C."
   ]
  },
  {
   "cell_type": "markdown",
   "metadata": {},
   "source": [
    "A `subprocess.call()` se le pueden añadir más opciones como:\n",
    "\n",
    "```python\n",
    "subprocess.call(\"ping -c 1 10.0.1.1\",\n",
    "                shell=True,\n",
    "                stdout=open('/dev/null', 'w'),\n",
    "                stderr=subprocess.STDOUT)\n",
    "```\n",
    "\n",
    "Si se necesita **capturar la salida de un comando** se utiliza `subprocess.Popen`. Otra diferencia importante es que `subprocess.call()` se queda bloqueado esperando una respuesta mientras que `suprocess.Popen()`, no."
   ]
  },
  {
   "cell_type": "code",
   "execution_count": null,
   "metadata": {},
   "outputs": [],
   "source": [
    "p = subprocess.Popen('df -h', shell=True, stdout=subprocess.PIPE)\n",
    "out = p.stdout.readlines()\n",
    "\n",
    "for line in out:\n",
    "    print(line.strip())"
   ]
  },
  {
   "cell_type": "markdown",
   "metadata": {},
   "source": [
    "### Nota: *args y *kargs\n",
    "\n",
    "`*args` y `**kwargs` permiten pasar un número variable de argumentos a una función cuando no sabes de antemano cuántos argumentos puede pasar el usuario a la función, así que en este caso usas estas dos palabras clave cuya diferencia está en que la segunda hace referencia a un diccionario. A continuación, dos ejemplos."
   ]
  },
  {
   "cell_type": "code",
   "execution_count": null,
   "metadata": {},
   "outputs": [],
   "source": [
    "def test_var_args(f_arg, *argv):\n",
    "    print \"first normal arg:\", f_arg\n",
    "    for arg in argv:\n",
    "        print \"another arg through *argv :\", arg\n",
    "\n",
    "test_var_args('yasoob','python','eggs','test')"
   ]
  },
  {
   "cell_type": "code",
   "execution_count": null,
   "metadata": {},
   "outputs": [],
   "source": [
    "def test_kwargs(**kwargs):\n",
    "    if kwargs is not None:\n",
    "        for key, value in kwargs.iteritems():\n",
    "            print \"%s == %s\" %(key, value)\n",
    " \n",
    "\n",
    "my_kwargs = {\"arg3\": 3, \"arg2\": \"two\",\"arg1\":5}\n",
    "greet_me(**my_kwargs)"
   ]
  },
  {
   "cell_type": "code",
   "execution_count": null,
   "metadata": {},
   "outputs": [],
   "source": [
    "def test_kwargs(**kwargs):\n",
    "    if kwargs is not None:\n",
    "        for key, value in kwargs.iteritems():\n",
    "            print \"%s == %s\" %(key, value)\n",
    " \n",
    "test_kwargs(arg1=3, arg2=\"two\", arg3=5)"
   ]
  },
  {
   "cell_type": "markdown",
   "metadata": {},
   "source": [
    "Lo que permite las funciones de Python `*args` y `**kwargs` es poder definir funciones donde se le pasarán distintos números de argumentos definiendo una única función. Por ejemplo, ejecutar secuencias de comandos o ejecutar comandos en distintas máquinas podría estar contenido en una función como esta:"
   ]
  },
  {
   "cell_type": "code",
   "execution_count": null,
   "metadata": {},
   "outputs": [],
   "source": [
    "def multi(*args):\n",
    "    for cmd in args:\n",
    "        p = subprocess.Popen(cmd, shell=True, stdout=subprocess.PIPE)\n",
    "        out = p.stdout.read()\n",
    "        print(out)"
   ]
  },
  {
   "cell_type": "markdown",
   "metadata": {},
   "source": [
    "También puede comunicarse escribiendo en `stdin`. La utilidad de contar palabras se le dirá que escuche la entrada estándar y luego se escribirá una cadena de caracteres para que procese la utilidad. *Recordar que el resultado sale por la terminal*."
   ]
  },
  {
   "cell_type": "code",
   "execution_count": null,
   "metadata": {},
   "outputs": [],
   "source": [
    "p = subprocess.Popen(\"wc -c\", shell=True, stdin=subprocess.PIPE)\n",
    "p.communicate(\"holaquetal\")"
   ]
  },
  {
   "cell_type": "markdown",
   "metadata": {},
   "source": [
    "Puede hacerse el mismo proceso leyendo de un archivo:"
   ]
  },
  {
   "cell_type": "code",
   "execution_count": null,
   "metadata": {},
   "outputs": [],
   "source": [
    "with open('text.txt', 'w') as file:\n",
    "    file.write(\"holaquetal\")\n",
    "    \n",
    "file = open('text.txt')\n",
    "f = file.read()\n",
    "\n",
    "p = subprocess.Popen(\"wc -c\", shell=True, stdin=subprocess.PIPE)\n",
    "p.communicate(f)"
   ]
  },
  {
   "cell_type": "markdown",
   "metadata": {},
   "source": [
    "Sería equivalente en bash a:\n",
    "\n",
    "```bash\n",
    "wc -c < text.txt\n",
    "\n",
    "10\n",
    "```"
   ]
  },
  {
   "cell_type": "markdown",
   "metadata": {},
   "source": [
    "Para encadenar comandos con Subprocess como haríamos en Bash: `cat /etc/passwd | grep 0:0 | cut -d ':' -f 7` hay que enlazar la salida de uno con la entrada `stdin` del siguiente de la siguiente manera:"
   ]
  },
  {
   "cell_type": "code",
   "execution_count": null,
   "metadata": {},
   "outputs": [],
   "source": [
    "p1 = subprocess.Popen('cat /etc/passwd', shell=True, stdout=subprocess.PIPE)\n",
    "p2 = subprocess.Popen('grep 0:0', shell=True, stdin=p1.stdout, stdout=subprocess.PIPE)\n",
    "p3 = subprocess.Popen(\"cut -d ': ' -f 7\", shell=True, stdin=p2.stdout, stdout=subprocess.PIPE)\n",
    "print(p3.stdout.read())"
   ]
  },
  {
   "cell_type": "markdown",
   "metadata": {},
   "source": [
    "En este caso no sería necesario concatenera subprocesos para obtener esa información, bastaría con utilizar el módulo de Python `pwd` y hacer un `pwd.getpwnam('root')` para obtener una lista cuyo último elemento es el mismo que todo el proceso realizado con los subproces: `/bin/sh`. Se muestra el proceso de concatenación a modo ilustrativo."
   ]
  },
  {
   "cell_type": "markdown",
   "metadata": {},
   "source": [
    "## Hilos de ejecución\n",
    "\n",
    "Los hilos de ejecución se ejecutan dentro del mismo proceso y comparten estado y memoria a diferencia de los procesos. Como ventaja es que puede crear una estructura de datos a la que pueden acceder todos los hilos de ejecución sin crear un mecanismo de comunicación entre aplicaciones.\n",
    "\n",
    "Como desventaja, a menudo un programa que sea complejo es dificil de depurar si se encuentra un problema en la ejecución y es necesario añadir un seguimiento (y aún así es complejo).\n",
    "\n",
    "Veamos un ejemplo sencillo de implementación de hilos. En el script se hereda de la clase `threading.Thread`, se establece una variable `count` y después se anula el método ejecutar para, por último, lanzar cinco hilos de ejecución que explícitamente imprimen su número. El ejemplo es muy simple y con mal diseño ya que se está utilizando una variable global y permite que los hilos puedan compartir estado. Lo ideal sería utilizar colas con hilos de ejecución ya que se ocupan de la complejidad de tratar con estados compartidos (condicionamiento de carrera). De hecho si se ejecuta varias veces puede verse como en algunas ocasiones no se listan los 5 hilos y algunos comparten el valor de la variable `count`. Esto puede ser un problema cuando se quiere trazar."
   ]
  },
  {
   "cell_type": "code",
   "execution_count": null,
   "metadata": {},
   "outputs": [],
   "source": [
    "# Mal diseño por estado compartido:\n",
    "import threading\n",
    "import time\n",
    "\n",
    "count = 1\n",
    "class MyThread(threading.Thread):\n",
    "    def run(self):\n",
    "        global count\n",
    "        print(\"Thread # %s \" % count)\n",
    "        count += 1\n",
    "        time.sleep(2)\n",
    "        print(\"Terminado.\\r\")\n",
    "        \n",
    "for i in range(5):\n",
    "    MyThread().start()"
   ]
  },
  {
   "cell_type": "markdown",
   "metadata": {},
   "source": [
    "Nótese como las primeras trazas (Thread n) se lanzan a la vez y pasados dos segundos devuelven el resultado todas a la vez. El método `run` que se ha implementado, si no se hubieran usado hilos iría de manera secuencial.\n",
    "\n",
    "Veamos ahora un ejemplo utilizando una cola (Queue) y esperar respuetas de ping."
   ]
  },
  {
   "cell_type": "code",
   "execution_count": null,
   "metadata": {},
   "outputs": [],
   "source": [
    "from threading import Thread\n",
    "import subprocess\n",
    "from Queue import Queue\n",
    "\n",
    "num_threads = 3\n",
    "queue = Queue()\n",
    "ips = ['10.0.1.1', '10.0.1.3', '10.0.1.11', '10.0.1.51']\n",
    "\n",
    "def pinger(i, q):\n",
    "    '''Ping a una subred'''\n",
    "    \n",
    "    while True:\n",
    "        ip = q.get()\n",
    "        print(\"Thread # %s: Pinging %s\\n\" % (i, ip))\n",
    "        ret = subprocess.call('ping -c 1 %s' %ip,\n",
    "                              shell = True,\n",
    "                              stdout = open('/dev/null', 'w'),\n",
    "                             stderr=subprocess.STDOUT)\n",
    "        if ret == 0:\n",
    "            print(\"%s is alive\" %ip)\n",
    "        else:\n",
    "            print(\"%s: no responde\" % ip)\n",
    "        q.task_done()\n",
    "        \n",
    "for i in range(num_threads):\n",
    "    \n",
    "    worker = Thread(target=pinger, args=(i, queue))\n",
    "    worker.setDaemon(True)\n",
    "    worker.start()\n",
    "\n",
    "for ip in ips:\n",
    "    queue.put(ip)\n",
    "    \n",
    "print(\"Hilo principal esperando ...\")\n",
    "queue.join()\n",
    "print(\"Hecho!\")"
   ]
  },
  {
   "cell_type": "markdown",
   "metadata": {},
   "source": [
    "Utilizar hilos de ejecución para desarrollar un barrido ping en una subred es un buen ejemplo. Un programa Python sin hilos de ejecución tardaría $N*(tiempo medio de respuesta de ping)$ en resolver todas las IPs. Existen dos estados: estado respuesta y estado *timeout*. Una red típica sería una mezcla entre ambas. \n",
    "\n",
    "Esto significa que una red de clase C (254 direcciones) podría llevar unos $3\\ segundos$ utilizando hilos de ejecución. Sin hilos podría llevar unos $12.7\\ minutos$.\n",
    "\n",
    "El módulo `Queue` empleado facilita al programador la necesidad de controlar el condicionamiento de carrera y realiza los `mutex` de manera interna, protegiendo las variables para no tener dos accesos en el mismo instante. Queue proporciona a un grupo de \"trabajadores\" algo que hacer y cuando la cola está vacía se ha acabado el trabajo.\n",
    "\n",
    "En el código anterior, la parte clave de la cola es el método `join()`. Es una forma de controlar que el hilo de ejecución principal no abandone el programa antes que los otros hilos de ejecución tengan la posibilidad de terminar de trabajar en elementos de una cola. Si comentamos esa línea, el programa principal termina antes que los hilos de ejecución siendo esto un verdadero problema.\n",
    "\n",
    "Destacable también el método `q.task_done()` al final del método `pinger()` que le dice a la cola que se ha completado la tarea y, por tanto, lo libera de la cola. Así mismo `q.get()` pide a la cola una tarea que realizar.\n",
    "\n",
    "Es importante también el uso de `setDaemon(True)` antes de invocar al método `start()` para que el programa NO se cuelgue indefinidamente ya que un programa solo saldrá o terminará si se están ejecutando hilos de ejecución *daemon*."
   ]
  },
  {
   "cell_type": "markdown",
   "metadata": {},
   "source": [
    "### Programar procesos en Python\n",
    "\n",
    "Una manera que tiene un administrador de sistemas de enviar un reporte diario sobre el uso de disco (por ejemplo) es programar con la herramienta de UNIX `cron` el envio automático de un correo del siguiente modo:\n",
    "\n",
    "```bash\n",
    "59 23 * * * df -h | mail -s \"Reporte diario\\n\" correo@dominio.com\n",
    "```\n",
    "\n",
    "La manera en la que se podría hacer con Python es crear un script y que sea lanzado por la herramienta Cron. Un ejemplo de un script de correo sería:"
   ]
  },
  {
   "cell_type": "code",
   "execution_count": null,
   "metadata": {},
   "outputs": [],
   "source": [
    "import smtplib\n",
    "import subprocess\n",
    "import string\n",
    "\n",
    "p = subprocess.Popen(\"df -h\", shell=True, stdout=subprocess.PIPE)\n",
    "MSG = p.stdout.read()\n",
    "FROM = \"sysadmin@dominio.com\"\n",
    "TO = \"correo@dominio.com\"\n",
    "SUBJECT = \"Informe diario\"\n",
    "msg = string.join((\"From: %s\" % FROM,\n",
    "                  \"To: %s\" % TO,\n",
    "                  \"Subject: %s\" % SUBJECT,\n",
    "                  \"\",\n",
    "                  MSG), \"\\r\\n\")\n",
    "server = smtplib.SMTP('localhost')\n",
    "server.sendmail(FROM, TO, msg)\n",
    "server.quit()"
   ]
  },
  {
   "cell_type": "markdown",
   "metadata": {},
   "source": [
    "### daemonizador\n",
    "\n",
    "Las tres características que tienen que reunirse para diferenciar un daemon de un proceso en segundo plano son:\n",
    "- Ejecutarse en segundo plano.\n",
    "- Estar desplazado del proceso que lo inició.\n",
    "- No tener terminal de control.\n",
    "\n",
    "Un proceso en segundo plano solo tendrá una de las tres características mencionadas.\n",
    "\n",
    "La función `daemonize()` hará que el programa se convierta en un *daemon* en el sentido de las características anteriores. Lo primero que hace este código es crear un `fork()` para crear una copia del proceso que se ejecuta donde la copia se considera el proceso \"hijo\" y el original se considera como el proceso \"padre\". Cuando el proceso hijo se bifurca, el padre puede terminar. También se comprueba qué `PID` está detrás de la bifurcación. Si el `PID` es positivo significa que estamos en el proceso padre. Esta es una característica cuando se invoca a un proceso hijo, que el `PID` es negativo. Después de completar la llamada a `os.fork()` habrá dos copias del mismo proceso ejecutándose. Ambos luego comprueban el código de retorno de la llamada `fork()` que devuelve 0 en el hijo y el ID del proceso en el padre. **Cualquiera que sea el proceso que tiene un código de retorno `!= 0` que solamente será del padre, termina**. Si ocurre un problema en este punto, se eleva una excepción y el proceso termina. Si el script se lanza desde una Bash se verá que se devuelve el *command prompt*.\n",
    "\n",
    "Lo siguiente que hace el proceso es cambiar el directorio a `/`, establecer su `umask` en 0 y crear una nueva sesión.  Cambiar el directorio sitúa al proceso en un directorio que siempre terminará. La última acción (`os.setsid()`) es menos familiar pero realiza, en primer lugar, que el proceso se convierta en líder de sesión de una nuev sesión. A continuación hace que el proceso se convierta en líder de grupo del proceso de un nuevo grupo de proceso. Por último hace que el proceso no tenga terminal de control, lo que significa que el proceso no puede ser víctima de acciones involuntarias de control de trabajo desde algún terminal. Esto es útil para tener un proceso prolongado e ininterrumpido como un daemon."
   ]
  },
  {
   "cell_type": "code",
   "execution_count": 7,
   "metadata": {},
   "outputs": [],
   "source": [
    "import sys, os\n",
    "\n",
    "def daemonize(stdin='/dev/null', stdout='/dev/null', stderr='/dev/null'):\n",
    "    # Realizar primero fork.\n",
    "    try:\n",
    "        pid = os.fork()\n",
    "        if pid > 0:\n",
    "            sys.exit(0)\n",
    "    except OSError, e:\n",
    "        sys.stderr.write(\"fork #1 failed: (%d) %s\\n\" % (e.errno, e.strerror))\n",
    "    # Separarde entorno padre.\n",
    "    os.chdir(\"/\")\n",
    "    os.umask(0)\n",
    "    os.setsid()\n",
    "    # Realizar segundo fork.\n",
    "    try:\n",
    "        pid = os.fork()\n",
    "        if pid > 0:\n",
    "            sys.exit(0)\n",
    "    except OSError, e:\n",
    "        sys.stderr.write(\"fork #2 failed: (%d) %s\\n\" % (e.errno, e.strerror))\n",
    "    sys.exit(1)\n",
    "        \n",
    "    # El proceso ahora está daemonizado\n",
    "    for f in sys.stdout, sys.stderr: f.flush()\n",
    "\n",
    "    si = file(stdin, 'r')\n",
    "    so = file(stdout, 'a+')\n",
    "    se = file(stderr, 'a+', 0)\n",
    "\n",
    "    os.dup2(si.fileno( ), sys.stdin.fileno( ))\n",
    "    os.dup2(so.fileno( ), sys.stdout.fileno( ))\n",
    "    os.dup2(se.fileno( ), sys.stderr.fileno( ))"
   ]
  },
  {
   "cell_type": "markdown",
   "metadata": {},
   "source": [
    "Si guardamos este código en un archivo llamado `daemonize.py` tenemos la estructura preparada para crear un programa que haga uso de él como puede ser el siguiente:"
   ]
  },
  {
   "cell_type": "code",
   "execution_count": 8,
   "metadata": {},
   "outputs": [
    {
     "ename": "SystemExit",
     "evalue": "0",
     "output_type": "error",
     "traceback": [
      "An exception has occurred, use %tb to see the full traceback.\n",
      "\u001b[0;31mSystemExit\u001b[0m\u001b[0;31m:\u001b[0m 0\n"
     ]
    }
   ],
   "source": [
    "#from daemonize import daemonize\n",
    "import time\n",
    "import sys\n",
    "\n",
    "def mod_5_watcher():\n",
    "    start_time = time.time()\n",
    "    end_time = start_time + 20\n",
    "    \n",
    "    while time.time() < end_time:\n",
    "        now = time.time()\n",
    "        if int(now) % 5 == 0:\n",
    "            sys.stderr.write('Mod 5 at %s\\n' % now)\n",
    "        else:\n",
    "            sys.stdout.write('No mod 5 at %s\\n' % now)\n",
    "        time.slee(1)\n",
    "\n",
    "if __name__ == \"__main__\":\n",
    "    daemonize(stdout='/tmp/stdout.log', stderr='/tmp/stderr.log')\n",
    "    mod_5_watcher()"
   ]
  },
  {
   "cell_type": "markdown",
   "metadata": {},
   "source": [
    "El script primero *daemoniza* y especifica que se debería utilizar `/tmp/stdout.log` para la salida estandar y `/tmp/stderr.log` para error estándar. Luego se observa el tiempo durante los siguientes 20 segundos, durmiendo un segundo entre comprobaciones de tiempo. Si el tiempo es divisible entre 5, se escribe el error en estándar.Puesto que el proceso utiliza `/tmp/stdout.log` para salida estándar y `/tmp/stderr.log` para error estándar se debería poder ver los resultados en esos archivos después de ejecutar el ejemplo."
   ]
  },
  {
   "cell_type": "markdown",
   "metadata": {},
   "source": [
    "## Persistencia de datos\n",
    "\n",
    "### Pickle\n",
    "\n",
    "Es el mecanísmo más básico de serialización o almacenamiento de datos sin relación y está incluido en la biblioteca estándar. La idea del módulo `pickle` (conservar) es coger un objeto, escribirlo en disco, salir del proceso y regresar más tarde para iniciar de nuevo el proceso, leere el objeto de disco e interactuar con él. Los tipos de objetos que puede preservar se pueden resumir en:\n",
    "- `None`, `True`, `False`.\n",
    "- Enteros, con coma flotante, complejos, enteros largos.\n",
    "- Cadenas normales y Unicode.\n",
    "- Tuplas, listas, conjuntos y diccionarios que contienen objetos que se pueden conservar.\n",
    "- Funciones definidas en el nuvel superior de un módulo.\n",
    "- Clases que se definen en el nivel superior del módulo.\n",
    "- Instancias de dichas clases cuyos `__dict__` o `__setstate__()` se pueden conservar.\n",
    "\n",
    "Un ejemplo de la librería Pickle es el siguiente:"
   ]
  },
  {
   "cell_type": "code",
   "execution_count": 2,
   "metadata": {
    "scrolled": false
   },
   "outputs": [],
   "source": [
    "import pickle\n",
    "\n",
    "diccionario = {'a': 1, 'b': 2}\n",
    "\n",
    "pickle_file = open('pickle_test.pkl', 'wb')\n",
    "pickle.dump(diccionario, pickle_file)\n",
    "pickle_file.close()"
   ]
  },
  {
   "cell_type": "markdown",
   "metadata": {},
   "source": [
    "*Nota: fijarse en que el archivo tiene que escribirse en formato `wb`, es decir, en formato binario*.\n",
    "\n",
    "Si abrimos el archivo `.pkl` generado "
   ]
  },
  {
   "cell_type": "code",
   "execution_count": 3,
   "metadata": {},
   "outputs": [
    {
     "name": "stdout",
     "output_type": "stream",
     "text": [
      "�\u0003}q\u0000(X\u0001\u0000\u0000\u0000aq\u0001K\u0001X\u0001\u0000\u0000\u0000bq\u0002K\u0002u."
     ]
    }
   ],
   "source": [
    "cat pickle_test.pkl"
   ]
  },
  {
   "cell_type": "markdown",
   "metadata": {},
   "source": [
    "Para comprobar la persistencia, se carga el archivo `pkl` y se comprueba su contenido. *De igual manera, al haber sido almacenado en formato \"bytes\" tiene que cargarse de igual manera* (`rb`)."
   ]
  },
  {
   "cell_type": "code",
   "execution_count": 6,
   "metadata": {},
   "outputs": [
    {
     "name": "stdout",
     "output_type": "stream",
     "text": [
      "{'a': 1, 'b': 2}\n"
     ]
    }
   ],
   "source": [
    "import pickle\n",
    "\n",
    "pickle_file = open('pickle_test.pkl', 'rb')\n",
    "\n",
    "diccionario_cargado = pickle.load(pickle_file)\n",
    "\n",
    "print(diccionario_cargado)"
   ]
  },
  {
   "cell_type": "markdown",
   "metadata": {},
   "source": [
    "Es interesante recalcar que no es necesaria una relación 1 a 1 entre los objetos y los archivos de Pickle. Se pueden volcar tantos objetos a un solo archivo Pickle como espacio en disco se tenga. Un ejemplo de cómo volcar un número de objetos (diccionarios) a un archivo Pickle sería:"
   ]
  },
  {
   "cell_type": "code",
   "execution_count": 10,
   "metadata": {},
   "outputs": [
    {
     "name": "stdout",
     "output_type": "stream",
     "text": [
      "[{'0': 0}, {'1': 1}, {'2': 2}, {'3': 3}, {'4': 4}]\n"
     ]
    }
   ],
   "source": [
    "import pickle\n",
    "\n",
    "lista_dicts = [{str(i): i} for i in range(5)]\n",
    "print(lista_dicts)\n",
    "\n",
    "pickle_file = open('list_of_dicts.pkl', 'wb')\n",
    "\n",
    "for d in lista_dicts:\n",
    "    pickle.dump(d, pickle_file)\n",
    "    \n",
    "pickle_file.close()"
   ]
  },
  {
   "cell_type": "markdown",
   "metadata": {},
   "source": [
    "Es el mismo ejemplo que se ha utilizado en el ejemplo anterior pero llamando varias veces a `dump()` para almacenar todos los diccionarios. Si de igual manera cargamos el contenido del archivo `pkl` veremos que se leen y cargan en el mismo orden que fueron almacenados (FIFO) y con el mismo contenido."
   ]
  },
  {
   "cell_type": "code",
   "execution_count": 12,
   "metadata": {},
   "outputs": [
    {
     "name": "stdout",
     "output_type": "stream",
     "text": [
      "{'0': 0}\n",
      "{'1': 1}\n",
      "{'2': 2}\n",
      "{'3': 3}\n",
      "{'4': 4}\n",
      "Fin de fichero\n"
     ]
    }
   ],
   "source": [
    "import pickle\n",
    "\n",
    "pickle_file = open('list_of_dicts.pkl', 'rb')\n",
    "\n",
    "while 1:\n",
    "    try:\n",
    "        print(pickle.load(pickle_file))\n",
    "    except EOFError:\n",
    "        print(\"Fin de fichero\")\n",
    "        break"
   ]
  },
  {
   "cell_type": "markdown",
   "metadata": {},
   "source": [
    "Como se ha dicho, Pickle permite también almacenar otros tipos de datos como **clases**. Tomando una clase como ejemplo vamos a ver el mismo procedimiento, crear, almacenar, cargar y ejecutar:"
   ]
  },
  {
   "cell_type": "code",
   "execution_count": 15,
   "metadata": {},
   "outputs": [
    {
     "name": "stdout",
     "output_type": "stream",
     "text": [
      "Clase personalizada:: [1, 2, 3]\n"
     ]
    }
   ],
   "source": [
    "import pickle\n",
    "\n",
    "class MyClass(object):\n",
    "    def __init__(self):\n",
    "        self.data = []\n",
    "    def __str__(self):\n",
    "        return \"Clase personalizada: %s\" % str(self.data)\n",
    "    def add_item(self, item):\n",
    "        self.data.append(item)\n",
    "        \n",
    "\n",
    "my_obj = MyClass()\n",
    "my_obj.add_item(1)\n",
    "my_obj.add_item(2)\n",
    "my_obj.add_item(3)\n",
    "\n",
    "print(my_obj)\n",
    "\n",
    "pickle_file = open('pickle_class.pkl', 'wb')\n",
    "pickle.dump(my_obj, pickle_file)\n",
    "pickle_file.close()"
   ]
  },
  {
   "cell_type": "markdown",
   "metadata": {},
   "source": [
    "Si cargamos el archivo y ejecutamos tenemos:"
   ]
  },
  {
   "cell_type": "code",
   "execution_count": 17,
   "metadata": {},
   "outputs": [
    {
     "name": "stdout",
     "output_type": "stream",
     "text": [
      "Clase personalizada:: [1, 2, 3]\n"
     ]
    }
   ],
   "source": [
    "import pickle\n",
    "\n",
    "pickle_file = open('pickle_class.pkl', 'rb')\n",
    "\n",
    "my_obj = pickle.load(pickle_file)\n",
    "print(my_obj)\n",
    "\n",
    "pickle_file.close()"
   ]
  },
  {
   "cell_type": "markdown",
   "metadata": {},
   "source": [
    "### YAML\n",
    "\n",
    "Para algunos *YAML ain't markup language* para otros *yet another markup language*, YAML es un formato de datos que se utiliza a menudo para almacenar, recuperar y actualizar datos en un diseño de texto sencillo. Estos datos a menudo son jerárquicos. Una razón para trabajar con YAML en vez de con Pickle es que YAML es legible. La sintaxis es similar a un archivo de configuración. Si existe un caso donde haya que editar un archivo de configuración es una buena elección. Otra razón es que lo analizadores YAML se han implementado en muchos otros lenguajes (como JSON). Si se necesita obtener datos entre una aplicación escrita en Python y otro lenguaje, YAML puede ser una buena solución intermedia. Veamos un ejemplo:"
   ]
  },
  {
   "cell_type": "code",
   "execution_count": 37,
   "metadata": {},
   "outputs": [],
   "source": [
    "import yaml\n",
    "\n",
    "yaml_file = open('test.yml', 'w')\n",
    "\n",
    "diccionario = {'foo': 'a', 'bar': 'b', 'bam': [1, 2, 3]}\n",
    "\n",
    "yaml.dump(diccionario, yaml_file, default_flow_style=False)\n",
    "yaml_file.close()"
   ]
  },
  {
   "cell_type": "markdown",
   "metadata": {},
   "source": [
    "La opción `default_flow_syle` desactiva serializar los datos almacenados en modo bloque. Puede ejecutarse la celdilla cambiando a `True` la bandera para ver la diferencia. Si ahora vemos el contenido del archivo con `cat` tenemos:"
   ]
  },
  {
   "cell_type": "code",
   "execution_count": 39,
   "metadata": {},
   "outputs": [
    {
     "name": "stdout",
     "output_type": "stream",
     "text": [
      "bam:\r\n",
      "- 1\r\n",
      "- 2\r\n",
      "- 3\r\n",
      "bar: b\r\n",
      "foo: a\r\n"
     ]
    }
   ],
   "source": [
    "cat test.yml"
   ]
  },
  {
   "cell_type": "markdown",
   "metadata": {},
   "source": [
    "Y si cargamos el contenido como en los ejemplos con Pickle, se tiene:"
   ]
  },
  {
   "cell_type": "code",
   "execution_count": 30,
   "metadata": {},
   "outputs": [
    {
     "data": {
      "text/plain": [
       "{'bam': [1, 2, 3], 'bar': 'b', 'foo': 'a'}"
      ]
     },
     "execution_count": 30,
     "metadata": {},
     "output_type": "execute_result"
    }
   ],
   "source": [
    "import yaml\n",
    "\n",
    "yaml_file = open('test.yml', 'r')\n",
    "\n",
    "yaml.load(yaml_file, Loader=yaml.FullLoader)"
   ]
  },
  {
   "cell_type": "markdown",
   "metadata": {},
   "source": [
    "El método de carga de yaml, `load`, está *deprecated*. En su lugar se tiene que usar:\n",
    "- `yaml.safe_load`\n",
    "- `yaml.full_load`\n",
    "- `yaml.unsafe_load`\n",
    "\n",
    "O puede usarse a través del método `load` especificando el tipo de carga:\n",
    "\n",
    "```pythoon\n",
    "yaml.load(input, Loader=yaml.FullLoader)\n",
    "```\n",
    "\n",
    "Donde las opciones `Loader` disponibles son:\n",
    "\n",
    "- `BaseLoader`: Carga básica de un archivo YAML:\n",
    "- `SafeLoader`: Carga un subconjunto del lenguaje YAML, de forma segura. Es recomendable para cargar datos no confiables.\n",
    "- `FullLoader` : Carga el lenguaje YAML completo. Evita la ejecución arbitraria de código. Este es actualmente (PyYAML 5.1) el cargador por defecto llamado por yaml.load(input) (después de emitir la advertencia).\n",
    "- `UnsafeLoader`:  También llamado `Loader` de retrocompatibilidad. El código original del cargador que podría ser fácilmente explotable por la entrada de datos no confiables."
   ]
  },
  {
   "cell_type": "markdown",
   "metadata": {},
   "source": [
    "Si queremos mantener una estructura en el almacenamiento de los datos, podemos dejar fuera la opción del archivo en la llamada a `dump()` y en lugar de guardarse, imprimirá por la salida estandar el resultado, como puede verse en el siguiente ejemplo."
   ]
  },
  {
   "cell_type": "code",
   "execution_count": 51,
   "metadata": {},
   "outputs": [
    {
     "name": "stdout",
     "output_type": "stream",
     "text": [
      "Diccionario 1:\n",
      "first:\n",
      "  second:\n",
      "    third:\n",
      "      fourth: a\n",
      "\n",
      "Diccionario 2:\n",
      "- a: a\n",
      "- b: b\n",
      "- c: c\n",
      "\n",
      "Diccionario 3:\n",
      "- a: a\n",
      "- b: b\n",
      "- c:\n",
      "  - 1\n",
      "  - 2\n",
      "  - 3\n",
      "  - 4\n",
      "  - 5\n",
      "\n",
      "Diccionario 3 con el estilo por defecto\n",
      "[{a: a}, {b: b}, {c: [1, 2, 3, 4, 5]}]\n",
      "\n"
     ]
    }
   ],
   "source": [
    "import yaml\n",
    "\n",
    "diccionario = {'first': {'second': {'third': {'fourth': 'a'}}}}\n",
    "print(\"Diccionario 1:\")\n",
    "print(yaml.dump(diccionario, default_flow_style=False))\n",
    "\n",
    "diccionario_2 = [{'a': 'a'}, {'b': 'b'}, {'c': 'c'}]\n",
    "print(\"Diccionario 2:\")\n",
    "print(yaml.dump(diccionario_2, default_flow_style=False))\n",
    "\n",
    "diccionario_3 = [{'a': 'a'}, {'b': 'b'}, {'c': [1, 2, 3, 4, 5]}]\n",
    "print(\"Diccionario 3:\")\n",
    "print(yaml.dump(diccionario_3, default_flow_style=False))\n",
    "print(\"Diccionario 3 con el estilo por defecto:\")\n",
    "print(yaml.dump(diccionario_3, default_flow_style=True))"
   ]
  },
  {
   "cell_type": "markdown",
   "metadata": {},
   "source": [
    "### Otras librerías\n",
    "\n",
    "Existen otras librerías para persistencia de datos como son:\n",
    "\n",
    "- **cPicke**: Muy parecida a Picke pero implementada en C.\n",
    "- **Shelve**: Proporciona una interfaz sencilla para persistencia de objetos y simplifica la persistencia de múltiples objetos.\n",
    "- **ZODB**: Es similar a YAML o Pickle pero con la posibilidad de escalar bajo nuestras necesidad propocionando atomicidad en las operaciones y transacciones. Es de tipo 'persistencia relacional'.\n",
    "- **SQLite**: De tipo 'persistencia relacional' permite tratar el almacenamiento de los datos desde cero y el motor de la base de datos está, en vez de un servidor externo, ejecutándose en el mismo proceso que el código y se accede a él como una biblioteca más. Se guarda todo en un archivo, es compatible con muchos otros lenguajes de programación y, puede decirse, que hará las veces de base de datos \"real\".\n",
    "- **ORB Storm**: Permite acceso a los datos de manera sencilla gracias al mapeado objeto-relacional. Simplemente es proporcionar una interfaz orientada a objetos a la base de datos.\n",
    "- **SQLite-orm**: Una librería que comunica SQLite con el programa utilizando ORM con mantenimiento hasta 2018 (Storm dejó de ser actualizada en 2013).\n"
   ]
  },
  {
   "cell_type": "code",
   "execution_count": null,
   "metadata": {},
   "outputs": [],
   "source": []
  }
 ],
 "metadata": {
  "kernelspec": {
   "display_name": "Python 2",
   "language": "python",
   "name": "python2"
  },
  "language_info": {
   "codemirror_mode": {
    "name": "ipython",
    "version": 3
   },
   "file_extension": ".py",
   "mimetype": "text/x-python",
   "name": "python",
   "nbconvert_exporter": "python",
   "pygments_lexer": "ipython3",
   "version": "3.6.8"
  }
 },
 "nbformat": 4,
 "nbformat_minor": 2
}
