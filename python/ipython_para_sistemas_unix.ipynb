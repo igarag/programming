{
 "cells": [
  {
   "cell_type": "markdown",
   "metadata": {},
   "source": [
    "# IPython para administración de sistemas Unix"
   ]
  },
  {
   "cell_type": "markdown",
   "metadata": {},
   "source": [
    "Pueden listarse las funciones dentro de un módulo con la consola de `IPython` usando el **tabulador** cuando se importa el módulo, se escribe por consola y se añade un punto:\n",
    "\n",
    "```python\n",
    "import subprocess\n",
    "subprocess.\n",
    "```"
   ]
  },
  {
   "cell_type": "markdown",
   "metadata": {},
   "source": [
    "Para conocer un ejemplo de uso de una de las funciones puede añadirse un `?` detrás de la función como en el ejemplo. PUede obtenerse más ayuda si se introducen dos `??`."
   ]
  },
  {
   "cell_type": "code",
   "execution_count": 15,
   "metadata": {},
   "outputs": [],
   "source": [
    "subprocess.getoutput??"
   ]
  },
  {
   "cell_type": "markdown",
   "metadata": {},
   "source": [
    "Es buena idea cuando se crean scripts de shell con Python envolver todas las funciones que representan un módulo en un `main` de tal manera que se ejecuten secuencialmente todas las funciones. De esta manera se tienen por un lado llamadas individuales a las funciones y por otro el conjunto de todas ellas. A esta función `main` se le denomina **flujo de control**."
   ]
  },
  {
   "cell_type": "code",
   "execution_count": 2,
   "metadata": {},
   "outputs": [
    {
     "name": "stdout",
     "output_type": "stream",
     "text": [
      "Gathering system informatiokn with uname command:\n",
      "\n",
      "Gathering diskpace information df command:\n",
      "\n"
     ]
    }
   ],
   "source": [
    "import subprocess\n",
    "\n",
    "# Comando 1\n",
    "def uname_func():\n",
    "    \n",
    "    uname = \"uname\"\n",
    "    uname_arg = \"-a\"\n",
    "    print(\"Gathering system informatiokn with %s command:\\n\" % uname)\n",
    "    subprocess.call([uname, uname_arg])\n",
    "    \n",
    "    \n",
    "#Comando 2\n",
    "def disk_func():\n",
    "    \n",
    "    diskspace = \"df\"\n",
    "    diskspace_arg = \"-h\"\n",
    "    print(\"Gathering diskpace information %s command:\\n\" % diskspace)\n",
    "    subprocess.call([diskspace, diskspace_arg])\n",
    "\n",
    "    \n",
    "# Función principal que invoca otras funciones.\n",
    "def main():\n",
    "    uname_func()\n",
    "    disk_func()\n",
    "    \n",
    "main()"
   ]
  },
  {
   "cell_type": "markdown",
   "metadata": {},
   "source": [
    "## Funciones mágicas"
   ]
  },
  {
   "cell_type": "markdown",
   "metadata": {},
   "source": [
    "Para listar las funciones mágicas introducir: `lsmagic`. También puede utilizarse el tabulador si se pone por delante el caracter especial `%`. Puede desplegarse una ayuda si se introduce el comando: `magic`."
   ]
  },
  {
   "cell_type": "code",
   "execution_count": 11,
   "metadata": {},
   "outputs": [
    {
     "data": {
      "application/json": {
       "cell": {
        "!": "OSMagics",
        "HTML": "Other",
        "SVG": "Other",
        "bash": "Other",
        "capture": "ExecutionMagics",
        "debug": "ExecutionMagics",
        "file": "Other",
        "html": "DisplayMagics",
        "javascript": "DisplayMagics",
        "js": "DisplayMagics",
        "latex": "DisplayMagics",
        "markdown": "DisplayMagics",
        "perl": "Other",
        "prun": "ExecutionMagics",
        "pypy": "Other",
        "python": "Other",
        "python2": "Other",
        "python3": "Other",
        "ruby": "Other",
        "script": "ScriptMagics",
        "sh": "Other",
        "svg": "DisplayMagics",
        "sx": "OSMagics",
        "system": "OSMagics",
        "time": "ExecutionMagics",
        "timeit": "ExecutionMagics",
        "writefile": "OSMagics"
       },
       "line": {
        "alias": "OSMagics",
        "alias_magic": "BasicMagics",
        "autoawait": "AsyncMagics",
        "autocall": "AutoMagics",
        "automagic": "AutoMagics",
        "autosave": "KernelMagics",
        "bookmark": "OSMagics",
        "cat": "Other",
        "cd": "OSMagics",
        "clear": "KernelMagics",
        "colors": "BasicMagics",
        "conda": "PackagingMagics",
        "config": "ConfigMagics",
        "connect_info": "KernelMagics",
        "cp": "Other",
        "debug": "ExecutionMagics",
        "dhist": "OSMagics",
        "dirs": "OSMagics",
        "doctest_mode": "BasicMagics",
        "ed": "Other",
        "edit": "KernelMagics",
        "env": "OSMagics",
        "gui": "BasicMagics",
        "hist": "Other",
        "history": "HistoryMagics",
        "killbgscripts": "ScriptMagics",
        "ldir": "Other",
        "less": "KernelMagics",
        "lf": "Other",
        "lk": "Other",
        "ll": "Other",
        "load": "CodeMagics",
        "load_ext": "ExtensionMagics",
        "loadpy": "CodeMagics",
        "logoff": "LoggingMagics",
        "logon": "LoggingMagics",
        "logstart": "LoggingMagics",
        "logstate": "LoggingMagics",
        "logstop": "LoggingMagics",
        "ls": "Other",
        "lsmagic": "BasicMagics",
        "lx": "Other",
        "macro": "ExecutionMagics",
        "magic": "BasicMagics",
        "man": "KernelMagics",
        "matplotlib": "PylabMagics",
        "mkdir": "Other",
        "more": "KernelMagics",
        "mv": "Other",
        "notebook": "BasicMagics",
        "page": "BasicMagics",
        "pastebin": "CodeMagics",
        "pdb": "ExecutionMagics",
        "pdef": "NamespaceMagics",
        "pdoc": "NamespaceMagics",
        "pfile": "NamespaceMagics",
        "pinfo": "NamespaceMagics",
        "pinfo2": "NamespaceMagics",
        "pip": "PackagingMagics",
        "popd": "OSMagics",
        "pprint": "BasicMagics",
        "precision": "BasicMagics",
        "prun": "ExecutionMagics",
        "psearch": "NamespaceMagics",
        "psource": "NamespaceMagics",
        "pushd": "OSMagics",
        "pwd": "OSMagics",
        "pycat": "OSMagics",
        "pylab": "PylabMagics",
        "qtconsole": "KernelMagics",
        "quickref": "BasicMagics",
        "recall": "HistoryMagics",
        "rehashx": "OSMagics",
        "reload_ext": "ExtensionMagics",
        "rep": "Other",
        "rerun": "HistoryMagics",
        "reset": "NamespaceMagics",
        "reset_selective": "NamespaceMagics",
        "rm": "Other",
        "rmdir": "Other",
        "run": "ExecutionMagics",
        "save": "CodeMagics",
        "sc": "OSMagics",
        "set_env": "OSMagics",
        "store": "StoreMagics",
        "sx": "OSMagics",
        "system": "OSMagics",
        "tb": "ExecutionMagics",
        "time": "ExecutionMagics",
        "timeit": "ExecutionMagics",
        "unalias": "OSMagics",
        "unload_ext": "ExtensionMagics",
        "who": "NamespaceMagics",
        "who_ls": "NamespaceMagics",
        "whos": "NamespaceMagics",
        "xdel": "NamespaceMagics",
        "xmode": "BasicMagics"
       }
      },
      "text/plain": [
       "Available line magics:\n",
       "%alias  %alias_magic  %autoawait  %autocall  %automagic  %autosave  %bookmark  %cat  %cd  %clear  %colors  %conda  %config  %connect_info  %cp  %debug  %dhist  %dirs  %doctest_mode  %ed  %edit  %env  %gui  %hist  %history  %killbgscripts  %ldir  %less  %lf  %lk  %ll  %load  %load_ext  %loadpy  %logoff  %logon  %logstart  %logstate  %logstop  %ls  %lsmagic  %lx  %macro  %magic  %man  %matplotlib  %mkdir  %more  %mv  %notebook  %page  %pastebin  %pdb  %pdef  %pdoc  %pfile  %pinfo  %pinfo2  %pip  %popd  %pprint  %precision  %prun  %psearch  %psource  %pushd  %pwd  %pycat  %pylab  %qtconsole  %quickref  %recall  %rehashx  %reload_ext  %rep  %rerun  %reset  %reset_selective  %rm  %rmdir  %run  %save  %sc  %set_env  %store  %sx  %system  %tb  %time  %timeit  %unalias  %unload_ext  %who  %who_ls  %whos  %xdel  %xmode\n",
       "\n",
       "Available cell magics:\n",
       "%%!  %%HTML  %%SVG  %%bash  %%capture  %%debug  %%file  %%html  %%javascript  %%js  %%latex  %%markdown  %%perl  %%prun  %%pypy  %%python  %%python2  %%python3  %%ruby  %%script  %%sh  %%svg  %%sx  %%system  %%time  %%timeit  %%writefile\n",
       "\n",
       "Automagic is ON, % prefix IS NOT needed for line magics."
      ]
     },
     "execution_count": 11,
     "metadata": {},
     "output_type": "execute_result"
    }
   ],
   "source": [
    "lsmagic"
   ]
  },
  {
   "cell_type": "markdown",
   "metadata": {},
   "source": [
    "Un ejemplo de una función mágica, permite crear `alias` como en el ejemplo:\n",
    "\n",
    "```python\n",
    "%alias d ls -F\n",
    "```\n",
    "\n",
    "Para desactivarlo, utilizar la función mágica `%unalias`."
   ]
  },
  {
   "cell_type": "code",
   "execution_count": 17,
   "metadata": {},
   "outputs": [],
   "source": [
    "%alias d ls -F"
   ]
  },
  {
   "cell_type": "markdown",
   "metadata": {},
   "source": [
    "Por ejemplo, pueden listarse las funciones y módulos interactivos que se están usando en la sesión de IPython con la **función mágica** `%who`o `%whos` con algo extra de información. Por ejemplo, hasta esta celdilla se han ejecutado otras celdas que contienen información. La lista se muestra en la siguiente celdilla."
   ]
  },
  {
   "cell_type": "code",
   "execution_count": 24,
   "metadata": {},
   "outputs": [
    {
     "name": "stdout",
     "output_type": "stream",
     "text": [
      "Variable     Type        Data/Info\n",
      "----------------------------------\n",
      "disk_func    function    <function disk_func at 0x7f5c94500158>\n",
      "main         function    <function main at 0x7f5c945001e0>\n",
      "subprocess   module      <module 'subprocess' from<...>python3.6/subprocess.py'>\n",
      "uname_func   function    <function uname_func at 0x7f5c945000d0>\n"
     ]
    }
   ],
   "source": [
    "%whos"
   ]
  },
  {
   "cell_type": "markdown",
   "metadata": {},
   "source": [
    "Una guía rápida de las funciones mágicas puede sacarse con `%quickref`. Un ejemplo se muestra a continuación."
   ]
  },
  {
   "cell_type": "code",
   "execution_count": 27,
   "metadata": {},
   "outputs": [],
   "source": [
    "%quickref"
   ]
  },
  {
   "cell_type": "markdown",
   "metadata": {},
   "source": [
    "Un ejemplo de alias útil para gestionar un sistema Unix pueden ser, como se dijo antes, los alias. Si, por ejemplo, se quiere utilizar el comando `netstat -plunt` de manera más rápida, puede hacerse u alias como el siguiente:"
   ]
  },
  {
   "cell_type": "code",
   "execution_count": 35,
   "metadata": {},
   "outputs": [],
   "source": [
    "%alias nss netstat -plunt"
   ]
  },
  {
   "cell_type": "code",
   "execution_count": 36,
   "metadata": {},
   "outputs": [
    {
     "name": "stdout",
     "output_type": "stream",
     "text": [
      "(Not all processes could be identified, non-owned process info\r\n",
      " will not be shown, you would have to be root to see it all.)\r\n",
      "Active Internet connections (only servers)\r\n",
      "Proto Recv-Q Send-Q Local Address           Foreign Address         State       PID/Program name    \r\n",
      "tcp        0      0 127.0.0.1:3306          0.0.0.0:*               LISTEN      -                   \r\n",
      "tcp        0      0 127.0.0.1:6379          0.0.0.0:*               LISTEN      -                   \r\n",
      "tcp        0      0 0.0.0.0:51413           0.0.0.0:*               LISTEN      -                   \r\n",
      "tcp        0      0 127.0.0.53:53           0.0.0.0:*               LISTEN      -                   \r\n",
      "tcp        0      0 127.0.0.1:631           0.0.0.0:*               LISTEN      -                   \r\n",
      "tcp        0      0 127.0.0.1:8888          0.0.0.0:*               LISTEN      31724/python3       \r\n",
      "tcp        0      0 127.0.0.1:45177         0.0.0.0:*               LISTEN      -                   \r\n",
      "tcp        0      0 127.0.0.1:39451         0.0.0.0:*               LISTEN      31926/python3       \r\n",
      "tcp        0      0 0.0.0.0:17500           0.0.0.0:*               LISTEN      2297/dropbox        \r\n",
      "tcp        0      0 127.0.0.1:42751         0.0.0.0:*               LISTEN      31926/python3       \r\n",
      "tcp        0      0 127.0.0.1:17600         0.0.0.0:*               LISTEN      2297/dropbox        \r\n",
      "tcp        0      0 127.0.0.1:54369         0.0.0.0:*               LISTEN      31926/python3       \r\n",
      "tcp        0      0 127.0.0.1:48675         0.0.0.0:*               LISTEN      31926/python3       \r\n",
      "tcp        0      0 127.0.0.1:17603         0.0.0.0:*               LISTEN      2297/dropbox        \r\n",
      "tcp        0      0 0.0.0.0:9091            0.0.0.0:*               LISTEN      -                   \r\n",
      "tcp        0      0 127.0.0.1:6341          0.0.0.0:*               LISTEN      2299/megasync       \r\n",
      "tcp        0      0 127.0.0.1:6342          0.0.0.0:*               LISTEN      2299/megasync       \r\n",
      "tcp        0      0 127.0.0.1:41191         0.0.0.0:*               LISTEN      31926/python3       \r\n",
      "tcp        0      0 127.0.0.1:44871         0.0.0.0:*               LISTEN      31926/python3       \r\n",
      "tcp6       0      0 ::1:6379                :::*                    LISTEN      -                   \r\n",
      "tcp6       0      0 :::1716                 :::*                    LISTEN      2240/kdeconnectd    \r\n",
      "tcp6       0      0 :::51413                :::*                    LISTEN      -                   \r\n",
      "tcp6       0      0 ::1:631                 :::*                    LISTEN      -                   \r\n",
      "tcp6       0      0 :::17500                :::*                    LISTEN      2297/dropbox        \r\n",
      "tcp6       0      0 :::6600                 :::*                    LISTEN      -                   \r\n",
      "udp        0      0 127.0.0.53:53           0.0.0.0:*                           -                   \r\n",
      "udp        0      0 0.0.0.0:68              0.0.0.0:*                           -                   \r\n",
      "udp        0      0 0.0.0.0:631             0.0.0.0:*                           -                   \r\n",
      "udp        0      0 0.0.0.0:17500           0.0.0.0:*                           2297/dropbox        \r\n",
      "udp        0      0 0.0.0.0:51413           0.0.0.0:*                           -                   \r\n",
      "udp        0      0 0.0.0.0:5353            0.0.0.0:*                           -                   \r\n",
      "udp        0      0 0.0.0.0:40364           0.0.0.0:*                           -                   \r\n",
      "udp6       0      0 :::1716                 :::*                                2240/kdeconnectd    \r\n",
      "udp6       0      0 :::59316                :::*                                -                   \r\n",
      "udp6       0      0 :::5353                 :::*                                -                   \r\n"
     ]
    }
   ],
   "source": [
    "nss"
   ]
  },
  {
   "cell_type": "markdown",
   "metadata": {},
   "source": [
    "Además, puede utilizarse las metodologías **hacer-nada** o **hacer-todo** donde se le pueden pasar o no argumentos a un alias o comando e interpretarse de distinta manera. Teniendo por ejemplo el alias:"
   ]
  },
  {
   "cell_type": "code",
   "execution_count": 44,
   "metadata": {},
   "outputs": [],
   "source": [
    "%alias achoo echo first: \"|%s|\", second \"|%s|\""
   ]
  },
  {
   "cell_type": "code",
   "execution_count": 46,
   "metadata": {},
   "outputs": [
    {
     "name": "stdout",
     "output_type": "stream",
     "text": [
      "first: |foo|, second |bar|\r\n"
     ]
    }
   ],
   "source": [
    "achoo foo bar"
   ]
  },
  {
   "cell_type": "markdown",
   "metadata": {},
   "source": [
    "Para hacerlo con o sin argumentos:"
   ]
  },
  {
   "cell_type": "code",
   "execution_count": 47,
   "metadata": {},
   "outputs": [],
   "source": [
    "%alias achoo echo \"|%l|\""
   ]
  },
  {
   "cell_type": "code",
   "execution_count": 54,
   "metadata": {},
   "outputs": [
    {
     "name": "stdout",
     "output_type": "stream",
     "text": [
      "||\r\n"
     ]
    }
   ],
   "source": [
    "achoo"
   ]
  },
  {
   "cell_type": "markdown",
   "metadata": {},
   "source": [
    "Otra forma de ejecutar un comando de shell es colocando el símbolo `!` delante. La salida de un comando de shell puede almacenarse en una lista, como por ejemplo."
   ]
  },
  {
   "cell_type": "code",
   "execution_count": 75,
   "metadata": {},
   "outputs": [
    {
     "data": {
      "text/plain": [
       "['nachoaz   1901  0.0  0.0  24144  5512 pts/3    Ss+  jul15   0:00 /bin/bash',\n",
       " 'nachoaz   4305  0.0  0.0  14104  3352 ?        S    00:18   0:00 /bin/bash -c ps aux | grep nachoaz | grep bash',\n",
       " 'nachoaz   4309  0.0  0.0  15648  1104 ?        S    00:18   0:00 grep bash',\n",
       " 'nachoaz   8916  0.0  0.0  25100  6404 pts/0    Ss+  jul15   0:00 /bin/bash',\n",
       " 'nachoaz  13901  0.0  0.0  24064  5520 pts/2    Ss   jul15   0:00 /bin/bash']"
      ]
     },
     "execution_count": 75,
     "metadata": {},
     "output_type": "execute_result"
    }
   ],
   "source": [
    "user = 'nachoaz'\n",
    "process = 'bash'\n",
    "l = !ps aux | grep $user | grep $process\n",
    "l # Imprimir la variable 'l'."
   ]
  },
  {
   "cell_type": "markdown",
   "metadata": {},
   "source": [
    "## cd y marcadores "
   ]
  },
  {
   "cell_type": "code",
   "execution_count": null,
   "metadata": {},
   "outputs": [],
   "source": []
  },
  {
   "cell_type": "code",
   "execution_count": null,
   "metadata": {},
   "outputs": [],
   "source": []
  },
  {
   "cell_type": "markdown",
   "metadata": {},
   "source": [
    "## Bookmarks"
   ]
  },
  {
   "cell_type": "markdown",
   "metadata": {},
   "source": [
    "Crear marcadores se puede hacer de diferentes maneras. Una de ellas es la siguiente: con la directiva `bookmark t` estando, por ejemplo, en el directorio `/tmp` se crea un marcador en ese directorio."
   ]
  },
  {
   "cell_type": "code",
   "execution_count": 7,
   "metadata": {},
   "outputs": [
    {
     "name": "stdout",
     "output_type": "stream",
     "text": [
      "/tmp\n"
     ]
    }
   ],
   "source": [
    "cd /tmp"
   ]
  },
  {
   "cell_type": "code",
   "execution_count": 8,
   "metadata": {},
   "outputs": [],
   "source": [
    "bookmark t"
   ]
  },
  {
   "cell_type": "markdown",
   "metadata": {},
   "source": [
    "Otra manera de crear un marcador requiere escribir un poco más."
   ]
  },
  {
   "cell_type": "code",
   "execution_count": 20,
   "metadata": {},
   "outputs": [],
   "source": [
    "bookmark h /home/"
   ]
  },
  {
   "cell_type": "markdown",
   "metadata": {},
   "source": [
    "Pueden listarse los marcadores con la siguiente opción. **Nota:** Los marcadores se conservan entre sesiones de IPython por lo que no es necesario cargarlos de nuevo."
   ]
  },
  {
   "cell_type": "code",
   "execution_count": 6,
   "metadata": {},
   "outputs": [
    {
     "name": "stdout",
     "output_type": "stream",
     "text": [
      "Current bookmarks:\n",
      "my_home -> /home/$(whoami)\n",
      "t       -> /tmp\n"
     ]
    }
   ],
   "source": [
    "%bookmark -l"
   ]
  },
  {
   "cell_type": "markdown",
   "metadata": {},
   "source": [
    "Para eliminar un marcador se utiliza el argumento `-d` como sigue:"
   ]
  },
  {
   "cell_type": "code",
   "execution_count": 23,
   "metadata": {},
   "outputs": [
    {
     "name": "stderr",
     "output_type": "stream",
     "text": [
      "UsageError: %bookmark -d: Can't delete bookmark 'h'\n"
     ]
    }
   ],
   "source": [
    "bookmark -d h"
   ]
  },
  {
   "cell_type": "code",
   "execution_count": 25,
   "metadata": {},
   "outputs": [
    {
     "name": "stdout",
     "output_type": "stream",
     "text": [
      "Current bookmarks:\n",
      "my_home -> /home/$(whoami)\n",
      "t       -> /tmp\n"
     ]
    }
   ],
   "source": [
    "bookmark -l"
   ]
  },
  {
   "cell_type": "markdown",
   "metadata": {},
   "source": [
    "## dhist"
   ]
  },
  {
   "cell_type": "code",
   "execution_count": null,
   "metadata": {},
   "outputs": [],
   "source": []
  },
  {
   "cell_type": "code",
   "execution_count": null,
   "metadata": {},
   "outputs": [],
   "source": []
  }
 ],
 "metadata": {
  "kernelspec": {
   "display_name": "Python 3",
   "language": "python",
   "name": "python3"
  },
  "language_info": {
   "codemirror_mode": {
    "name": "ipython",
    "version": 3
   },
   "file_extension": ".py",
   "mimetype": "text/x-python",
   "name": "python",
   "nbconvert_exporter": "python",
   "pygments_lexer": "ipython3",
   "version": "3.6.8"
  }
 },
 "nbformat": 4,
 "nbformat_minor": 2
}
