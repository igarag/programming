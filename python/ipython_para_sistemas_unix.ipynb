{
 "cells": [
  {
   "cell_type": "markdown",
   "metadata": {},
   "source": [
    "# IPython para administración de sistemas Unix"
   ]
  },
  {
   "cell_type": "markdown",
   "metadata": {},
   "source": [
    "Pueden listarse las funciones dentro de un módulo con la consola de `IPython` usando el **tabulador** cuando se importa el módulo, se escribe por consola y se añade un punto:\n",
    "\n",
    "```python\n",
    "import subprocess\n",
    "subprocess.\n",
    "```"
   ]
  },
  {
   "cell_type": "markdown",
   "metadata": {},
   "source": [
    "Para conocer un ejemplo de uso de una de las funciones puede añadirse un `?` detrás de la función como en el ejemplo"
   ]
  },
  {
   "cell_type": "code",
   "execution_count": 4,
   "metadata": {},
   "outputs": [],
   "source": [
    "subprocess.getoutput?"
   ]
  },
  {
   "cell_type": "markdown",
   "metadata": {},
   "source": [
    "Es buena idea cuando se crean scripts de shell con Python envolver todas las funciones que representan un módulo en un `main` de tal manera que se ejecuten secuencialmente todas las funciones. De esta manera se tienen por un lado llamadas individuales a las funciones y por otro el conjunto de todas ellas. A esta función `main` se le denomina **flujo de control**."
   ]
  },
  {
   "cell_type": "code",
   "execution_count": 10,
   "metadata": {},
   "outputs": [
    {
     "name": "stdout",
     "output_type": "stream",
     "text": [
      "Gathering system informatiokn with uname command:\n",
      "\n",
      "Gathering diskpace information df command:\n",
      "\n"
     ]
    }
   ],
   "source": [
    "import subprocess\n",
    "\n",
    "# Comando 1\n",
    "def uname_func():\n",
    "    \n",
    "    uname = \"uname\"\n",
    "    uname_arg = \"-a\"\n",
    "    print(\"Gathering system informatiokn with %s command:\\n\" % uname)\n",
    "    subprocess.call([uname, uname_arg])\n",
    "    \n",
    "    \n",
    "#Comando 2\n",
    "def disk_func():\n",
    "    \n",
    "    diskspace = \"df\"\n",
    "    diskspace_arg = \"-h\"\n",
    "    print(\"Gathering diskpace information %s command:\\n\" % diskspace)\n",
    "    subprocess.call([diskspace, diskspace_arg])\n",
    "\n",
    "    \n",
    "# Función principal que invoca otras funciones.\n",
    "def main():\n",
    "    uname_func()\n",
    "    disk_func()\n",
    "    \n",
    "main()"
   ]
  }
 ],
 "metadata": {
  "kernelspec": {
   "display_name": "Python 3",
   "language": "python",
   "name": "python3"
  },
  "language_info": {
   "codemirror_mode": {
    "name": "ipython",
    "version": 3
   },
   "file_extension": ".py",
   "mimetype": "text/x-python",
   "name": "python",
   "nbconvert_exporter": "python",
   "pygments_lexer": "ipython3",
   "version": "3.6.8"
  }
 },
 "nbformat": 4,
 "nbformat_minor": 2
}
