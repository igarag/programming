{
 "cells": [
  {
   "cell_type": "code",
   "execution_count": 1,
   "metadata": {},
   "outputs": [],
   "source": [
    "import numpy as np\n",
    "import matplotlib.pyplot as plt\n",
    "import matplotlib.animation as animation "
   ]
  },
  {
   "cell_type": "code",
   "execution_count": 12,
   "metadata": {},
   "outputs": [
    {
     "data": {
      "text/plain": [
       "<matplotlib.image.AxesImage at 0x7fa0361bfe10>"
      ]
     },
     "execution_count": 12,
     "metadata": {},
     "output_type": "execute_result"
    },
    {
     "data": {
      "image/png": "[encoded data removed]",
      "text/plain": [
       "<Figure size 288x288 with 1 Axes>"
      ]
     },
     "metadata": {
      "needs_background": "light"
     },
     "output_type": "display_data"
    }
   ],
   "source": [
    "ON = 1\n",
    "OFF = 0\n",
    "N = 10\n",
    "values = [ON, OFF]\n",
    "#grid = np.random.choice(values, N*N, p=[0.2, 0.8]).reshape(N, N)\n",
    "grid = np.zeros((N,N))\n",
    "\n",
    "\n",
    "\n",
    "\n",
    "\n",
    "def create_pattern(grid):\n",
    "    grid[2][3] = 1\n",
    "    grid[2][4] = 1\n",
    "    grid[2][5] = 1\n",
    "\n",
    "    \n",
    "def update(grid):\n",
    "    for i in grid:\n",
    "        for j in grid:\n",
    "            \n",
    "            neighbors = grid[i, j-1]\n",
    "    \n",
    "    \n",
    "create_pattern(grid)\n",
    "#update(grid)\n",
    "plt.matshow(grid)"
   ]
  },
  {
   "cell_type": "code",
   "execution_count": 2,
   "metadata": {},
   "outputs": [
    {
     "ename": "IndentationError",
     "evalue": "expected an indented block (<ipython-input-2-66b4c7061756>, line 20)",
     "output_type": "error",
     "traceback": [
      "\u001b[0;36m  File \u001b[0;32m\"<ipython-input-2-66b4c7061756>\"\u001b[0;36m, line \u001b[0;32m20\u001b[0m\n\u001b[0;31m    create_pattern()\u001b[0m\n\u001b[0m                 ^\u001b[0m\n\u001b[0;31mIndentationError\u001b[0m\u001b[0;31m:\u001b[0m expected an indented block\n"
     ]
    }
   ],
   "source": []
  },
  {
   "cell_type": "code",
   "execution_count": null,
   "metadata": {},
   "outputs": [],
   "source": [
    "# set up animation\n",
    "fig, ax = plt.subplots()\n",
    "mat = ax.matshow(grid)\n",
    "ani = animation.FuncAnimation(fig, update, interval=50, save_count=50)\n",
    "plt.show()"
   ]
  },
  {
   "cell_type": "code",
   "execution_count": null,
   "metadata": {},
   "outputs": [],
   "source": []
  }
 ],
 "metadata": {
  "kernelspec": {
   "display_name": ".virtualenvs",
   "language": "python",
   "name": ".virtualenvs"
  },
  "language_info": {
   "codemirror_mode": {
    "name": "ipython",
    "version": 3
   },
   "file_extension": ".py",
   "mimetype": "text/x-python",
   "name": "python",
   "nbconvert_exporter": "python",
   "pygments_lexer": "ipython3",
   "version": "3.6.9"
  }
 },
 "nbformat": 4,
 "nbformat_minor": 4
}
