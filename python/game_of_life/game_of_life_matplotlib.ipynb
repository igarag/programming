{
 "cells": [
  {
   "cell_type": "code",
   "execution_count": 1,
   "metadata": {},
   "outputs": [],
   "source": [
    "import numpy as np\n",
    "import time\n",
    "import matplotlib.pyplot as plt\n",
    "import matplotlib.animation as animation "
   ]
  },
  {
   "cell_type": "code",
   "execution_count": 5,
   "metadata": {},
   "outputs": [
    {
     "data": {
      "text/plain": [
       "<matplotlib.image.AxesImage at 0x7f31da110080>"
      ]
     },
     "execution_count": 5,
     "metadata": {},
     "output_type": "execute_result"
    },
    {
     "data": {
      "image/png": "[encoded data removed]",
      "text/plain": [
       "<Figure size 288x288 with 1 Axes>"
      ]
     },
     "metadata": {
      "needs_background": "light"
     },
     "output_type": "display_data"
    }
   ],
   "source": [
    "ON = 1\n",
    "OFF = 0\n",
    "N = 10\n",
    "values = [ON, OFF]\n",
    "#grid = np.random.choice(values, N*N, p=[0.2, 0.8]).reshape(N, N)\n",
    "grid = np.zeros((N,N))\n",
    "\n",
    "\n",
    "def create_pattern(grid):\n",
    "    grid[2][3] = 1\n",
    "    grid[2][4] = 1\n",
    "    grid[2][5] = 1\n",
    "\n",
    "    \n",
    "def update(grid):\n",
    "    #print(\"grid size:\", grid.shape)\n",
    "    for i in range(1, grid.shape[0]-1):\n",
    "        for j in range(1, grid.shape[1]-1):\n",
    "            neighbors = grid[i-1, j] + grid[i, j+1] + grid[i-1, j-1] + grid[i-1, j] + grid[i, j-1] + grid[i, j+1] + grid[i-1, j+1] + grid[i+1, j+1]\n",
    "            #print(\"Neighbors: {}\".format(neighbors))\n",
    "            if grid[i, j] and neighbors < 2:\n",
    "                #print(\"Desactivate\")\n",
    "                grid[i, j] = OFF\n",
    "            elif grid[i, j] and neighbors == 3:\n",
    "                #print(\"Activate\")\n",
    "                grid[i, j] = ON\n",
    "                \n",
    "    time.sleep(0.5)\n",
    "    \n",
    "    \n",
    "    \n",
    "    \n",
    "create_pattern(grid)\n",
    "\n",
    "\n",
    "update(grid)\n",
    "plt.matshow(grid)"
   ]
  },
  {
   "cell_type": "code",
   "execution_count": 12,
   "metadata": {},
   "outputs": [
    {
     "data": {
      "text/plain": [
       "<matplotlib.image.AxesImage at 0x7f31d9549b70>"
      ]
     },
     "execution_count": 12,
     "metadata": {},
     "output_type": "execute_result"
    },
    {
     "data": {
      "image/png": "[encoded data removed]",
      "text/plain": [
       "<Figure size 288x288 with 1 Axes>"
      ]
     },
     "metadata": {
      "needs_background": "light"
     },
     "output_type": "display_data"
    }
   ],
   "source": [
    "update(grid)\n",
    "plt.matshow(grid)"
   ]
  },
  {
   "cell_type": "code",
   "execution_count": 8,
   "metadata": {},
   "outputs": [
    {
     "name": "stderr",
     "output_type": "stream",
     "text": [
      "Traceback (most recent call last):\n",
      "  File \"/home/nachoaz/.virtualenvs/super-venv/lib/python3.6/site-packages/matplotlib/cbook/__init__.py\", line 196, in process\n",
      "    func(*args, **kwargs)\n",
      "  File \"/home/nachoaz/.virtualenvs/super-venv/lib/python3.6/site-packages/matplotlib/animation.py\", line 951, in _start\n",
      "    self._init_draw()\n",
      "  File \"/home/nachoaz/.virtualenvs/super-venv/lib/python3.6/site-packages/matplotlib/animation.py\", line 1743, in _init_draw\n",
      "    self._draw_frame(next(self.new_frame_seq()))\n",
      "  File \"/home/nachoaz/.virtualenvs/super-venv/lib/python3.6/site-packages/matplotlib/animation.py\", line 1766, in _draw_frame\n",
      "    self._drawn_artists = self._func(framedata, *self._args)\n",
      "  File \"<ipython-input-5-11cdfceb7f37>\", line 17, in update\n",
      "    for i in range(1, grid.shape[0]-1):\n",
      "AttributeError: 'int' object has no attribute 'shape'\n"
     ]
    },
    {
     "data": {
      "image/png": "[encoded data removed]",
      "text/plain": [
       "<Figure size 432x288 with 1 Axes>"
      ]
     },
     "metadata": {
      "needs_background": "light"
     },
     "output_type": "display_data"
    }
   ],
   "source": [
    "# set up animation\n",
    "fig, ax = plt.subplots()\n",
    "mat = ax.matshow(grid)\n",
    "ani = animation.FuncAnimation(fig, update, interval=50, save_count=50)\n",
    "plt.show()"
   ]
  },
  {
   "cell_type": "code",
   "execution_count": null,
   "metadata": {},
   "outputs": [],
   "source": []
  }
 ],
 "metadata": {
  "kernelspec": {
   "display_name": ".virtualenvs",
   "language": "python",
   "name": ".virtualenvs"
  },
  "language_info": {
   "codemirror_mode": {
    "name": "ipython",
    "version": 3
   },
   "file_extension": ".py",
   "mimetype": "text/x-python",
   "name": "python",
   "nbconvert_exporter": "python",
   "pygments_lexer": "ipython3",
   "version": "3.6.9"
  }
 },
 "nbformat": 4,
 "nbformat_minor": 4
}
