{
 "cells": [
  {
   "cell_type": "markdown",
   "metadata": {},
   "source": [
    "# Singleton"
   ]
  },
  {
   "cell_type": "markdown",
   "metadata": {},
   "source": [
    "- `__class`  | Clase interna privada ya que en python no puede hacerse constructores privados.\n",
    "- `__init__` | Método de inicialización (__init__).\n",
    "- `__str__`  | Método que convierte el objeto a string para ver que está siempre en la misma **posición de memoria**.\n",
    "- `__new__`  | Creamos la instancia ya que se cumple la condicion de que no tenemos instancia. Una vez se pone a `True` esa condición ya no se instanciará más veces.\n",
    "- `__getattr__` y `__set_attr__` | También podemos ver que los getters y los setters son accedidos a través de __getattr__ y __setattr__ que llaman a los de la instancia."
   ]
  },
  {
   "cell_type": "code",
   "execution_count": null,
   "metadata": {},
   "outputs": [],
   "source": [
    "class SoyUnico(object):\n",
    "\n",
    "    class __SoyUnico:\n",
    "        def __init__(self):\n",
    "            self.nombre = None\n",
    "\n",
    "        def __str__(self):\n",
    "            return 'self' + ' ' + self.nombre\n",
    "\n",
    "    instance = None\n",
    "\n",
    "    def __new__(cls):\n",
    "        if not SoyUnico.instance:\n",
    "            SoyUnico.instance = SoyUnico.__SoyUnico()\n",
    "        return SoyUnico.instance\n",
    "\n",
    "    def __getattr__(self, nombre):\n",
    "        return getattr(self.instance, nombre)\n",
    "\n",
    "    def __setattr__(self, nombre, valor):\n",
    "        return setattr(self.instance, nombre, valor)\n",
    "\n",
    "\n",
    "pepe = SoyUnico()\n",
    "pepe.nombre = \"Pepe\"\n",
    "print(pepe)\n",
    "juan = SoyUnico()\n",
    "juan.nombre = \"Juan\"\n",
    "print(juan)\n",
    "\n",
    "\n",
    "print(\"print de pepe: {}\".format(pepe))\n",
    "print(\"print de juan: {}\".format(juan))"
   ]
  },
  {
   "cell_type": "code",
   "execution_count": null,
   "metadata": {},
   "outputs": [],
   "source": [
    "class SoyUnico(object):\n",
    "\n",
    "    __instance = None\n",
    "    nombre = None\n",
    "\n",
    "    def __str__(self):\n",
    "        return 'self' + ' ' + self.nombre\n",
    "\n",
    "    def __new__(cls):\n",
    "        if SoyUnico.__instance is None:\n",
    "            SoyUnico.__instance = object.__new__(cls)\n",
    "        return SoyUnico.__instance\n",
    "\n",
    "ricardo = SoyUnico()\n",
    "ricardo.nombre = \"Ricardo Moya\"\n",
    "print(ricardo)\n",
    "ramon = SoyUnico()\n",
    "ramon.nombre = \"Ramón Invarato\"\n",
    "print(ramon)\n",
    "\n",
    "print(ricardo)\n",
    "print(ramon)"
   ]
  },
  {
   "cell_type": "code",
   "execution_count": null,
   "metadata": {},
   "outputs": [],
   "source": []
  }
 ],
 "metadata": {
  "kernelspec": {
   "display_name": "Python 3",
   "language": "python",
   "name": "python3"
  },
  "language_info": {
   "codemirror_mode": {
    "name": "ipython",
    "version": 3
   },
   "file_extension": ".py",
   "mimetype": "text/x-python",
   "name": "python",
   "nbconvert_exporter": "python",
   "pygments_lexer": "ipython3",
   "version": "3.6.9"
  }
 },
 "nbformat": 4,
 "nbformat_minor": 4
}
